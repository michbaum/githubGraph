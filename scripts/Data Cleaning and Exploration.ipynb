{
 "cells": [
  {
   "cell_type": "code",
   "execution_count": null,
   "id": "prostate-syndrome",
   "metadata": {},
   "outputs": [],
   "source": [
    "import pandas as pd\n",
    "import numpy as np\n",
    "import matplotlib.pyplot as plt\n",
    "import seaborn as sns\n",
    "import missingno as msno\n",
    "from sklearn.neighbors import NearestNeighbors"
   ]
  },
  {
   "cell_type": "code",
   "execution_count": null,
   "id": "comfortable-saying",
   "metadata": {},
   "outputs": [],
   "source": [
    "# !pip install missingno"
   ]
  },
  {
   "cell_type": "markdown",
   "id": "pleased-botswana",
   "metadata": {},
   "source": [
    "## Repository Dataset Cleaning"
   ]
  },
  {
   "cell_type": "code",
   "execution_count": null,
   "id": "scenic-juice",
   "metadata": {},
   "outputs": [],
   "source": [
    "repos = pd.read_csv('data/repo_info_stop75.csv', index_col=0)"
   ]
  },
  {
   "cell_type": "code",
   "execution_count": null,
   "id": "together-shock",
   "metadata": {},
   "outputs": [],
   "source": [
    "repos.info()"
   ]
  },
  {
   "cell_type": "markdown",
   "id": "collect-silver",
   "metadata": {},
   "source": [
    "About 2000 repositories don't include a language. Because much of our analysis will be based on programming languages used, we will use listwise deletion.  "
   ]
  },
  {
   "cell_type": "code",
   "execution_count": null,
   "id": "popular-desire",
   "metadata": {},
   "outputs": [],
   "source": [
    "repos = repos.dropna()\n",
    "repos.describe()"
   ]
  },
  {
   "cell_type": "code",
   "execution_count": null,
   "id": "median-stations",
   "metadata": {},
   "outputs": [],
   "source": [
    "repos.boxplot()\n",
    "plt.show()"
   ]
  },
  {
   "cell_type": "markdown",
   "id": "crazy-radius",
   "metadata": {},
   "source": [
    "## GitHub Users Cleaning"
   ]
  },
  {
   "cell_type": "code",
   "execution_count": null,
   "id": "fiscal-title",
   "metadata": {},
   "outputs": [],
   "source": [
    "users = pd.read_csv('data/10_contributor_info_all.csv', index_col=0)"
   ]
  },
  {
   "cell_type": "code",
   "execution_count": null,
   "id": "animal-dublin",
   "metadata": {},
   "outputs": [],
   "source": [
    "users.info()"
   ]
  },
  {
   "cell_type": "code",
   "execution_count": null,
   "id": "desirable-identifier",
   "metadata": {},
   "outputs": [],
   "source": [
    "msno.heatmap(users)\n",
    "plt.show()"
   ]
  },
  {
   "cell_type": "code",
   "execution_count": null,
   "id": "prompt-label",
   "metadata": {},
   "outputs": [],
   "source": [
    "msno.matrix(users)\n",
    "plt.show()"
   ]
  },
  {
   "cell_type": "markdown",
   "id": "fiscal-representation",
   "metadata": {},
   "source": [
    "Using ResidentMario's missing data visualization module (https://github.com/ResidentMario/missingno) there is no nullity correlation to worry about seem in the heatmap as well as no pattern in the matrix visual. Therefore pairwise deletion will be used if a column with missing values is used in an analysis. \n",
    "Also `name`, `company`, `location`, `hireable` and `bio` are all user-set fields, therefore Missing Completely at Random and not due to data collection issues. "
   ]
  },
  {
   "cell_type": "code",
   "execution_count": null,
   "id": "solved-score",
   "metadata": {},
   "outputs": [],
   "source": [
    "users.describe()"
   ]
  },
  {
   "cell_type": "markdown",
   "id": "announced-orange",
   "metadata": {},
   "source": [
    "Now we look for duplicate users. Users that have the same name, location and company (could have common names in common locations that would otherwise be counted as duplicates). There are 140 people that have more than 1 GitHub account."
   ]
  },
  {
   "cell_type": "code",
   "execution_count": null,
   "id": "opposite-player",
   "metadata": {},
   "outputs": [],
   "source": [
    "name_counts = users.groupby(['location','name','company']).count()\n",
    "duplicates = name_counts[name_counts.login>1].sort_values('login',ascending=False)\n",
    "duplicates"
   ]
  },
  {
   "cell_type": "code",
   "execution_count": null,
   "id": "geological-settlement",
   "metadata": {},
   "outputs": [],
   "source": []
  }
 ],
 "metadata": {
  "kernelspec": {
   "display_name": "Python 3",
   "language": "python",
   "name": "python3"
  },
  "language_info": {
   "codemirror_mode": {
    "name": "ipython",
    "version": 3
   },
   "file_extension": ".py",
   "mimetype": "text/x-python",
   "name": "python",
   "nbconvert_exporter": "python",
   "pygments_lexer": "ipython3",
   "version": "3.7.9"
  }
 },
 "nbformat": 4,
 "nbformat_minor": 5
}

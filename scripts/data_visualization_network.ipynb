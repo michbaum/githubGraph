{
 "cells": [
  {
   "cell_type": "code",
   "execution_count": 178,
   "metadata": {},
   "outputs": [],
   "source": [
    "import altair as alt\n",
    "import pandas as pd\n",
    "from vega_datasets import data\n",
    "import networkx as nx\n",
    "import matplotlib.pyplot as plt\n",
    "import nx_altair as nxa\n",
    "from itertools import chain\n",
    "from pyvis.network import Network\n",
    "import numpy as np"
   ]
  },
  {
   "cell_type": "code",
   "execution_count": 179,
   "metadata": {},
   "outputs": [],
   "source": [
    "#!pip install nx_altair"
   ]
  },
  {
   "cell_type": "markdown",
   "metadata": {},
   "source": [
    "#### First visualization: Topics as nodes and connections by shared repositories\n",
    "Based on: https://altair-viz.github.io/gallery/airport_connections.html"
   ]
  },
  {
   "cell_type": "code",
   "execution_count": 303,
   "metadata": {},
   "outputs": [],
   "source": [
    "# Read our cleaned data\n",
    "repos = pd.read_csv('../cleaned_data/repo_info_stop75.csv', index_col=0).drop_duplicates(subset=['name'])\n",
    "contributors = pd.read_csv('../raw_data/10_contributor_info_all.csv', index_col=0).drop_duplicates(subset=['login'])\n",
    "repo_contrib_relation = pd.read_csv('../raw_data/repo_contributor_relationship_table_all.csv', index_col=0)\n",
    "repo_topic_relation = pd.read_csv('../cleaned_data/topic_relationship_table_stop75.csv', index_col=0).reset_index(drop=True)"
   ]
  },
  {
   "cell_type": "code",
   "execution_count": 181,
   "metadata": {},
   "outputs": [],
   "source": [
    "#get list of repos for each simplified topic\n",
    "u = repo_topic_relation.groupby(\"topic_simple\")[\"id\"].agg(list)\n",
    "\n",
    "#get list of topics included in each simplified topic\n",
    "t = repo_topic_relation.groupby(\"topic_simple\")[\"topic\"].agg(list)\n",
    "t1 = [(len(i),set(i)) for i in t]\n",
    "t1.sort()"
   ]
  },
  {
   "cell_type": "code",
   "execution_count": 182,
   "metadata": {},
   "outputs": [
    {
     "data": {
      "image/png": "[encoded data removed]",
      "text/plain": [
       "<Figure size 640x480 with 1 Axes>"
      ]
     },
     "metadata": {},
     "output_type": "display_data"
    }
   ],
   "source": [
    "# Make histogram of distibution of number of repositories that share a topic\n",
    "\n",
    "l = [(len(r),t, r) for t,r in zip(u.index, u)]\n",
    "l.sort()\n",
    "plt.hist([le for le, t, r in l[-100:]])\n",
    "plt.ylabel('Number of topics')\n",
    "plt.xlabel('Number of repos')\n",
    "plt.show()"
   ]
  },
  {
   "cell_type": "code",
   "execution_count": 244,
   "metadata": {},
   "outputs": [
    {
     "name": "stdout",
     "output_type": "stream",
     "text": [
      "Number of edges found: 184 . Number of topics included: 200\n"
     ]
    }
   ],
   "source": [
    "#create a set of edges to build of a graph from, where two topics will have an edge if the number of shared repositories is above a threshold\n",
    "\n",
    "threshold = 30 # number of repos shared between two topics to have an edge\n",
    "top_n = 200 # number of topics to look at\n",
    "\n",
    "edges = set()\n",
    "topics = [(le,t) for le,t,r in l[-top_n:]]\n",
    "topics.sort(reverse=True)\n",
    "\n",
    "\n",
    "for l1, topic1, repo1 in l[-top_n:]:\n",
    "    for l2, topic2, repo2 in l[-top_n:]:\n",
    "        shared_repos = len(set(repo1)&set(repo2))\n",
    "        if (topic1 != topic2) & (shared_repos>threshold) & ((topic1,topic2,shared_repos) not in edges) & ((topic2,topic1,shared_repos) not in edges):\n",
    "            edges.add((topic1,topic2,shared_repos))\n",
    "print('Number of edges found:', len(edges), '. Number of topics included:',top_n)           "
   ]
  },
  {
   "cell_type": "code",
   "execution_count": 262,
   "metadata": {},
   "outputs": [],
   "source": [
    "#colors = ['3FEDED','2B8FD2','4A2A25','2A3601','16D64D','08195A','9BC30E','7DB78F','FD70F9','BFB7D1','AFC63B','F7DD27','104DEF','61731A','09CEA8','46D722','53E5ED','C1C45E','6D4EA3','FF74C4','B053B5','235FDC','015DEE','7D0BDF','AD86A9','0F91A9','11D2E7','6E1EA7','6D7333','68C333','B40834','D3C6C1','37F46C','A56AC4','D33DA5','0141CB','1F4F65','374D37']\n",
    "#color_searchword_dict = dict(topics[i]:colors[i] for i in range(len(topics)))\n",
    "boldLabel_lim = topics[round(top_n/10)][0]\n",
    "\n",
    "G = nx.Graph(nodes=topics)\n",
    "for le, t in topics:\n",
    "    if le>boldLabel_lim:\n",
    "        G.add_node(t, name=t, size=le*0.03, mass=le*0.005, bold=True)\n",
    "    else:\n",
    "        G.add_node(t, name=t, size=le*0.03, mass=le*0.005)\n",
    "\n",
    "for e in edges:\n",
    "    G.add_edge(e[0],e[1],width=e[2]*0.03)"
   ]
  },
  {
   "cell_type": "code",
   "execution_count": 263,
   "metadata": {},
   "outputs": [
    {
     "data": {
      "text/html": [
       "\n",
       "        <iframe\n",
       "            width=\"800\"\n",
       "            height=\"800\"\n",
       "            src=\"example.html\"\n",
       "            frameborder=\"0\"\n",
       "            allowfullscreen\n",
       "            \n",
       "        ></iframe>\n",
       "        "
      ],
      "text/plain": [
       "<IPython.lib.display.IFrame at 0x7f9240c1fa10>"
      ]
     },
     "execution_count": 263,
     "metadata": {},
     "output_type": "execute_result"
    }
   ],
   "source": [
    "net = Network(height=800, width=800, notebook=True)\n",
    "net.from_nx(G)\n",
    "net.toggle_physics(True)\n",
    "options = {\n",
    "          \"edges\":{\n",
    "              \"color\":{\"inherit\": True},\n",
    "              \"font\":{\"size\":0},\n",
    "              \"smooth\":False\n",
    "          },\n",
    "          \"interaction\":{   \n",
    "               \"selectConnectedEdges\": True\n",
    "\n",
    "}}\n",
    "net.options=options\n",
    "#net.show_buttons(filter_='edges')\n",
    "net.show('example.html')"
   ]
  },
  {
   "cell_type": "code",
   "execution_count": 209,
   "metadata": {},
   "outputs": [
    {
     "data": {
      "text/html": [
       "\n",
       "<div id=\"altair-viz-492f67522698403ba3aaf0fbcf559504\"></div>\n",
       "<script type=\"text/javascript\">\n",
       "  var VEGA_DEBUG = (typeof VEGA_DEBUG == \"undefined\") ? {} : VEGA_DEBUG;\n",
       "  (function(spec, embedOpt){\n",
       "    let outputDiv = document.currentScript.previousElementSibling;\n",
       "    if (outputDiv.id !== \"altair-viz-492f67522698403ba3aaf0fbcf559504\") {\n",
       "      outputDiv = document.getElementById(\"altair-viz-492f67522698403ba3aaf0fbcf559504\");\n",
       "    }\n",
       "    const paths = {\n",
       "      \"vega\": \"https://cdn.jsdelivr.net/npm//vega@5?noext\",\n",
       "      \"vega-lib\": \"https://cdn.jsdelivr.net/npm//vega-lib?noext\",\n",
       "      \"vega-lite\": \"https://cdn.jsdelivr.net/npm//vega-lite@4.17.0?noext\",\n",
       "      \"vega-embed\": \"https://cdn.jsdelivr.net/npm//vega-embed@6?noext\",\n",
       "    };\n",
       "\n",
       "    function maybeLoadScript(lib, version) {\n",
       "      var key = `${lib.replace(\"-\", \"\")}_version`;\n",
       "      return (VEGA_DEBUG[key] == version) ?\n",
       "        Promise.resolve(paths[lib]) :\n",
       "        new Promise(function(resolve, reject) {\n",
       "          var s = document.createElement('script');\n",
       "          document.getElementsByTagName(\"head\")[0].appendChild(s);\n",
       "          s.async = true;\n",
       "          s.onload = () => {\n",
       "            VEGA_DEBUG[key] = version;\n",
       "            return resolve(paths[lib]);\n",
       "          };\n",
       "          s.onerror = () => reject(`Error loading script: ${paths[lib]}`);\n",
       "          s.src = paths[lib];\n",
       "        });\n",
       "    }\n",
       "\n",
       "    function showError(err) {\n",
       "      outputDiv.innerHTML = `<div class=\"error\" style=\"color:red;\">${err}</div>`;\n",
       "      throw err;\n",
       "    }\n",
       "\n",
       "    function displayChart(vegaEmbed) {\n",
       "      vegaEmbed(outputDiv, spec, embedOpt)\n",
       "        .catch(err => showError(`Javascript Error: ${err.message}<br>This usually means there's a typo in your chart specification. See the javascript console for the full traceback.`));\n",
       "    }\n",
       "\n",
       "    if(typeof define === \"function\" && define.amd) {\n",
       "      requirejs.config({paths});\n",
       "      require([\"vega-embed\"], displayChart, err => showError(`Error loading script: ${err.message}`));\n",
       "    } else {\n",
       "      maybeLoadScript(\"vega\", \"5\")\n",
       "        .then(() => maybeLoadScript(\"vega-lite\", \"4.17.0\"))\n",
       "        .then(() => maybeLoadScript(\"vega-embed\", \"6\"))\n",
       "        .catch(showError)\n",
       "        .then(() => displayChart(vegaEmbed));\n",
       "    }\n",
       "  })({\"config\": {\"view\": {\"continuousWidth\": 400, \"continuousHeight\": 300, \"strokeWidth\": 0}}, \"layer\": [{\"data\": {\"name\": \"data-2c77cb655bb13ec72d49ed58375971ac\"}, \"mark\": {\"type\": \"line\", \"color\": \"gray\"}, \"encoding\": {\"detail\": {\"field\": \"edge_id\", \"type\": \"nominal\"}, \"x\": {\"axis\": null, \"field\": \"x\", \"type\": \"quantitative\"}, \"y\": {\"axis\": null, \"field\": \"y\", \"type\": \"quantitative\"}}, \"transform\": [{\"lookup\": \"node_id\", \"from\": {\"data\": {\"name\": \"data-ba6f4b4ed60a2c24c3849fcd30251bbf\"}, \"key\": \"node_id\", \"fields\": [\"x\", \"y\"]}}]}, {\"data\": {\"name\": \"data-57c35c7495ece9e13b4823c3ac689215\"}, \"mark\": {\"type\": \"circle\", \"opacity\": 1, \"size\": 300}, \"encoding\": {\"color\": {\"field\": \"rank\", \"legend\": null, \"type\": \"nominal\"}, \"x\": {\"axis\": null, \"field\": \"x\", \"type\": \"quantitative\"}, \"y\": {\"axis\": null, \"field\": \"y\", \"type\": \"quantitative\"}}, \"selection\": {\"selector047\": {\"type\": \"single\", \"on\": \"mouseover\", \"nearest\": true, \"fields\": [\"name\"], \"empty\": \"none\"}}, \"transform\": [{\"lookup\": \"node_id\", \"from\": {\"data\": {\"name\": \"data-ba6f4b4ed60a2c24c3849fcd30251bbf\"}, \"key\": \"node_id\", \"fields\": [\"x\", \"y\"]}}]}], \"height\": 500, \"width\": 900, \"$schema\": \"https://vega.github.io/schema/vega-lite/v4.17.0.json\", \"datasets\": {\"data-2c77cb655bb13ec72d49ed58375971ac\": [{\"weight\": 30, \"edge_id\": 0, \"end\": \"source\", \"node_id\": \"flask\"}, {\"weight\": 30, \"edge_id\": 0, \"end\": \"target\", \"node_id\": \"machin\"}, {\"weight\": 40, \"edge_id\": 1, \"end\": \"source\", \"node_id\": \"flask\"}, {\"weight\": 40, \"edge_id\": 1, \"end\": \"target\", \"node_id\": \"hacktoberfest\"}, {\"weight\": 1300, \"edge_id\": 2, \"end\": \"source\", \"node_id\": \"flask\"}, {\"weight\": 1300, \"edge_id\": 2, \"end\": \"target\", \"node_id\": \"flask\"}, {\"weight\": 20, \"edge_id\": 3, \"end\": \"source\", \"node_id\": \"flask\"}, {\"weight\": 20, \"edge_id\": 3, \"end\": \"target\", \"node_id\": \"data\"}, {\"weight\": 45, \"edge_id\": 4, \"end\": \"source\", \"node_id\": \"flask\"}, {\"weight\": 45, \"edge_id\": 4, \"end\": \"target\", \"node_id\": \"react\"}, {\"weight\": 45, \"edge_id\": 5, \"end\": \"source\", \"node_id\": \"flask\"}, {\"weight\": 45, \"edge_id\": 5, \"end\": \"target\", \"node_id\": \"bootstrap\"}, {\"weight\": 25, \"edge_id\": 6, \"end\": \"source\", \"node_id\": \"flask\"}, {\"weight\": 25, \"edge_id\": 6, \"end\": \"target\", \"node_id\": \"deep\"}, {\"weight\": 35, \"edge_id\": 7, \"end\": \"source\", \"node_id\": \"flask\"}, {\"weight\": 35, \"edge_id\": 7, \"end\": \"target\", \"node_id\": \"json\"}, {\"weight\": 25, \"edge_id\": 8, \"end\": \"source\", \"node_id\": \"flask\"}, {\"weight\": 25, \"edge_id\": 8, \"end\": \"target\", \"node_id\": \"javascript\"}, {\"weight\": 780, \"edge_id\": 9, \"end\": \"source\", \"node_id\": \"flask\"}, {\"weight\": 780, \"edge_id\": 9, \"end\": \"target\", \"node_id\": \"python\"}, {\"weight\": 360, \"edge_id\": 10, \"end\": \"source\", \"node_id\": \"react\"}, {\"weight\": 360, \"edge_id\": 10, \"end\": \"target\", \"node_id\": \"javascript\"}, {\"weight\": 70, \"edge_id\": 11, \"end\": \"source\", \"node_id\": \"react\"}, {\"weight\": 70, \"edge_id\": 11, \"end\": \"target\", \"node_id\": \"aw\"}, {\"weight\": 135, \"edge_id\": 12, \"end\": \"source\", \"node_id\": \"react\"}, {\"weight\": 135, \"edge_id\": 12, \"end\": \"target\", \"node_id\": \"hacktoberfest\"}, {\"weight\": 65, \"edge_id\": 13, \"end\": \"source\", \"node_id\": \"react\"}, {\"weight\": 65, \"edge_id\": 13, \"end\": \"target\", \"node_id\": \"bootstrap\"}, {\"weight\": 50, \"edge_id\": 14, \"end\": \"source\", \"node_id\": \"react\"}, {\"weight\": 50, \"edge_id\": 14, \"end\": \"target\", \"node_id\": \"json\"}, {\"weight\": 15, \"edge_id\": 15, \"end\": \"source\", \"node_id\": \"react\"}, {\"weight\": 15, \"edge_id\": 15, \"end\": \"target\", \"node_id\": \"azur\"}, {\"weight\": 115, \"edge_id\": 16, \"end\": \"source\", \"node_id\": \"react\"}, {\"weight\": 115, \"edge_id\": 16, \"end\": \"target\", \"node_id\": \"io\"}, {\"weight\": 65, \"edge_id\": 17, \"end\": \"source\", \"node_id\": \"react\"}, {\"weight\": 65, \"edge_id\": 17, \"end\": \"target\", \"node_id\": \"googl\"}, {\"weight\": 30, \"edge_id\": 18, \"end\": \"source\", \"node_id\": \"react\"}, {\"weight\": 30, \"edge_id\": 18, \"end\": \"target\", \"node_id\": \"window\"}, {\"weight\": 35, \"edge_id\": 19, \"end\": \"source\", \"node_id\": \"react\"}, {\"weight\": 35, \"edge_id\": 19, \"end\": \"target\", \"node_id\": \"python\"}, {\"weight\": 1420, \"edge_id\": 20, \"end\": \"source\", \"node_id\": \"react\"}, {\"weight\": 1420, \"edge_id\": 20, \"end\": \"target\", \"node_id\": \"react\"}, {\"weight\": 100, \"edge_id\": 21, \"end\": \"source\", \"node_id\": \"react\"}, {\"weight\": 100, \"edge_id\": 21, \"end\": \"target\", \"node_id\": \"data\"}, {\"weight\": 115, \"edge_id\": 22, \"end\": \"source\", \"node_id\": \"react\"}, {\"weight\": 115, \"edge_id\": 22, \"end\": \"target\", \"node_id\": \"android\"}, {\"weight\": 30, \"edge_id\": 23, \"end\": \"source\", \"node_id\": \"react\"}, {\"weight\": 30, \"edge_id\": 23, \"end\": \"target\", \"node_id\": \"maco\"}, {\"weight\": 75, \"edge_id\": 24, \"end\": \"source\", \"node_id\": \"window\"}, {\"weight\": 75, \"edge_id\": 24, \"end\": \"target\", \"node_id\": \"javascript\"}, {\"weight\": 135, \"edge_id\": 25, \"end\": \"source\", \"node_id\": \"window\"}, {\"weight\": 135, \"edge_id\": 25, \"end\": \"target\", \"node_id\": \"c\"}, {\"weight\": 25, \"edge_id\": 26, \"end\": \"source\", \"node_id\": \"window\"}, {\"weight\": 25, \"edge_id\": 26, \"end\": \"target\", \"node_id\": \"java\"}, {\"weight\": 90, \"edge_id\": 27, \"end\": \"source\", \"node_id\": \"window\"}, {\"weight\": 90, \"edge_id\": 27, \"end\": \"target\", \"node_id\": \"hacktoberfest\"}, {\"weight\": 95, \"edge_id\": 28, \"end\": \"source\", \"node_id\": \"window\"}, {\"weight\": 95, \"edge_id\": 28, \"end\": \"target\", \"node_id\": \"python\"}, {\"weight\": 75, \"edge_id\": 29, \"end\": \"source\", \"node_id\": \"window\"}, {\"weight\": 75, \"edge_id\": 29, \"end\": \"target\", \"node_id\": \"io\"}, {\"weight\": 15, \"edge_id\": 30, \"end\": \"source\", \"node_id\": \"window\"}, {\"weight\": 15, \"edge_id\": 30, \"end\": \"target\", \"node_id\": \"aw\"}, {\"weight\": 110, \"edge_id\": 31, \"end\": \"source\", \"node_id\": \"window\"}, {\"weight\": 110, \"edge_id\": 31, \"end\": \"target\", \"node_id\": \"android\"}, {\"weight\": 1430, \"edge_id\": 32, \"end\": \"source\", \"node_id\": \"window\"}, {\"weight\": 1430, \"edge_id\": 32, \"end\": \"target\", \"node_id\": \"window\"}, {\"weight\": 260, \"edge_id\": 33, \"end\": \"source\", \"node_id\": \"window\"}, {\"weight\": 260, \"edge_id\": 33, \"end\": \"target\", \"node_id\": \"maco\"}, {\"weight\": 20, \"edge_id\": 34, \"end\": \"source\", \"node_id\": \"window\"}, {\"weight\": 20, \"edge_id\": 34, \"end\": \"target\", \"node_id\": \"googl\"}, {\"weight\": 30, \"edge_id\": 35, \"end\": \"source\", \"node_id\": \"window\"}, {\"weight\": 30, \"edge_id\": 35, \"end\": \"target\", \"node_id\": \"azur\"}, {\"weight\": 70, \"edge_id\": 36, \"end\": \"source\", \"node_id\": \"java\"}, {\"weight\": 70, \"edge_id\": 36, \"end\": \"target\", \"node_id\": \"machin\"}, {\"weight\": 85, \"edge_id\": 37, \"end\": \"source\", \"node_id\": \"java\"}, {\"weight\": 85, \"edge_id\": 37, \"end\": \"target\", \"node_id\": \"json\"}, {\"weight\": 205, \"edge_id\": 38, \"end\": \"source\", \"node_id\": \"java\"}, {\"weight\": 205, \"edge_id\": 38, \"end\": \"target\", \"node_id\": \"hacktoberfest\"}, {\"weight\": 40, \"edge_id\": 39, \"end\": \"source\", \"node_id\": \"java\"}, {\"weight\": 40, \"edge_id\": 39, \"end\": \"target\", \"node_id\": \"deep\"}, {\"weight\": 190, \"edge_id\": 40, \"end\": \"source\", \"node_id\": \"java\"}, {\"weight\": 190, \"edge_id\": 40, \"end\": \"target\", \"node_id\": \"python\"}, {\"weight\": 40, \"edge_id\": 41, \"end\": \"source\", \"node_id\": \"java\"}, {\"weight\": 40, \"edge_id\": 41, \"end\": \"target\", \"node_id\": \"io\"}, {\"weight\": 35, \"edge_id\": 42, \"end\": \"source\", \"node_id\": \"java\"}, {\"weight\": 35, \"edge_id\": 42, \"end\": \"target\", \"node_id\": \"maco\"}, {\"weight\": 305, \"edge_id\": 43, \"end\": \"source\", \"node_id\": \"java\"}, {\"weight\": 305, \"edge_id\": 43, \"end\": \"target\", \"node_id\": \"algorithm\"}, {\"weight\": 140, \"edge_id\": 44, \"end\": \"source\", \"node_id\": \"java\"}, {\"weight\": 140, \"edge_id\": 44, \"end\": \"target\", \"node_id\": \"javascript\"}, {\"weight\": 455, \"edge_id\": 45, \"end\": \"source\", \"node_id\": \"java\"}, {\"weight\": 455, \"edge_id\": 45, \"end\": \"target\", \"node_id\": \"android\"}, {\"weight\": 50, \"edge_id\": 46, \"end\": \"source\", \"node_id\": \"java\"}, {\"weight\": 50, \"edge_id\": 46, \"end\": \"target\", \"node_id\": \"googl\"}, {\"weight\": 1860, \"edge_id\": 47, \"end\": \"source\", \"node_id\": \"java\"}, {\"weight\": 1860, \"edge_id\": 47, \"end\": \"target\", \"node_id\": \"java\"}, {\"weight\": 40, \"edge_id\": 48, \"end\": \"source\", \"node_id\": \"java\"}, {\"weight\": 40, \"edge_id\": 48, \"end\": \"target\", \"node_id\": \"azur\"}, {\"weight\": 70, \"edge_id\": 49, \"end\": \"source\", \"node_id\": \"java\"}, {\"weight\": 70, \"edge_id\": 49, \"end\": \"target\", \"node_id\": \"aw\"}, {\"weight\": 180, \"edge_id\": 50, \"end\": \"source\", \"node_id\": \"java\"}, {\"weight\": 180, \"edge_id\": 50, \"end\": \"target\", \"node_id\": \"data\"}, {\"weight\": 155, \"edge_id\": 51, \"end\": \"source\", \"node_id\": \"java\"}, {\"weight\": 155, \"edge_id\": 51, \"end\": \"target\", \"node_id\": \"c\"}, {\"weight\": 360, \"edge_id\": 52, \"end\": \"source\", \"node_id\": \"maco\"}, {\"weight\": 360, \"edge_id\": 52, \"end\": \"target\", \"node_id\": \"io\"}, {\"weight\": 85, \"edge_id\": 53, \"end\": \"source\", \"node_id\": \"maco\"}, {\"weight\": 85, \"edge_id\": 53, \"end\": \"target\", \"node_id\": \"c\"}, {\"weight\": 75, \"edge_id\": 54, \"end\": \"source\", \"node_id\": \"maco\"}, {\"weight\": 75, \"edge_id\": 54, \"end\": \"target\", \"node_id\": \"javascript\"}, {\"weight\": 15, \"edge_id\": 55, \"end\": \"source\", \"node_id\": \"maco\"}, {\"weight\": 15, \"edge_id\": 55, \"end\": \"target\", \"node_id\": \"machin\"}, {\"weight\": 70, \"edge_id\": 56, \"end\": \"source\", \"node_id\": \"maco\"}, {\"weight\": 70, \"edge_id\": 56, \"end\": \"target\", \"node_id\": \"python\"}, {\"weight\": 20, \"edge_id\": 57, \"end\": \"source\", \"node_id\": \"maco\"}, {\"weight\": 20, \"edge_id\": 57, \"end\": \"target\", \"node_id\": \"json\"}, {\"weight\": 95, \"edge_id\": 58, \"end\": \"source\", \"node_id\": \"maco\"}, {\"weight\": 95, \"edge_id\": 58, \"end\": \"target\", \"node_id\": \"hacktoberfest\"}, {\"weight\": 90, \"edge_id\": 59, \"end\": \"source\", \"node_id\": \"maco\"}, {\"weight\": 90, \"edge_id\": 59, \"end\": \"target\", \"node_id\": \"android\"}, {\"weight\": 30, \"edge_id\": 60, \"end\": \"source\", \"node_id\": \"maco\"}, {\"weight\": 30, \"edge_id\": 60, \"end\": \"target\", \"node_id\": \"googl\"}, {\"weight\": 1830, \"edge_id\": 61, \"end\": \"source\", \"node_id\": \"maco\"}, {\"weight\": 1830, \"edge_id\": 61, \"end\": \"target\", \"node_id\": \"maco\"}, {\"weight\": 110, \"edge_id\": 62, \"end\": \"source\", \"node_id\": \"googl\"}, {\"weight\": 110, \"edge_id\": 62, \"end\": \"target\", \"node_id\": \"javascript\"}, {\"weight\": 30, \"edge_id\": 63, \"end\": \"source\", \"node_id\": \"googl\"}, {\"weight\": 30, \"edge_id\": 63, \"end\": \"target\", \"node_id\": \"data\"}, {\"weight\": 1405, \"edge_id\": 64, \"end\": \"source\", \"node_id\": \"googl\"}, {\"weight\": 1405, \"edge_id\": 64, \"end\": \"target\", \"node_id\": \"googl\"}, {\"weight\": 135, \"edge_id\": 65, \"end\": \"source\", \"node_id\": \"googl\"}, {\"weight\": 135, \"edge_id\": 65, \"end\": \"target\", \"node_id\": \"python\"}, {\"weight\": 65, \"edge_id\": 66, \"end\": \"source\", \"node_id\": \"googl\"}, {\"weight\": 65, \"edge_id\": 66, \"end\": \"target\", \"node_id\": \"machin\"}, {\"weight\": 30, \"edge_id\": 67, \"end\": \"source\", \"node_id\": \"googl\"}, {\"weight\": 30, \"edge_id\": 67, \"end\": \"target\", \"node_id\": \"hacktoberfest\"}, {\"weight\": 60, \"edge_id\": 68, \"end\": \"source\", \"node_id\": \"googl\"}, {\"weight\": 60, \"edge_id\": 68, \"end\": \"target\", \"node_id\": \"android\"}, {\"weight\": 40, \"edge_id\": 69, \"end\": \"source\", \"node_id\": \"googl\"}, {\"weight\": 40, \"edge_id\": 69, \"end\": \"target\", \"node_id\": \"deep\"}, {\"weight\": 25, \"edge_id\": 70, \"end\": \"source\", \"node_id\": \"googl\"}, {\"weight\": 25, \"edge_id\": 70, \"end\": \"target\", \"node_id\": \"aw\"}, {\"weight\": 15, \"edge_id\": 71, \"end\": \"source\", \"node_id\": \"googl\"}, {\"weight\": 15, \"edge_id\": 71, \"end\": \"target\", \"node_id\": \"bootstrap\"}, {\"weight\": 40, \"edge_id\": 72, \"end\": \"source\", \"node_id\": \"googl\"}, {\"weight\": 40, \"edge_id\": 72, \"end\": \"target\", \"node_id\": \"io\"}, {\"weight\": 25, \"edge_id\": 73, \"end\": \"source\", \"node_id\": \"googl\"}, {\"weight\": 25, \"edge_id\": 73, \"end\": \"target\", \"node_id\": \"algorithm\"}, {\"weight\": 25, \"edge_id\": 74, \"end\": \"source\", \"node_id\": \"googl\"}, {\"weight\": 25, \"edge_id\": 74, \"end\": \"target\", \"node_id\": \"c\"}, {\"weight\": 20, \"edge_id\": 75, \"end\": \"source\", \"node_id\": \"googl\"}, {\"weight\": 20, \"edge_id\": 75, \"end\": \"target\", \"node_id\": \"azur\"}, {\"weight\": 175, \"edge_id\": 76, \"end\": \"source\", \"node_id\": \"c\"}, {\"weight\": 175, \"edge_id\": 76, \"end\": \"target\", \"node_id\": \"data\"}, {\"weight\": 45, \"edge_id\": 77, \"end\": \"source\", \"node_id\": \"c\"}, {\"weight\": 45, \"edge_id\": 77, \"end\": \"target\", \"node_id\": \"io\"}, {\"weight\": 30, \"edge_id\": 78, \"end\": \"source\", \"node_id\": \"c\"}, {\"weight\": 30, \"edge_id\": 78, \"end\": \"target\", \"node_id\": \"deep\"}, {\"weight\": 115, \"edge_id\": 79, \"end\": \"source\", \"node_id\": \"c\"}, {\"weight\": 115, \"edge_id\": 79, \"end\": \"target\", \"node_id\": \"json\"}, {\"weight\": 35, \"edge_id\": 80, \"end\": \"source\", \"node_id\": \"c\"}, {\"weight\": 35, \"edge_id\": 80, \"end\": \"target\", \"node_id\": \"azur\"}, {\"weight\": 55, \"edge_id\": 81, \"end\": \"source\", \"node_id\": \"c\"}, {\"weight\": 55, \"edge_id\": 81, \"end\": \"target\", \"node_id\": \"android\"}, {\"weight\": 235, \"edge_id\": 82, \"end\": \"source\", \"node_id\": \"c\"}, {\"weight\": 235, \"edge_id\": 82, \"end\": \"target\", \"node_id\": \"algorithm\"}, {\"weight\": 225, \"edge_id\": 83, \"end\": \"source\", \"node_id\": \"c\"}, {\"weight\": 225, \"edge_id\": 83, \"end\": \"target\", \"node_id\": \"python\"}, {\"weight\": 1955, \"edge_id\": 84, \"end\": \"source\", \"node_id\": \"c\"}, {\"weight\": 1955, \"edge_id\": 84, \"end\": \"target\", \"node_id\": \"c\"}, {\"weight\": 110, \"edge_id\": 85, \"end\": \"source\", \"node_id\": \"c\"}, {\"weight\": 110, \"edge_id\": 85, \"end\": \"target\", \"node_id\": \"javascript\"}, {\"weight\": 60, \"edge_id\": 86, \"end\": \"source\", \"node_id\": \"c\"}, {\"weight\": 60, \"edge_id\": 86, \"end\": \"target\", \"node_id\": \"machin\"}, {\"weight\": 195, \"edge_id\": 87, \"end\": \"source\", \"node_id\": \"c\"}, {\"weight\": 195, \"edge_id\": 87, \"end\": \"target\", \"node_id\": \"hacktoberfest\"}, {\"weight\": 30, \"edge_id\": 88, \"end\": \"source\", \"node_id\": \"bootstrap\"}, {\"weight\": 30, \"edge_id\": 88, \"end\": \"target\", \"node_id\": \"json\"}, {\"weight\": 80, \"edge_id\": 89, \"end\": \"source\", \"node_id\": \"bootstrap\"}, {\"weight\": 80, \"edge_id\": 89, \"end\": \"target\", \"node_id\": \"hacktoberfest\"}, {\"weight\": 1135, \"edge_id\": 90, \"end\": \"source\", \"node_id\": \"bootstrap\"}, {\"weight\": 1135, \"edge_id\": 90, \"end\": \"target\", \"node_id\": \"bootstrap\"}, {\"weight\": 65, \"edge_id\": 91, \"end\": \"source\", \"node_id\": \"bootstrap\"}, {\"weight\": 65, \"edge_id\": 91, \"end\": \"target\", \"node_id\": \"python\"}, {\"weight\": 195, \"edge_id\": 92, \"end\": \"source\", \"node_id\": \"bootstrap\"}, {\"weight\": 195, \"edge_id\": 92, \"end\": \"target\", \"node_id\": \"javascript\"}, {\"weight\": 480, \"edge_id\": 93, \"end\": \"source\", \"node_id\": \"io\"}, {\"weight\": 480, \"edge_id\": 93, \"end\": \"target\", \"node_id\": \"android\"}, {\"weight\": 25, \"edge_id\": 94, \"end\": \"source\", \"node_id\": \"io\"}, {\"weight\": 25, \"edge_id\": 94, \"end\": \"target\", \"node_id\": \"machin\"}, {\"weight\": 80, \"edge_id\": 95, \"end\": \"source\", \"node_id\": \"io\"}, {\"weight\": 80, \"edge_id\": 95, \"end\": \"target\", \"node_id\": \"javascript\"}, {\"weight\": 1910, \"edge_id\": 96, \"end\": \"source\", \"node_id\": \"io\"}, {\"weight\": 1910, \"edge_id\": 96, \"end\": \"target\", \"node_id\": \"io\"}, {\"weight\": 125, \"edge_id\": 97, \"end\": \"source\", \"node_id\": \"io\"}, {\"weight\": 125, \"edge_id\": 97, \"end\": \"target\", \"node_id\": \"hacktoberfest\"}, {\"weight\": 35, \"edge_id\": 98, \"end\": \"source\", \"node_id\": \"io\"}, {\"weight\": 35, \"edge_id\": 98, \"end\": \"target\", \"node_id\": \"deep\"}, {\"weight\": 25, \"edge_id\": 99, \"end\": \"source\", \"node_id\": \"io\"}, {\"weight\": 25, \"edge_id\": 99, \"end\": \"target\", \"node_id\": \"json\"}, {\"weight\": 50, \"edge_id\": 100, \"end\": \"source\", \"node_id\": \"io\"}, {\"weight\": 50, \"edge_id\": 100, \"end\": \"target\", \"node_id\": \"python\"}, {\"weight\": 155, \"edge_id\": 101, \"end\": \"source\", \"node_id\": \"json\"}, {\"weight\": 155, \"edge_id\": 101, \"end\": \"target\", \"node_id\": \"python\"}, {\"weight\": 45, \"edge_id\": 102, \"end\": \"source\", \"node_id\": \"json\"}, {\"weight\": 45, \"edge_id\": 102, \"end\": \"target\", \"node_id\": \"data\"}, {\"weight\": 40, \"edge_id\": 103, \"end\": \"source\", \"node_id\": \"json\"}, {\"weight\": 40, \"edge_id\": 103, \"end\": \"target\", \"node_id\": \"android\"}, {\"weight\": 15, \"edge_id\": 104, \"end\": \"source\", \"node_id\": \"json\"}, {\"weight\": 15, \"edge_id\": 104, \"end\": \"target\", \"node_id\": \"aw\"}, {\"weight\": 145, \"edge_id\": 105, \"end\": \"source\", \"node_id\": \"json\"}, {\"weight\": 145, \"edge_id\": 105, \"end\": \"target\", \"node_id\": \"javascript\"}, {\"weight\": 1660, \"edge_id\": 106, \"end\": \"source\", \"node_id\": \"json\"}, {\"weight\": 1660, \"edge_id\": 106, \"end\": \"target\", \"node_id\": \"json\"}, {\"weight\": 85, \"edge_id\": 107, \"end\": \"source\", \"node_id\": \"json\"}, {\"weight\": 85, \"edge_id\": 107, \"end\": \"target\", \"node_id\": \"hacktoberfest\"}, {\"weight\": 330, \"edge_id\": 108, \"end\": \"source\", \"node_id\": \"algorithm\"}, {\"weight\": 330, \"edge_id\": 108, \"end\": \"target\", \"node_id\": \"hacktoberfest\"}, {\"weight\": 200, \"edge_id\": 109, \"end\": \"source\", \"node_id\": \"algorithm\"}, {\"weight\": 200, \"edge_id\": 109, \"end\": \"target\", \"node_id\": \"javascript\"}, {\"weight\": 1825, \"edge_id\": 110, \"end\": \"source\", \"node_id\": \"algorithm\"}, {\"weight\": 1825, \"edge_id\": 110, \"end\": \"target\", \"node_id\": \"algorithm\"}, {\"weight\": 175, \"edge_id\": 111, \"end\": \"source\", \"node_id\": \"algorithm\"}, {\"weight\": 175, \"edge_id\": 111, \"end\": \"target\", \"node_id\": \"machin\"}, {\"weight\": 740, \"edge_id\": 112, \"end\": \"source\", \"node_id\": \"algorithm\"}, {\"weight\": 740, \"edge_id\": 112, \"end\": \"target\", \"node_id\": \"data\"}, {\"weight\": 75, \"edge_id\": 113, \"end\": \"source\", \"node_id\": \"algorithm\"}, {\"weight\": 75, \"edge_id\": 113, \"end\": \"target\", \"node_id\": \"deep\"}, {\"weight\": 340, \"edge_id\": 114, \"end\": \"source\", \"node_id\": \"algorithm\"}, {\"weight\": 340, \"edge_id\": 114, \"end\": \"target\", \"node_id\": \"python\"}, {\"weight\": 50, \"edge_id\": 115, \"end\": \"source\", \"node_id\": \"azur\"}, {\"weight\": 50, \"edge_id\": 115, \"end\": \"target\", \"node_id\": \"aw\"}, {\"weight\": 30, \"edge_id\": 116, \"end\": \"source\", \"node_id\": \"azur\"}, {\"weight\": 30, \"edge_id\": 116, \"end\": \"target\", \"node_id\": \"javascript\"}, {\"weight\": 50, \"edge_id\": 117, \"end\": \"source\", \"node_id\": \"azur\"}, {\"weight\": 50, \"edge_id\": 117, \"end\": \"target\", \"node_id\": \"machin\"}, {\"weight\": 65, \"edge_id\": 118, \"end\": \"source\", \"node_id\": \"azur\"}, {\"weight\": 65, \"edge_id\": 118, \"end\": \"target\", \"node_id\": \"hacktoberfest\"}, {\"weight\": 15, \"edge_id\": 119, \"end\": \"source\", \"node_id\": \"azur\"}, {\"weight\": 15, \"edge_id\": 119, \"end\": \"target\", \"node_id\": \"android\"}, {\"weight\": 40, \"edge_id\": 120, \"end\": \"source\", \"node_id\": \"azur\"}, {\"weight\": 40, \"edge_id\": 120, \"end\": \"target\", \"node_id\": \"data\"}, {\"weight\": 40, \"edge_id\": 121, \"end\": \"source\", \"node_id\": \"azur\"}, {\"weight\": 40, \"edge_id\": 121, \"end\": \"target\", \"node_id\": \"deep\"}, {\"weight\": 75, \"edge_id\": 122, \"end\": \"source\", \"node_id\": \"azur\"}, {\"weight\": 75, \"edge_id\": 122, \"end\": \"target\", \"node_id\": \"python\"}, {\"weight\": 1290, \"edge_id\": 123, \"end\": \"source\", \"node_id\": \"azur\"}, {\"weight\": 1290, \"edge_id\": 123, \"end\": \"target\", \"node_id\": \"azur\"}, {\"weight\": 290, \"edge_id\": 124, \"end\": \"source\", \"node_id\": \"hacktoberfest\"}, {\"weight\": 290, \"edge_id\": 124, \"end\": \"target\", \"node_id\": \"data\"}, {\"weight\": 130, \"edge_id\": 125, \"end\": \"source\", \"node_id\": \"hacktoberfest\"}, {\"weight\": 130, \"edge_id\": 125, \"end\": \"target\", \"node_id\": \"android\"}, {\"weight\": 235, \"edge_id\": 126, \"end\": \"source\", \"node_id\": \"hacktoberfest\"}, {\"weight\": 235, \"edge_id\": 126, \"end\": \"target\", \"node_id\": \"javascript\"}, {\"weight\": 35, \"edge_id\": 127, \"end\": \"source\", \"node_id\": \"hacktoberfest\"}, {\"weight\": 35, \"edge_id\": 127, \"end\": \"target\", \"node_id\": \"deep\"}, {\"weight\": 70, \"edge_id\": 128, \"end\": \"source\", \"node_id\": \"hacktoberfest\"}, {\"weight\": 70, \"edge_id\": 128, \"end\": \"target\", \"node_id\": \"machin\"}, {\"weight\": 2850, \"edge_id\": 129, \"end\": \"source\", \"node_id\": \"hacktoberfest\"}, {\"weight\": 2850, \"edge_id\": 129, \"end\": \"target\", \"node_id\": \"hacktoberfest\"}, {\"weight\": 90, \"edge_id\": 130, \"end\": \"source\", \"node_id\": \"hacktoberfest\"}, {\"weight\": 90, \"edge_id\": 130, \"end\": \"target\", \"node_id\": \"aw\"}, {\"weight\": 305, \"edge_id\": 131, \"end\": \"source\", \"node_id\": \"hacktoberfest\"}, {\"weight\": 305, \"edge_id\": 131, \"end\": \"target\", \"node_id\": \"python\"}, {\"weight\": 70, \"edge_id\": 132, \"end\": \"source\", \"node_id\": \"aw\"}, {\"weight\": 70, \"edge_id\": 132, \"end\": \"target\", \"node_id\": \"machin\"}, {\"weight\": 215, \"edge_id\": 133, \"end\": \"source\", \"node_id\": \"aw\"}, {\"weight\": 215, \"edge_id\": 133, \"end\": \"target\", \"node_id\": \"python\"}, {\"weight\": 35, \"edge_id\": 134, \"end\": \"source\", \"node_id\": \"aw\"}, {\"weight\": 35, \"edge_id\": 134, \"end\": \"target\", \"node_id\": \"data\"}, {\"weight\": 80, \"edge_id\": 135, \"end\": \"source\", \"node_id\": \"aw\"}, {\"weight\": 80, \"edge_id\": 135, \"end\": \"target\", \"node_id\": \"javascript\"}, {\"weight\": 20, \"edge_id\": 136, \"end\": \"source\", \"node_id\": \"aw\"}, {\"weight\": 20, \"edge_id\": 136, \"end\": \"target\", \"node_id\": \"android\"}, {\"weight\": 1795, \"edge_id\": 137, \"end\": \"source\", \"node_id\": \"aw\"}, {\"weight\": 1795, \"edge_id\": 137, \"end\": \"target\", \"node_id\": \"aw\"}, {\"weight\": 40, \"edge_id\": 138, \"end\": \"source\", \"node_id\": \"aw\"}, {\"weight\": 40, \"edge_id\": 138, \"end\": \"target\", \"node_id\": \"deep\"}, {\"weight\": 190, \"edge_id\": 139, \"end\": \"source\", \"node_id\": \"javascript\"}, {\"weight\": 190, \"edge_id\": 139, \"end\": \"target\", \"node_id\": \"data\"}, {\"weight\": 85, \"edge_id\": 140, \"end\": \"source\", \"node_id\": \"javascript\"}, {\"weight\": 85, \"edge_id\": 140, \"end\": \"target\", \"node_id\": \"android\"}, {\"weight\": 35, \"edge_id\": 141, \"end\": \"source\", \"node_id\": \"javascript\"}, {\"weight\": 35, \"edge_id\": 141, \"end\": \"target\", \"node_id\": \"deep\"}, {\"weight\": 225, \"edge_id\": 142, \"end\": \"source\", \"node_id\": \"javascript\"}, {\"weight\": 225, \"edge_id\": 142, \"end\": \"target\", \"node_id\": \"python\"}, {\"weight\": 3150, \"edge_id\": 143, \"end\": \"source\", \"node_id\": \"javascript\"}, {\"weight\": 3150, \"edge_id\": 143, \"end\": \"target\", \"node_id\": \"javascript\"}, {\"weight\": 70, \"edge_id\": 144, \"end\": \"source\", \"node_id\": \"javascript\"}, {\"weight\": 70, \"edge_id\": 144, \"end\": \"target\", \"node_id\": \"machin\"}, {\"weight\": 20, \"edge_id\": 145, \"end\": \"source\", \"node_id\": \"android\"}, {\"weight\": 20, \"edge_id\": 145, \"end\": \"target\", \"node_id\": \"data\"}, {\"weight\": 20, \"edge_id\": 146, \"end\": \"source\", \"node_id\": \"android\"}, {\"weight\": 20, \"edge_id\": 146, \"end\": \"target\", \"node_id\": \"machin\"}, {\"weight\": 2440, \"edge_id\": 147, \"end\": \"source\", \"node_id\": \"android\"}, {\"weight\": 2440, \"edge_id\": 147, \"end\": \"target\", \"node_id\": \"android\"}, {\"weight\": 70, \"edge_id\": 148, \"end\": \"source\", \"node_id\": \"android\"}, {\"weight\": 70, \"edge_id\": 148, \"end\": \"target\", \"node_id\": \"python\"}, {\"weight\": 35, \"edge_id\": 149, \"end\": \"source\", \"node_id\": \"android\"}, {\"weight\": 35, \"edge_id\": 149, \"end\": \"target\", \"node_id\": \"deep\"}, {\"weight\": 1440, \"edge_id\": 150, \"end\": \"source\", \"node_id\": \"machin\"}, {\"weight\": 1440, \"edge_id\": 150, \"end\": \"target\", \"node_id\": \"python\"}, {\"weight\": 4195, \"edge_id\": 151, \"end\": \"source\", \"node_id\": \"machin\"}, {\"weight\": 4195, \"edge_id\": 151, \"end\": \"target\", \"node_id\": \"machin\"}, {\"weight\": 1885, \"edge_id\": 152, \"end\": \"source\", \"node_id\": \"machin\"}, {\"weight\": 1885, \"edge_id\": 152, \"end\": \"target\", \"node_id\": \"deep\"}, {\"weight\": 1190, \"edge_id\": 153, \"end\": \"source\", \"node_id\": \"machin\"}, {\"weight\": 1190, \"edge_id\": 153, \"end\": \"target\", \"node_id\": \"data\"}, {\"weight\": 465, \"edge_id\": 154, \"end\": \"source\", \"node_id\": \"deep\"}, {\"weight\": 465, \"edge_id\": 154, \"end\": \"target\", \"node_id\": \"data\"}, {\"weight\": 755, \"edge_id\": 155, \"end\": \"source\", \"node_id\": \"deep\"}, {\"weight\": 755, \"edge_id\": 155, \"end\": \"target\", \"node_id\": \"python\"}, {\"weight\": 3885, \"edge_id\": 156, \"end\": \"source\", \"node_id\": \"deep\"}, {\"weight\": 3885, \"edge_id\": 156, \"end\": \"target\", \"node_id\": \"deep\"}, {\"weight\": 1165, \"edge_id\": 157, \"end\": \"source\", \"node_id\": \"data\"}, {\"weight\": 1165, \"edge_id\": 157, \"end\": \"target\", \"node_id\": \"python\"}, {\"weight\": 3590, \"edge_id\": 158, \"end\": \"source\", \"node_id\": \"data\"}, {\"weight\": 3590, \"edge_id\": 158, \"end\": \"target\", \"node_id\": \"data\"}, {\"weight\": 5615, \"edge_id\": 159, \"end\": \"source\", \"node_id\": \"python\"}, {\"weight\": 5615, \"edge_id\": 159, \"end\": \"target\", \"node_id\": \"python\"}], \"data-ba6f4b4ed60a2c24c3849fcd30251bbf\": [{\"node_id\": \"flask\", \"x\": 0.4388667047023773, \"y\": 0.39267203211784363}, {\"node_id\": \"react\", \"x\": 0.053335901349782944, \"y\": 0.8026846647262573}, {\"node_id\": \"window\", \"x\": 0.0069357058964669704, \"y\": 0.33540430665016174}, {\"node_id\": \"java\", \"x\": 0.45938920974731445, \"y\": 0.778668999671936}, {\"node_id\": \"maco\", \"x\": 0.6074927449226379, \"y\": 0.39307674765586853}, {\"node_id\": \"googl\", \"x\": 0.4161551594734192, \"y\": 0.45503702759742737}, {\"node_id\": \"c\", \"x\": 0.8668511509895325, \"y\": 0.6867431998252869}, {\"node_id\": \"bootstrap\", \"x\": 0.733847975730896, \"y\": 0.021270591765642166}, {\"node_id\": \"io\", \"x\": 0.05533679202198982, \"y\": 0.7490603923797607}, {\"node_id\": \"json\", \"x\": 0.16871662437915802, \"y\": 0.2291700392961502}, {\"node_id\": \"algorithm\", \"x\": 0.5044283270835876, \"y\": 0.29132282733917236}, {\"node_id\": \"azur\", \"x\": 0.03437754139304161, \"y\": 0.7088569402694702}, {\"node_id\": \"hacktoberfest\", \"x\": 0.4961574375629425, \"y\": 0.5272416472434998}, {\"node_id\": \"aw\", \"x\": 0.98311448097229, \"y\": 0.5071431994438171}, {\"node_id\": \"javascript\", \"x\": 0.1486242413520813, \"y\": 0.7040280699729919}, {\"node_id\": \"android\", \"x\": 0.5738892555236816, \"y\": 0.8566718697547913}, {\"node_id\": \"machin\", \"x\": 0.4099402129650116, \"y\": 0.2840880751609802}, {\"node_id\": \"deep\", \"x\": 0.5541949272155762, \"y\": 0.6406506299972534}, {\"node_id\": \"data\", \"x\": 0.1104743629693985, \"y\": 0.6400793790817261}, {\"node_id\": \"python\", \"x\": 0.723882257938385, \"y\": 0.021756906062364578}], \"data-57c35c7495ece9e13b4823c3ac689215\": [{\"name\": \"flask\", \"node_id\": \"flask\"}, {\"name\": \"react\", \"node_id\": \"react\"}, {\"name\": \"window\", \"node_id\": \"window\"}, {\"name\": \"java\", \"node_id\": \"java\"}, {\"name\": \"maco\", \"node_id\": \"maco\"}, {\"name\": \"googl\", \"node_id\": \"googl\"}, {\"name\": \"c\", \"node_id\": \"c\"}, {\"name\": \"bootstrap\", \"node_id\": \"bootstrap\"}, {\"name\": \"io\", \"node_id\": \"io\"}, {\"name\": \"json\", \"node_id\": \"json\"}, {\"name\": \"algorithm\", \"node_id\": \"algorithm\"}, {\"name\": \"azur\", \"node_id\": \"azur\"}, {\"name\": \"hacktoberfest\", \"node_id\": \"hacktoberfest\"}, {\"name\": \"aw\", \"node_id\": \"aw\"}, {\"name\": \"javascript\", \"node_id\": \"javascript\"}, {\"name\": \"android\", \"node_id\": \"android\"}, {\"name\": \"machin\", \"node_id\": \"machin\"}, {\"name\": \"deep\", \"node_id\": \"deep\"}, {\"name\": \"data\", \"node_id\": \"data\"}, {\"name\": \"python\", \"node_id\": \"python\"}]}}, {\"mode\": \"vega-lite\"});\n",
       "</script>"
      ],
      "text/plain": [
       "alt.LayerChart(...)"
      ]
     },
     "execution_count": 209,
     "metadata": {},
     "output_type": "execute_result"
    }
   ],
   "source": [
    "# calculate layout positions, for example using Graphviz's 'twopi' algorithm, calculated via networkx's API.  \n",
    "pos = nx.random_layout(G)\n",
    "\n",
    "\n",
    "# Step 2: Convert graph data from NetworkX's format to the pandas DataFrames expected by Altair\n",
    "\n",
    "pos_df = pd.DataFrame.from_records(dict(node_id=k, x=x, y=y) for k,(x,y) in pos.items())\n",
    "node_df = pd.DataFrame.from_records(dict(data, **{'node_id': n}) for n,data in G.nodes.data())\n",
    "edge_data = ((dict(d, **{'edge_id':i, 'end':'source', 'node_id':s}),\n",
    "              dict(d, **{'edge_id':i, 'end':'target', 'node_id':t}))\n",
    "             for i,(s,t,d) in enumerate(G.edges.data()))\n",
    "edge_df = pd.DataFrame.from_records(chain.from_iterable(edge_data))\n",
    "\n",
    "\n",
    "# Step 3:  Use Altair to encode the graph data as marks in a visualization\n",
    "x,y = alt.X('x:Q', axis=None), alt.Y('y:Q', axis=None)\n",
    "# use a lookup to tie position data to the other graph data\n",
    "select_repo = alt.selection_single(\n",
    "     # Display the topic keyword on mouseover (assuming we grouped by topic)\n",
    "     on=\"mouseover\", nearest=True, fields=[\"name\"], empty=\"none\"\n",
    " )\n",
    "\n",
    "node_position_lookup = {\n",
    "    'lookup': 'node_id', \n",
    "    'from_': alt.LookupData(data=pos_df, key='node_id', fields=['x', 'y'])\n",
    "}\n",
    "nodes = (\n",
    "    alt.Chart(node_df)\n",
    "    .mark_circle(size=300, opacity=1)\n",
    "    .encode(x=x, y=y, color=alt.Color('rank:N', legend=None))\n",
    "    .transform_lookup(**node_position_lookup)\n",
    "    .add_selection(select_repo)\n",
    ")\n",
    "edges = (\n",
    "    alt.Chart(edge_df)\n",
    "    .mark_line(color='gray')\n",
    "    .encode(x=x, y=y, detail='edge_id:N')  # `detail` gives one line per edge\n",
    "    .transform_lookup(**node_position_lookup)\n",
    ")\n",
    "chart = (\n",
    "    (edges+nodes)\n",
    "    .properties(width=900, height=500,)\n",
    "    .configure_view(strokeWidth=0)\n",
    ")\n",
    "chart\n"
   ]
  },
  {
   "cell_type": "code",
   "execution_count": 131,
   "metadata": {},
   "outputs": [
    {
     "data": {
      "text/html": [
       "<div>\n",
       "<style scoped>\n",
       "    .dataframe tbody tr th:only-of-type {\n",
       "        vertical-align: middle;\n",
       "    }\n",
       "\n",
       "    .dataframe tbody tr th {\n",
       "        vertical-align: top;\n",
       "    }\n",
       "\n",
       "    .dataframe thead th {\n",
       "        text-align: right;\n",
       "    }\n",
       "</style>\n",
       "<table border=\"1\" class=\"dataframe\">\n",
       "  <thead>\n",
       "    <tr style=\"text-align: right;\">\n",
       "      <th></th>\n",
       "      <th>node_id</th>\n",
       "      <th>x</th>\n",
       "      <th>y</th>\n",
       "    </tr>\n",
       "  </thead>\n",
       "  <tbody>\n",
       "    <tr>\n",
       "      <th>0</th>\n",
       "      <td>parser</td>\n",
       "      <td>0.003877</td>\n",
       "      <td>0.030652</td>\n",
       "    </tr>\n",
       "    <tr>\n",
       "      <th>1</th>\n",
       "      <td>javascript</td>\n",
       "      <td>0.001589</td>\n",
       "      <td>-0.002052</td>\n",
       "    </tr>\n",
       "    <tr>\n",
       "      <th>2</th>\n",
       "      <td>mysql</td>\n",
       "      <td>-0.029539</td>\n",
       "      <td>-0.060230</td>\n",
       "    </tr>\n",
       "    <tr>\n",
       "      <th>3</th>\n",
       "      <td>sql</td>\n",
       "      <td>-0.035804</td>\n",
       "      <td>-0.044606</td>\n",
       "    </tr>\n",
       "    <tr>\n",
       "      <th>4</th>\n",
       "      <td>statist</td>\n",
       "      <td>-0.043925</td>\n",
       "      <td>-0.025614</td>\n",
       "    </tr>\n",
       "    <tr>\n",
       "      <th>...</th>\n",
       "      <td>...</td>\n",
       "      <td>...</td>\n",
       "      <td>...</td>\n",
       "    </tr>\n",
       "    <tr>\n",
       "      <th>95</th>\n",
       "      <td>rust</td>\n",
       "      <td>-0.058393</td>\n",
       "      <td>0.111736</td>\n",
       "    </tr>\n",
       "    <tr>\n",
       "      <th>96</th>\n",
       "      <td>vue</td>\n",
       "      <td>0.038750</td>\n",
       "      <td>0.002160</td>\n",
       "    </tr>\n",
       "    <tr>\n",
       "      <th>97</th>\n",
       "      <td>atom</td>\n",
       "      <td>0.065651</td>\n",
       "      <td>0.011766</td>\n",
       "    </tr>\n",
       "    <tr>\n",
       "      <th>98</th>\n",
       "      <td>test</td>\n",
       "      <td>0.700347</td>\n",
       "      <td>0.665295</td>\n",
       "    </tr>\n",
       "    <tr>\n",
       "      <th>99</th>\n",
       "      <td>video</td>\n",
       "      <td>1.000000</td>\n",
       "      <td>-0.305657</td>\n",
       "    </tr>\n",
       "  </tbody>\n",
       "</table>\n",
       "<p>100 rows × 3 columns</p>\n",
       "</div>"
      ],
      "text/plain": [
       "       node_id         x         y\n",
       "0       parser  0.003877  0.030652\n",
       "1   javascript  0.001589 -0.002052\n",
       "2        mysql -0.029539 -0.060230\n",
       "3          sql -0.035804 -0.044606\n",
       "4      statist -0.043925 -0.025614\n",
       "..         ...       ...       ...\n",
       "95        rust -0.058393  0.111736\n",
       "96         vue  0.038750  0.002160\n",
       "97        atom  0.065651  0.011766\n",
       "98        test  0.700347  0.665295\n",
       "99       video  1.000000 -0.305657\n",
       "\n",
       "[100 rows x 3 columns]"
      ]
     },
     "execution_count": 131,
     "metadata": {},
     "output_type": "execute_result"
    }
   ],
   "source": [
    "pos_df"
   ]
  },
  {
   "cell_type": "code",
   "execution_count": 136,
   "metadata": {},
   "outputs": [],
   "source": [
    "# Was originally the background image for the airports\n",
    "states = alt.topo_feature(data.us_10m.url, feature=\"states\")\n",
    "\n",
    "# Original example, TODO: remove\n",
    "airports = data.airports.url\n",
    "flights_airport = data.flights_airport.url\n",
    "\n",
    "# Original example, TODO: remove\n",
    "states = alt.topo_feature(data.us_10m.url, feature=\"states\")\n",
    "\n",
    "# Original example, TODO: remove\n",
    "select_city = alt.selection_single(\n",
    "    # Decides which blob is selected by the mouse hover-over.\n",
    "    # Can maybe forgo this for the static graph\n",
    "    on=\"mouseover\", nearest=True, fields=[\"origin\"], empty=\"none\"\n",
    ")"
   ]
  },
  {
   "cell_type": "markdown",
   "metadata": {},
   "source": [
    "#### Second visualization: Topics as nodes and connections by shared contributors"
   ]
  },
  {
   "cell_type": "code",
   "execution_count": 264,
   "metadata": {},
   "outputs": [],
   "source": [
    "# Read our cleaned data\n",
    "repos = pd.read_csv('../cleaned_data/repo_info_stop75.csv', index_col=0)\n",
    "contributors = pd.read_csv('../raw_data/10_contributor_info_all.csv', index_col=0)\n",
    "repo_contrib_relation = pd.read_csv('../raw_data/repo_contributor_relationship_table_all.csv', index_col=0)\n",
    "repo_topic_relation = pd.read_csv('../cleaned_data/topic_relationship_table_stop75.csv', index_col=0).reset_index(drop=True)"
   ]
  },
  {
   "cell_type": "code",
   "execution_count": 265,
   "metadata": {},
   "outputs": [],
   "source": [
    "#get list of repos for each simplified topic\n",
    "u = repo_topic_relation.groupby(\"topic_simple\")[\"id\"].agg(list)\n",
    "\n",
    "#get list of contributors for each repo\n",
    "v = repo_contrib_relation.groupby(\"Repo\")['Contributor'].agg(list)\n",
    "repo_contrib_dict = dict(zip(v.index,v))"
   ]
  },
  {
   "cell_type": "code",
   "execution_count": 266,
   "metadata": {},
   "outputs": [],
   "source": [
    "#get list of topics to contributors\n",
    "l = list()\n",
    "for t,r in zip(u.index, u):\n",
    "    current_t = []\n",
    "    for repo in r:\n",
    "        if repo in repo_contrib_dict:\n",
    "            current_t = current_t + repo_contrib_dict[repo]\n",
    "    l.append((len(set(current_t),t,set(current_t)))\n",
    "l.sort()"
   ]
  },
  {
   "cell_type": "code",
   "execution_count": 289,
   "metadata": {},
   "outputs": [
    {
     "name": "stdout",
     "output_type": "stream",
     "text": [
      "Number of edges found: 82 . Number of topics included: 200\n"
     ]
    }
   ],
   "source": [
    "#create a set of edges to build of a graph from, where two topics will have an edge if the number of shared contributors is above a threshold\n",
    "\n",
    "threshold = 300 # number of repos shared between two topics to have an edge\n",
    "top_n = 200 # number of topics to look at\n",
    "\n",
    "edges = set()\n",
    "topics = [(t,le) for le,t,r in l[-top_n:]]\n",
    "\n",
    "\n",
    "for l1, topic1, repo1 in l[-top_n:]:\n",
    "    for l2, topic2, repo2 in l[-top_n:]:\n",
    "        shared_repos = len(set(repo1)&set(repo2))\n",
    "        if (topic1 != topic2) & (shared_repos>threshold) & ((topic1,topic2,shared_repos) not in edges) & ((topic2,topic1,shared_repos) not in edges):\n",
    "            edges.add((topic1,topic2,shared_repos))\n",
    "print('Number of edges found:', len(edges), '. Number of topics included:',top_n)           "
   ]
  },
  {
   "cell_type": "code",
   "execution_count": 290,
   "metadata": {},
   "outputs": [
    {
     "data": {
      "text/html": [
       "\n",
       "        <iframe\n",
       "            width=\"800\"\n",
       "            height=\"800\"\n",
       "            src=\"example.html\"\n",
       "            frameborder=\"0\"\n",
       "            allowfullscreen\n",
       "            \n",
       "        ></iframe>\n",
       "        "
      ],
      "text/plain": [
       "<IPython.lib.display.IFrame at 0x7f92339b8cd0>"
      ]
     },
     "execution_count": 290,
     "metadata": {},
     "output_type": "execute_result"
    }
   ],
   "source": [
    "G = nx.Graph(nodes=topics)\n",
    "for t, le in topics:\n",
    "    G.add_node(t, name=t, size=le*0.005)\n",
    "\n",
    "for e in edges:\n",
    "    G.add_edge(e[0],e[1],width=e[2]*0.01)\n",
    "    \n",
    "net = Network(height=800, width=800, notebook=True)\n",
    "\n",
    "net.from_nx(G)\n",
    "\n",
    "net.toggle_physics(True)\n",
    "options = {\n",
    "          \"edges\":{\n",
    "              \"color\":{\"inherit\": True},\n",
    "              \"font\":{\"size\":0},\n",
    "              \"smooth\":False\n",
    "          },\n",
    "          \"interaction\":{   \n",
    "               \"selectConnectedEdges\": True\n",
    "\n",
    "}}\n",
    "net.options=options\n",
    "#net.show_buttons()\n",
    "net.show('example.html')"
   ]
  },
  {
   "cell_type": "markdown",
   "metadata": {},
   "source": [
    "#### Third visualization: Repositories as nodes and connections by shared contributors, limiting data to a specific searchword"
   ]
  },
  {
   "cell_type": "code",
   "execution_count": 292,
   "metadata": {},
   "outputs": [],
   "source": [
    "searchwords = ['3D', 'Algorithm', 'Android', 'API', 'Arduino', 'Atom', 'aws',\n",
    "       'azure', 'bash', 'bootstrap', 'chrome', 'compiler',\n",
    "       'crytocurrency', 'data structures', 'database',\n",
    "       'data visualization', 'deep learning', 'data science',\n",
    "       'deployment', 'flask', 'front end', 'git', 'google', 'iOS', 'json',\n",
    "       'library', 'machine learning', 'macOS', 'mobile', 'modeling',\n",
    "       'natural language processing', 'neural network',\n",
    "       'operating system', 'parsing', 'software', 'server',\n",
    "       'virtual reality', 'windows']\n",
    "\n",
    "colors = ['3FEDED','2B8FD2','4A2A25','2A3601','16D64D','08195A','9BC30E','7DB78F','FD70F9','BFB7D1','AFC63B','F7DD27','104DEF','61731A','09CEA8','46D722','53E5ED','C1C45E','6D4EA3','FF74C4','B053B5','235FDC','015DEE','7D0BDF','AD86A9','0F91A9','11D2E7','6E1EA7','6D7333','68C333','B40834','D3C6C1','37F46C','A56AC4','D33DA5','0141CB','1F4F65','374D37']\n",
    "color_searchword_dict = {searchwords[i]:colors[i] for i in range(len(searchwords))}\n",
    "\n",
    "# Change searchword to limit network\n",
    "searchword = 'Algorithm'\n",
    "repos_limit = list(repos[repos.search_word==searchword].index)\n",
    "\n",
    "#get list of contributors for each repo\n",
    "v = repo_contrib_relation.groupby(\"Repo\")['Contributor'].agg(list)\n",
    "repo_contrib_dict = dict(zip(v.index,v))\n",
    "l = [(len(r),t, r) for t,r in zip(v.index, v)]\n",
    "l.sort()\n",
    "#[repo_contrib_relation.Repo.isin(repos_limit)]"
   ]
  },
  {
   "cell_type": "code",
   "execution_count": 293,
   "metadata": {},
   "outputs": [
    {
     "name": "stdout",
     "output_type": "stream",
     "text": [
      "Number of edges found: 4656 . Number of repositories included: 8607\n"
     ]
    }
   ],
   "source": [
    "#create a set of edges to build of a graph from, where two topics will have an edge if the number of shared repositories is above a threshold\n",
    "\n",
    "l = [i for i in l if i[0]>9]\n",
    "\n",
    "threshold = 2 # number of repos shared between two topics to have an edge\n",
    "top_n = len(l) # number of topics to look at\n",
    "\n",
    "edges = list()\n",
    "edges_short = set()\n",
    "topics = [(t,le) for le,t,r in l[-top_n:]]\n",
    "\n",
    "for l1, repo1, contrib1 in l[-top_n:]:\n",
    "    for l2, repo2, contrib2 in l[-top_n:]:\n",
    "        shared_contribs = list(set(contrib1)&set(contrib2))\n",
    "        shared_contribs_len = len(shared_contribs)\n",
    "        if (repo1 != repo2) & (shared_contribs_len>threshold) & ((repo1,repo2) not in edges_short) & ((repo2,repo1) not in edges_short):\n",
    "            edges_short.add((repo1,repo2))\n",
    "            edges.append((repo1,repo2,shared_contribs_len,shared_contribs))\n",
    "print('Number of edges found:', len(edges), '. Number of repositories included:',top_n)          "
   ]
  },
  {
   "cell_type": "code",
   "execution_count": 305,
   "metadata": {},
   "outputs": [],
   "source": [
    "for t,l in topics:\n",
    "    if type(t) != int:\n",
    "        print(t)"
   ]
  },
  {
   "cell_type": "code",
   "execution_count": 175,
   "metadata": {},
   "outputs": [],
   "source": [
    "#edges1 = [e for e in edges]\n",
    "edges2 = [e for e in edges]"
   ]
  },
  {
   "cell_type": "code",
   "execution_count": 326,
   "metadata": {
    "scrolled": false
   },
   "outputs": [
    {
     "data": {
      "text/html": [
       "\n",
       "        <iframe\n",
       "            width=\"800\"\n",
       "            height=\"800\"\n",
       "            src=\"example.html\"\n",
       "            frameborder=\"0\"\n",
       "            allowfullscreen\n",
       "            \n",
       "        ></iframe>\n",
       "        "
      ],
      "text/plain": [
       "<IPython.lib.display.IFrame at 0x7f921898ec50>"
      ]
     },
     "execution_count": 326,
     "metadata": {},
     "output_type": "execute_result"
    }
   ],
   "source": [
    "G = nx.Graph(nodes=topics)\n",
    "for t, le in topics:\n",
    "    if t in repos.index:\n",
    "        G.add_node(t, name=t,size=min(50,0.5*int(np.sqrt(repos.loc[t,'stargazers_count']+1))), color=color_searchword_dict[repos.loc[t,'search_word']])\n",
    "    else:\n",
    "        G.add_node(t, name=t, size=1)\n",
    "\n",
    "for e in edges:\n",
    "    contrib_followers = [contributors.loc[c,'followers'] for c in e[3] if c in contributors.index]\n",
    "    if contrib_followers:\n",
    "        G.add_edge(e[0],e[1],width=min(35,0.1*int(np.sqrt(np.average(contrib_followers)))), inherit=False)\n",
    "    else:\n",
    "        G.add_edge(e[0],e[1],width=1, inherit=False)\n",
    "def remove_small_components(graph, n=3):\n",
    "    for component in list(nx.connected_components(graph)):\n",
    "        if len(component)<n:\n",
    "            for node in component:\n",
    "                graph.remove_node(node)\n",
    "    return graph\n",
    "    \n",
    "#optional remove small components\n",
    "G = remove_small_components(G, n=10)\n",
    "\n",
    "net = Network(height=800, width=800, notebook=True)\n",
    "net.from_nx(G)\n",
    "net.toggle_physics(True)\n",
    "options = {\n",
    "          \"nodes\":{\n",
    "              \"font\":{\"size\":0}\n",
    "          },\n",
    "          \"edges\":{\n",
    "              \"color\":{\"inherit\": False},\n",
    "              \"font\":{\"size\":0},\n",
    "              \"smooth\":False\n",
    "          },\n",
    "          \"physics\":{\n",
    "              \"barnesHut\": {\"damping\": 1}\n",
    "          },\n",
    "          \"interaction\":{   \n",
    "               \"selectConnectedEdges\": True\n",
    "\n",
    "}}\n",
    "#net.options=options\n",
    "\n",
    "net.show_buttons()\n",
    "net.show('example.html')"
   ]
  },
  {
   "cell_type": "code",
   "execution_count": 113,
   "metadata": {},
   "outputs": [
    {
     "data": {
      "text/plain": [
       "8607"
      ]
     },
     "execution_count": 113,
     "metadata": {},
     "output_type": "execute_result"
    }
   ],
   "source": [
    "len([i for i in l if i[0]>9])"
   ]
  },
  {
   "cell_type": "code",
   "execution_count": 380,
   "metadata": {},
   "outputs": [],
   "source": [
    "class social_network:\n",
    "    def __init__(self):\n",
    "        #load all scraped datasets\n",
    "        self.repos = pd.read_csv('../cleaned_data/repo_info_stop75.csv', index_col=0).drop_duplicates(subset=['name'])\n",
    "        self.contributors = pd.read_csv('../raw_data/10_contributor_info_all.csv', index_col=0).drop_duplicates(subset=['login'])\n",
    "        self.repo_contrib_relation = pd.read_csv('../raw_data/repo_contributor_relationship_table_all.csv', index_col=0)\n",
    "        self.repo_topic_relation = pd.read_csv('../cleaned_data/topic_relationship_table_stop75.csv', index_col=0).reset_index(drop=True)\n",
    "        \n",
    "        #create an empty dictionary for future edge lists\n",
    "        self.edgeList_dict = dict()\n",
    "        self.get_mappings()\n",
    "        \n",
    "        self.tr_options = {\n",
    "                  \"edges\":{\n",
    "                      \"color\":{\"inherit\": True},\n",
    "                      \"font\":{\"size\":0},\n",
    "                      \"smooth\":False\n",
    "                  }\n",
    "        }\n",
    "        self.rc_options = {\n",
    "                  \"nodes\":{\n",
    "                      \"font\":{\"size\":0}\n",
    "                  },\n",
    "                  \"edges\":{\n",
    "                      \"color\":{\"inherit\": False},\n",
    "                      \"font\":{\"size\":0},\n",
    "                      \"smooth\":False\n",
    "                  },\n",
    "                  \"physics\":{\n",
    "                      \"barnesHut\": {\"damping\": 1}\n",
    "                  }\n",
    "        }\n",
    "        self.tc_options = {\n",
    "                  \"edges\":{\n",
    "                      \"color\":{\"inherit\": True},\n",
    "                      \"font\":{\"size\":0},\n",
    "                      \"smooth\":False\n",
    "                  }\n",
    "        }\n",
    "        \n",
    "        self.options = {'topic-repo':self.tr_options,\n",
    "                       'topic-contributor':self.tc_options,\n",
    "                       'repo-contributor':self.rc_options}\n",
    "\n",
    "        self.width_functions = {'topic-repo':lambda x: x*0.03,\n",
    "                               'topic-contributor':lambda x: x*0.01,\n",
    "                               'repo-contributor':lambda x: x*0.03\n",
    "                               }\n",
    "        self.size_functions = {'topic-repo':lambda x: x*0.03,\n",
    "                               'topic-contributor':lambda x: x*0.005,\n",
    "                               'repo-contributor':lambda x: x*0.03\n",
    "                               }\n",
    "        self.mass_functions = {'topic-repo':lambda x: x*0.005,\n",
    "                               'topic-contributor':lambda x: x*0.005,\n",
    "                               'repo-contributor':lambda x: x*0.03\n",
    "                               }\n",
    "        self.color_functions = {'topic-repo':lambda x: x*0.005,\n",
    "                               'topic-contributor':lambda x: x*0.03,\n",
    "                               'repo-contributor':lambda x: x*0.03\n",
    "                               }\n",
    "        \n",
    "    def change_width_function(self, option, func):\n",
    "        self.width_functions[option] = func\n",
    "        \n",
    "    def change_size_function(self, option, func):\n",
    "        self.size_functions[option] = func\n",
    "    \n",
    "    def change_mass_function(self, option, func):\n",
    "        self.mass_functions[option] = func\n",
    "    \n",
    "    def get_mappings(self):\n",
    "        #get list of repos for each simplified topic\n",
    "        self.tr_list = self.repo_topic_relation.groupby(\"topic_simple\")[\"id\"].agg(list)\n",
    "        self.TR = [(len(r),t, r) for t,r in zip(self.tr_list.index, self.tr_list)]\n",
    "        self.TR.sort(reverse=True)\n",
    "        \n",
    "        #get list of contributors for each repo\n",
    "        self.rc_list = self.repo_contrib_relation.groupby(\"Repo\")['Contributor'].agg(list)\n",
    "        self.repo_contrib_dict = dict(zip(self.rc_list.index,self.rc_list))\n",
    "        self.RC = [(len(c),r, c) for r,c in zip(self.rc_list.index, self.rc_list)]\n",
    "        self.RC.sort(reverse=True)\n",
    "        \n",
    "        #get list of contributors for each simplified topic\n",
    "        self.TC = list()\n",
    "        for t,r in zip(self.tr_list.index, self.tr_list):\n",
    "            current_t = []\n",
    "            for repo in r:\n",
    "                if repo in self.repo_contrib_dict:\n",
    "                    current_t = current_t + self.repo_contrib_dict[repo]\n",
    "            self.TC.append((len(set(current_t)),t,set(current_t)))\n",
    "        self.TC.sort(reverse=True)\n",
    "        \n",
    "    def get_edge_list(self, option, threshold=20, top_n='all'):\n",
    "        if f\"{option}_{threshold}_{top_n}\" not in self.edgeList_dict:\n",
    "            edges = list()\n",
    "            edges_short = set()\n",
    "            \n",
    "            if option == 'topic-repo':\n",
    "                if top_n != 'all':\n",
    "                    mapping = self.TR[:top_n]\n",
    "                else:\n",
    "                    mapping = self.TR\n",
    "                      \n",
    "            elif option == 'topic-contributor':\n",
    "                if top_n != 'all':\n",
    "                    mapping = self.TC[:top_n]\n",
    "                else:\n",
    "                    mapping = self.TC\n",
    "                \n",
    "            elif option == 'repo-contributor':\n",
    "                if top_n != 'all':\n",
    "                    mapping = self.RC[:top_n]\n",
    "                else:\n",
    "                    mapping = self.RC\n",
    "            else:\n",
    "                raise ValueError\n",
    "            \n",
    "            for l1, t1, r1 in mapping:\n",
    "                for l2, t2, r2 in mapping:\n",
    "                    shared = set(r1)&set(r2)\n",
    "                    shared_len = len(shared)\n",
    "                    if (t1 != t2) & (shared_len>threshold) & ((t1,t2) not in edges_short) & ((t2,t1) not in edges_short):\n",
    "                        edges_short.add((t1,t2))\n",
    "                        edges.append((t1,t2,shared_len,shared))\n",
    "                        \n",
    "            self.edgeList_dict[f\"{option}_{threshold}_{top_n}\"]=edges\n",
    "        \n",
    "    def make_network(self, option, threshold=20, top_n='all'):\n",
    "\n",
    "        \n",
    "        \n",
    "        if f\"{option}_{threshold}_{top_n}\" not in self.edgeList_dict:\n",
    "            raise ValueError\n",
    "        self.G = nx.Graph()\n",
    "        edges = self.edgeList_dict[f\"{option}_{threshold}_{top_n}\"]\n",
    "        \n",
    "        if option == 'topic-repo':\n",
    "            if top_n != 'all':\n",
    "                mapping = self.TR[:top_n]\n",
    "            else:\n",
    "                mapping = self.TR\n",
    "                      \n",
    "        elif option == 'topic-contributor':\n",
    "            if top_n != 'all':\n",
    "                mapping = self.TC[:top_n]\n",
    "            else:\n",
    "                mapping = self.TC\n",
    "\n",
    "        elif option == 'repo-contributor':\n",
    "            if top_n != 'all':\n",
    "                mapping = self.RC[:top_n]\n",
    "            else:\n",
    "                mapping = self.RC\n",
    "        nodes = [(t,le) for le,t,r in mapping]\n",
    "        \n",
    "        for n, le in nodes:\n",
    "            self.G.add_node(n, name=n, size=self.size_functions[option](le), mass=self.mass_functions[option](le))\n",
    "\n",
    "        for e in edges:\n",
    "            self.G.add_edge(e[0],e[1],width=self.width_functions[option](e[2]))\n",
    "            \n",
    "    def visualize_network(self, option, show_buttons=False, html='network.html'):\n",
    "        net = Network(height=800, width=800, notebook=True)\n",
    "        net.from_nx(self.G)\n",
    "        net.toggle_physics(True)\n",
    "        if show_buttons:\n",
    "            net.show_buttons()\n",
    "        else:\n",
    "            net.options=self.options[option]\n",
    "        net.show(html)\n",
    "        \n",
    "        \n",
    "    \n",
    "        \n",
    "        \n",
    "        "
   ]
  },
  {
   "cell_type": "code",
   "execution_count": 381,
   "metadata": {},
   "outputs": [],
   "source": [
    "sn = social_network()"
   ]
  },
  {
   "cell_type": "code",
   "execution_count": 388,
   "metadata": {},
   "outputs": [],
   "source": [
    "sn.get_edge_list('topic-repo', threshold=10, top_n=200)\n",
    "sn.get_edge_list('topic-contributor', threshold=10, top_n=200)\n",
    "sn.get_edge_list('repo-contributor', threshold=2, top_n = 5000)"
   ]
  },
  {
   "cell_type": "code",
   "execution_count": 389,
   "metadata": {},
   "outputs": [
    {
     "data": {
      "text/plain": [
       "dict_keys(['topic-repo_10_200', 'topic-contributor_10_200', 'repo-contributor_2_200', 'repo-contributor_2_5000'])"
      ]
     },
     "execution_count": 389,
     "metadata": {},
     "output_type": "execute_result"
    }
   ],
   "source": [
    "sn.edgeList_dict.keys()"
   ]
  },
  {
   "cell_type": "code",
   "execution_count": 390,
   "metadata": {},
   "outputs": [],
   "source": [
    "sn.make_network('repo-contributor', threshold=2, top_n=5000)"
   ]
  },
  {
   "cell_type": "code",
   "execution_count": 391,
   "metadata": {},
   "outputs": [],
   "source": [
    "sn.visualize_network('repo-contributor')"
   ]
  },
  {
   "cell_type": "code",
   "execution_count": null,
   "metadata": {},
   "outputs": [],
   "source": []
  }
 ],
 "metadata": {
  "interpreter": {
   "hash": "bfb7e575d5d4838f9fd6a9dcae1e459444faad3c39417e13a9daa92d42294952"
  },
  "kernelspec": {
   "display_name": "Python 3",
   "language": "python",
   "name": "python3"
  },
  "language_info": {
   "codemirror_mode": {
    "name": "ipython",
    "version": 3
   },
   "file_extension": ".py",
   "mimetype": "text/x-python",
   "name": "python",
   "nbconvert_exporter": "python",
   "pygments_lexer": "ipython3",
   "version": "3.7.9"
  }
 },
 "nbformat": 4,
 "nbformat_minor": 2
}

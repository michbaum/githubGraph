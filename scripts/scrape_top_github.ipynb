{
 "cells": [
  {
   "cell_type": "markdown",
   "id": "compliant-behalf",
   "metadata": {},
   "source": [
    "# Scrape Data"
   ]
  },
  {
   "cell_type": "code",
   "execution_count": 1,
   "id": "confirmed-shame",
   "metadata": {
    "ExecuteTime": {
     "end_time": "2021-03-04T12:49:53.974598Z",
     "start_time": "2021-03-04T12:49:52.588285Z"
    }
   },
   "outputs": [],
   "source": [
    "from top_github_scraper import (get_top_repo_urls, get_top_repos, get_top_contributors, \n",
    "get_top_user_urls, get_top_users)\n",
    "#import datapane as dp \n",
    "import pandas as pd \n",
    "from tqdm import tqdm \n",
    "from folium import plugins\n",
    "import geopandas\n",
    "from geopy.geocoders import Nominatim\n",
    "import folium\n",
    "from folium.plugins import Search\n"
   ]
  },
  {
   "cell_type": "code",
   "execution_count": null,
   "id": "indian-growing",
   "metadata": {},
   "outputs": [],
   "source": []
  },
  {
   "cell_type": "code",
   "execution_count": 2,
   "id": "coastal-adjustment",
   "metadata": {
    "ExecuteTime": {
     "end_time": "2021-03-04T12:51:12.920859Z",
     "start_time": "2021-03-04T12:51:12.916132Z"
    }
   },
   "outputs": [],
   "source": [
    "keyword = \"data science\""
   ]
  },
  {
   "cell_type": "markdown",
   "id": "fallen-discharge",
   "metadata": {},
   "source": [
    "## Get top contributors"
   ]
  },
  {
   "cell_type": "code",
   "execution_count": 3,
   "id": "unlimited-metropolitan",
   "metadata": {
    "ExecuteTime": {
     "end_time": "2021-03-04T12:43:38.253898Z",
     "start_time": "2021-03-04T12:42:35.655119Z"
    }
   },
   "outputs": [
    {
     "ename": "ValueError",
     "evalue": "No objects to concatenate",
     "output_type": "error",
     "traceback": [
      "\u001b[0;31m---------------------------------------------------------------------------\u001b[0m",
      "\u001b[0;31mValueError\u001b[0m                                Traceback (most recent call last)",
      "\u001b[0;32m<ipython-input-3-a55b24b5d0b9>\u001b[0m in \u001b[0;36m<module>\u001b[0;34m\u001b[0m\n\u001b[0;32m----> 1\u001b[0;31m \u001b[0mcontributors\u001b[0m \u001b[0;34m=\u001b[0m \u001b[0mget_top_contributors\u001b[0m\u001b[0;34m(\u001b[0m\u001b[0mkeyword\u001b[0m\u001b[0;34m,\u001b[0m \u001b[0mstop_page\u001b[0m\u001b[0;34m=\u001b[0m\u001b[0;36m2\u001b[0m\u001b[0;34m)\u001b[0m\u001b[0;34m\u001b[0m\u001b[0;34m\u001b[0m\u001b[0m\n\u001b[0m",
      "\u001b[0;32m~/anaconda3/lib/python3.7/site-packages/top_github_scraper/scrape_repo.py\u001b[0m in \u001b[0;36mget_top_contributors\u001b[0;34m(keyword, sort_by, max_n_top_contributors, start_page, stop_page, get_user_info_only, save_directory)\u001b[0m\n\u001b[1;32m    275\u001b[0m     \u001b[0;32mwith\u001b[0m \u001b[0mopen\u001b[0m\u001b[0;34m(\u001b[0m\u001b[0mfull_repo_save_path\u001b[0m\u001b[0;34m,\u001b[0m \u001b[0;34m\"r\"\u001b[0m\u001b[0;34m)\u001b[0m \u001b[0;32mas\u001b[0m \u001b[0minfile\u001b[0m\u001b[0;34m:\u001b[0m\u001b[0;34m\u001b[0m\u001b[0;34m\u001b[0m\u001b[0m\n\u001b[1;32m    276\u001b[0m         \u001b[0mrepo_info\u001b[0m \u001b[0;34m=\u001b[0m \u001b[0mjson\u001b[0m\u001b[0;34m.\u001b[0m\u001b[0mload\u001b[0m\u001b[0;34m(\u001b[0m\u001b[0minfile\u001b[0m\u001b[0;34m)\u001b[0m\u001b[0;34m\u001b[0m\u001b[0;34m\u001b[0m\u001b[0m\n\u001b[0;32m--> 277\u001b[0;31m         \u001b[0mrepo_info\u001b[0m \u001b[0;34m=\u001b[0m \u001b[0mDataProcessor\u001b[0m\u001b[0;34m(\u001b[0m\u001b[0mrepo_info\u001b[0m\u001b[0;34m)\u001b[0m\u001b[0;34m.\u001b[0m\u001b[0mprocess\u001b[0m\u001b[0;34m(\u001b[0m\u001b[0;34m)\u001b[0m\u001b[0;34m\u001b[0m\u001b[0;34m\u001b[0m\u001b[0m\n\u001b[0m\u001b[1;32m    278\u001b[0m         \u001b[0murls\u001b[0m \u001b[0;34m=\u001b[0m \u001b[0mrepo_info\u001b[0m\u001b[0;34m[\u001b[0m\u001b[0;34m'url'\u001b[0m\u001b[0;34m]\u001b[0m\u001b[0;34m\u001b[0m\u001b[0;34m\u001b[0m\u001b[0m\n\u001b[1;32m    279\u001b[0m         \u001b[0mtop_users\u001b[0m \u001b[0;34m=\u001b[0m \u001b[0mUserProfileGetter\u001b[0m\u001b[0;34m(\u001b[0m\u001b[0murls\u001b[0m\u001b[0;34m)\u001b[0m\u001b[0;34m.\u001b[0m\u001b[0mget_all_user_profiles\u001b[0m\u001b[0;34m(\u001b[0m\u001b[0;34m)\u001b[0m\u001b[0;34m\u001b[0m\u001b[0;34m\u001b[0m\u001b[0m\n",
      "\u001b[0;32m~/anaconda3/lib/python3.7/site-packages/top_github_scraper/scrape_repo.py\u001b[0m in \u001b[0;36mprocess\u001b[0;34m(self)\u001b[0m\n\u001b[1;32m    104\u001b[0m \u001b[0;34m\u001b[0m\u001b[0m\n\u001b[1;32m    105\u001b[0m         \u001b[0mrepos\u001b[0m \u001b[0;34m=\u001b[0m \u001b[0;34m[\u001b[0m\u001b[0mself\u001b[0m\u001b[0;34m.\u001b[0m\u001b[0mprocess_one_repo\u001b[0m\u001b[0;34m(\u001b[0m\u001b[0mrepo\u001b[0m\u001b[0;34m)\u001b[0m \u001b[0;32mfor\u001b[0m \u001b[0mrepo\u001b[0m \u001b[0;32min\u001b[0m \u001b[0mself\u001b[0m\u001b[0;34m.\u001b[0m\u001b[0mdata\u001b[0m\u001b[0;34m]\u001b[0m\u001b[0;34m\u001b[0m\u001b[0;34m\u001b[0m\u001b[0m\n\u001b[0;32m--> 106\u001b[0;31m         \u001b[0;32mreturn\u001b[0m \u001b[0mpd\u001b[0m\u001b[0;34m.\u001b[0m\u001b[0mconcat\u001b[0m\u001b[0;34m(\u001b[0m\u001b[0mrepos\u001b[0m\u001b[0;34m)\u001b[0m\u001b[0;34m.\u001b[0m\u001b[0mreset_index\u001b[0m\u001b[0;34m(\u001b[0m\u001b[0mdrop\u001b[0m\u001b[0;34m=\u001b[0m\u001b[0;32mTrue\u001b[0m\u001b[0;34m)\u001b[0m\u001b[0;34m\u001b[0m\u001b[0;34m\u001b[0m\u001b[0m\n\u001b[0m\u001b[1;32m    107\u001b[0m \u001b[0;34m\u001b[0m\u001b[0m\n\u001b[1;32m    108\u001b[0m     \u001b[0;32mdef\u001b[0m \u001b[0mprocess_one_repo\u001b[0m\u001b[0;34m(\u001b[0m\u001b[0mself\u001b[0m\u001b[0;34m,\u001b[0m \u001b[0mrepo_info\u001b[0m\u001b[0;34m:\u001b[0m \u001b[0mdict\u001b[0m\u001b[0;34m)\u001b[0m\u001b[0;34m:\u001b[0m\u001b[0;34m\u001b[0m\u001b[0;34m\u001b[0m\u001b[0m\n",
      "\u001b[0;32m~/anaconda3/lib/python3.7/site-packages/pandas/util/_decorators.py\u001b[0m in \u001b[0;36mwrapper\u001b[0;34m(*args, **kwargs)\u001b[0m\n\u001b[1;32m    309\u001b[0m                     \u001b[0mstacklevel\u001b[0m\u001b[0;34m=\u001b[0m\u001b[0mstacklevel\u001b[0m\u001b[0;34m,\u001b[0m\u001b[0;34m\u001b[0m\u001b[0;34m\u001b[0m\u001b[0m\n\u001b[1;32m    310\u001b[0m                 )\n\u001b[0;32m--> 311\u001b[0;31m             \u001b[0;32mreturn\u001b[0m \u001b[0mfunc\u001b[0m\u001b[0;34m(\u001b[0m\u001b[0;34m*\u001b[0m\u001b[0margs\u001b[0m\u001b[0;34m,\u001b[0m \u001b[0;34m**\u001b[0m\u001b[0mkwargs\u001b[0m\u001b[0;34m)\u001b[0m\u001b[0;34m\u001b[0m\u001b[0;34m\u001b[0m\u001b[0m\n\u001b[0m\u001b[1;32m    312\u001b[0m \u001b[0;34m\u001b[0m\u001b[0m\n\u001b[1;32m    313\u001b[0m         \u001b[0;32mreturn\u001b[0m \u001b[0mwrapper\u001b[0m\u001b[0;34m\u001b[0m\u001b[0;34m\u001b[0m\u001b[0m\n",
      "\u001b[0;32m~/anaconda3/lib/python3.7/site-packages/pandas/core/reshape/concat.py\u001b[0m in \u001b[0;36mconcat\u001b[0;34m(objs, axis, join, ignore_index, keys, levels, names, verify_integrity, sort, copy)\u001b[0m\n\u001b[1;32m    302\u001b[0m         \u001b[0mverify_integrity\u001b[0m\u001b[0;34m=\u001b[0m\u001b[0mverify_integrity\u001b[0m\u001b[0;34m,\u001b[0m\u001b[0;34m\u001b[0m\u001b[0;34m\u001b[0m\u001b[0m\n\u001b[1;32m    303\u001b[0m         \u001b[0mcopy\u001b[0m\u001b[0;34m=\u001b[0m\u001b[0mcopy\u001b[0m\u001b[0;34m,\u001b[0m\u001b[0;34m\u001b[0m\u001b[0;34m\u001b[0m\u001b[0m\n\u001b[0;32m--> 304\u001b[0;31m         \u001b[0msort\u001b[0m\u001b[0;34m=\u001b[0m\u001b[0msort\u001b[0m\u001b[0;34m,\u001b[0m\u001b[0;34m\u001b[0m\u001b[0;34m\u001b[0m\u001b[0m\n\u001b[0m\u001b[1;32m    305\u001b[0m     )\n\u001b[1;32m    306\u001b[0m \u001b[0;34m\u001b[0m\u001b[0m\n",
      "\u001b[0;32m~/anaconda3/lib/python3.7/site-packages/pandas/core/reshape/concat.py\u001b[0m in \u001b[0;36m__init__\u001b[0;34m(self, objs, axis, join, keys, levels, names, ignore_index, verify_integrity, copy, sort)\u001b[0m\n\u001b[1;32m    349\u001b[0m \u001b[0;34m\u001b[0m\u001b[0m\n\u001b[1;32m    350\u001b[0m         \u001b[0;32mif\u001b[0m \u001b[0mlen\u001b[0m\u001b[0;34m(\u001b[0m\u001b[0mobjs\u001b[0m\u001b[0;34m)\u001b[0m \u001b[0;34m==\u001b[0m \u001b[0;36m0\u001b[0m\u001b[0;34m:\u001b[0m\u001b[0;34m\u001b[0m\u001b[0;34m\u001b[0m\u001b[0m\n\u001b[0;32m--> 351\u001b[0;31m             \u001b[0;32mraise\u001b[0m \u001b[0mValueError\u001b[0m\u001b[0;34m(\u001b[0m\u001b[0;34m\"No objects to concatenate\"\u001b[0m\u001b[0;34m)\u001b[0m\u001b[0;34m\u001b[0m\u001b[0;34m\u001b[0m\u001b[0m\n\u001b[0m\u001b[1;32m    352\u001b[0m \u001b[0;34m\u001b[0m\u001b[0m\n\u001b[1;32m    353\u001b[0m         \u001b[0;32mif\u001b[0m \u001b[0mkeys\u001b[0m \u001b[0;32mis\u001b[0m \u001b[0;32mNone\u001b[0m\u001b[0;34m:\u001b[0m\u001b[0;34m\u001b[0m\u001b[0;34m\u001b[0m\u001b[0m\n",
      "\u001b[0;31mValueError\u001b[0m: No objects to concatenate"
     ]
    }
   ],
   "source": [
    "contributors = get_top_contributors(keyword, stop_page=2)"
   ]
  },
  {
   "cell_type": "code",
   "execution_count": null,
   "id": "engaging-locking",
   "metadata": {
    "ExecuteTime": {
     "end_time": "2021-03-04T12:50:28.862432Z",
     "start_time": "2021-03-04T12:50:28.837187Z"
    }
   },
   "outputs": [],
   "source": [
    "contributors"
   ]
  },
  {
   "cell_type": "code",
   "execution_count": null,
   "id": "ready-symphony",
   "metadata": {
    "ExecuteTime": {
     "end_time": "2021-03-04T12:44:15.861089Z",
     "start_time": "2021-03-04T12:44:15.855672Z"
    }
   },
   "outputs": [],
   "source": [
    "# Remove duplicates\n",
    "\n",
    "contributors = contributors[~contributors.duplicated()]"
   ]
  },
  {
   "cell_type": "code",
   "execution_count": null,
   "id": "supreme-charter",
   "metadata": {
    "ExecuteTime": {
     "end_time": "2021-03-04T12:44:16.414182Z",
     "start_time": "2021-03-04T12:44:16.397354Z"
    }
   },
   "outputs": [],
   "source": [
    "contributors.head(10)"
   ]
  },
  {
   "cell_type": "markdown",
   "id": "central-insurance",
   "metadata": {},
   "source": [
    "## Get top users"
   ]
  },
  {
   "cell_type": "code",
   "execution_count": null,
   "id": "included-satin",
   "metadata": {
    "ExecuteTime": {
     "end_time": "2021-03-04T12:44:40.017180Z",
     "start_time": "2021-03-04T12:44:20.077923Z"
    }
   },
   "outputs": [],
   "source": [
    "users = get_top_users(keyword, stop_page=10)"
   ]
  },
  {
   "cell_type": "code",
   "execution_count": null,
   "id": "covered-decision",
   "metadata": {
    "ExecuteTime": {
     "end_time": "2021-03-04T12:51:01.820095Z",
     "start_time": "2021-03-04T12:51:01.806789Z"
    }
   },
   "outputs": [],
   "source": [
    "users.head(10)"
   ]
  },
  {
   "cell_type": "markdown",
   "id": "hourly-insured",
   "metadata": {},
   "source": [
    "## Combine data"
   ]
  },
  {
   "cell_type": "code",
   "execution_count": null,
   "id": "bigger-public",
   "metadata": {
    "ExecuteTime": {
     "end_time": "2021-03-04T12:51:04.490927Z",
     "start_time": "2021-03-04T12:51:04.478976Z"
    }
   },
   "outputs": [],
   "source": [
    "all_users = pd.concat([contributors, users])\n",
    "\n",
    "# Remove duplicated users\n",
    "all_users = all_users[~all_users.duplicated()]"
   ]
  },
  {
   "cell_type": "code",
   "execution_count": null,
   "id": "athletic-alfred",
   "metadata": {
    "ExecuteTime": {
     "end_time": "2021-03-04T12:51:05.500295Z",
     "start_time": "2021-03-04T12:51:05.495082Z"
    }
   },
   "outputs": [],
   "source": [
    "all_users['real_url'] = all_users.login.apply(lambda login: 'https://github.com/' + login)"
   ]
  },
  {
   "cell_type": "code",
   "execution_count": null,
   "id": "green-anniversary",
   "metadata": {
    "ExecuteTime": {
     "end_time": "2021-03-04T12:51:05.943169Z",
     "start_time": "2021-03-04T12:51:05.931035Z"
    }
   },
   "outputs": [],
   "source": [
    "all_users.head(10)"
   ]
  },
  {
   "cell_type": "markdown",
   "id": "healthy-metadata",
   "metadata": {},
   "source": [
    "# Map"
   ]
  },
  {
   "cell_type": "code",
   "execution_count": null,
   "id": "sublime-judge",
   "metadata": {
    "ExecuteTime": {
     "end_time": "2021-03-04T11:28:41.372283Z",
     "start_time": "2021-03-04T11:28:41.368230Z"
    }
   },
   "outputs": [],
   "source": [
    "geolocator = Nominatim(user_agent='my_app')\n",
    "\n",
    "all_users_with_locations = all_users[~all_users['location'].isna()]"
   ]
  },
  {
   "cell_type": "code",
   "execution_count": null,
   "id": "included-adaptation",
   "metadata": {
    "ExecuteTime": {
     "end_time": "2021-03-04T11:45:23.210355Z",
     "start_time": "2021-03-04T11:45:23.204395Z"
    }
   },
   "outputs": [],
   "source": [
    "def get_locations(location:str):\n",
    "    try:\n",
    "        return geolocator.geocode(location)\n",
    "    except:\n",
    "        pass\n",
    "def get_lat(location):\n",
    "    return location.latitude\n",
    "   \n",
    "def get_lon(location):\n",
    "    return location.longitude"
   ]
  },
  {
   "cell_type": "code",
   "execution_count": null,
   "id": "controlled-trauma",
   "metadata": {
    "ExecuteTime": {
     "end_time": "2021-03-04T11:38:14.381315Z",
     "start_time": "2021-03-04T11:35:42.612275Z"
    },
    "scrolled": true
   },
   "outputs": [],
   "source": [
    "all_users_with_locations.location = (\n",
    "    all_users_with_locations.location.apply(get_locations)\n",
    ")"
   ]
  },
  {
   "cell_type": "code",
   "execution_count": null,
   "id": "difficult-sauce",
   "metadata": {
    "ExecuteTime": {
     "end_time": "2021-03-04T11:54:23.236251Z",
     "start_time": "2021-03-04T11:54:23.230380Z"
    }
   },
   "outputs": [],
   "source": [
    "# Drop rows with no location \n",
    "\n",
    "all_users_with_locations = all_users_with_locations[~all_users_with_locations.location.isna()]\n",
    "all_users_with_locations.reset_index(inplace=True, drop=True)\n",
    "\n",
    "# Fill missing values\n",
    "all_users_with_locations.fillna('', inplace=True)"
   ]
  },
  {
   "cell_type": "code",
   "execution_count": null,
   "id": "finished-perth",
   "metadata": {
    "ExecuteTime": {
     "end_time": "2021-03-04T12:01:58.013112Z",
     "start_time": "2021-03-04T12:01:58.006654Z"
    }
   },
   "outputs": [],
   "source": [
    "# Get latititudes, longitudes, and address \n",
    "\n",
    "all_users_with_locations['latitudes'] = all_users_with_locations.location.apply(get_lat)\n",
    "all_users_with_locations['longitudes'] = all_users_with_locations.location.apply(get_lon)\n",
    "all_users_with_locations['address'] = all_users_with_locations.location.apply(lambda loc: loc.address)"
   ]
  },
  {
   "cell_type": "code",
   "execution_count": null,
   "id": "driven-realtor",
   "metadata": {
    "ExecuteTime": {
     "end_time": "2021-03-04T12:20:57.067562Z",
     "start_time": "2021-03-04T12:20:57.065065Z"
    }
   },
   "outputs": [],
   "source": [
    "def get_city(lat, lon):\n",
    "    location = geolocator.reverse(str(lat)+\",\"+str(lon) )\n",
    "    address = location.raw['address']\n",
    "    return address.get('city', '')"
   ]
  },
  {
   "cell_type": "code",
   "execution_count": null,
   "id": "right-shopping",
   "metadata": {
    "ExecuteTime": {
     "end_time": "2021-03-04T12:22:33.492623Z",
     "start_time": "2021-03-04T12:20:57.677178Z"
    }
   },
   "outputs": [],
   "source": [
    "# Get city \n",
    "\n",
    "all_users_with_locations['city'] = all_users_with_locations.apply(lambda row: get_city(row.latitudes, row.longitudes), axis=1)"
   ]
  },
  {
   "cell_type": "code",
   "execution_count": null,
   "id": "cubic-michael",
   "metadata": {
    "ExecuteTime": {
     "end_time": "2021-03-04T11:52:33.447872Z",
     "start_time": "2021-03-04T11:52:33.433435Z"
    }
   },
   "outputs": [],
   "source": [
    "# Turn pandas DataFrame into GeoDataFrame\n",
    "\n",
    "all_users_with_locations = geopandas.GeoDataFrame(\n",
    "    all_users_with_locations, geometry=geopandas.points_from_xy(\n",
    "    all_users_with_locations.longitudes, all_users_with_locations.latitudes))"
   ]
  },
  {
   "cell_type": "code",
   "execution_count": null,
   "id": "personal-spirit",
   "metadata": {
    "ExecuteTime": {
     "end_time": "2021-03-04T12:07:46.881769Z",
     "start_time": "2021-03-04T12:07:46.854692Z"
    }
   },
   "outputs": [],
   "source": [
    "all_users_with_locations.head(5)"
   ]
  },
  {
   "cell_type": "code",
   "execution_count": null,
   "id": "talented-fairy",
   "metadata": {
    "ExecuteTime": {
     "end_time": "2021-03-04T12:13:13.426906Z",
     "start_time": "2021-03-04T12:13:13.395392Z"
    }
   },
   "outputs": [],
   "source": [
    "all_users_with_locations.crs = \"EPSG:4326\"\n",
    "\n",
    "all_users_with_locations.drop(columns=['location'], inplace=True)"
   ]
  },
  {
   "cell_type": "code",
   "execution_count": null,
   "id": "premium-importance",
   "metadata": {
    "ExecuteTime": {
     "end_time": "2021-03-04T13:19:51.384374Z",
     "start_time": "2021-03-04T13:19:51.345281Z"
    }
   },
   "outputs": [],
   "source": [
    "lat_0 = int(all_users_with_locations.latitudes.iloc[0])\n",
    "lon_0 = int(all_users_with_locations.longitudes.iloc[0])\n",
    "\n",
    "m = folium.Map(location=[lat_0, lon_0], zoom_start=4)\n",
    "\n",
    "# Add markers\n",
    "\n",
    "fields = [\"login\", \"real_url\", \"type\",\n",
    "          \"name\", \"company\", \"address\", \"city\", \"email\",\n",
    "          \"bio\", \"followers\", \"following\",\n",
    "          \"public_repos\", \"public_gists\"]\n",
    "aliases = [\"Login Name\", \"URL\", \"Type\",\n",
    "          \"Name\", \"Company\", \"Address\", \"City\", \"Email\",\n",
    "          \"Bio\", \"Followers\", \"Following\",\n",
    "          \"Number of Public Repos\", \"Number of Public Gists\"]\n",
    "\n",
    "citygeo = folium.GeoJson(\n",
    "    all_users_with_locations,\n",
    "    tooltip=folium.GeoJsonTooltip(\n",
    "         fields=fields, aliases=aliases, localize=True\n",
    "    ),\n",
    ").add_to(m)\n",
    "\n",
    "# Add search \n",
    "citysearch = Search(\n",
    "    layer=citygeo,\n",
    "    geom_type=\"Point\",\n",
    "    placeholder=\"Search for a City\",\n",
    "    collapsed=True,\n",
    "    search_label=\"city\",\n",
    ").add_to(m)"
   ]
  },
  {
   "cell_type": "code",
   "execution_count": null,
   "id": "underlying-diploma",
   "metadata": {
    "ExecuteTime": {
     "end_time": "2021-03-04T13:19:51.776062Z",
     "start_time": "2021-03-04T13:19:51.745864Z"
    }
   },
   "outputs": [],
   "source": [
    "m "
   ]
  },
  {
   "cell_type": "code",
   "execution_count": null,
   "id": "wired-bullet",
   "metadata": {},
   "outputs": [],
   "source": []
  }
 ],
 "metadata": {
  "kernelspec": {
   "display_name": "Python 3",
   "language": "python",
   "name": "python3"
  },
  "language_info": {
   "codemirror_mode": {
    "name": "ipython",
    "version": 3
   },
   "file_extension": ".py",
   "mimetype": "text/x-python",
   "name": "python",
   "nbconvert_exporter": "python",
   "pygments_lexer": "ipython3",
   "version": "3.7.9"
  },
  "toc": {
   "base_numbering": 1,
   "nav_menu": {},
   "number_sections": true,
   "sideBar": true,
   "skip_h1_title": false,
   "title_cell": "Table of Contents",
   "title_sidebar": "Contents",
   "toc_cell": false,
   "toc_position": {},
   "toc_section_display": true,
   "toc_window_display": false
  },
  "varInspector": {
   "cols": {
    "lenName": 16,
    "lenType": 16,
    "lenVar": 40
   },
   "kernels_config": {
    "python": {
     "delete_cmd_postfix": "",
     "delete_cmd_prefix": "del ",
     "library": "var_list.py",
     "varRefreshCmd": "print(var_dic_list())"
    },
    "r": {
     "delete_cmd_postfix": ") ",
     "delete_cmd_prefix": "rm(",
     "library": "var_list.r",
     "varRefreshCmd": "cat(var_dic_list()) "
    }
   },
   "types_to_exclude": [
    "module",
    "function",
    "builtin_function_or_method",
    "instance",
    "_Feature"
   ],
   "window_display": false
  }
 },
 "nbformat": 4,
 "nbformat_minor": 5
}

{
 "cells": [
  {
   "cell_type": "code",
   "execution_count": 138,
   "id": "peripheral-bryan",
   "metadata": {},
   "outputs": [],
   "source": [
    "from top_github_scraper import (get_top_repo_urls, get_top_repos, get_top_contributors, \n",
    "get_top_user_urls, get_top_users)\n",
    "#import datapane as dp \n",
    "import pandas as pd \n",
    "import numpy as np\n",
    "from tqdm import tqdm \n",
    "from folium import plugins\n",
    "import geopandas\n",
    "from geopy.geocoders import Nominatim\n",
    "import folium\n",
    "from folium.plugins import Search\n",
    "import requests\n",
    "import os\n",
    "from bs4 import BeautifulSoup\n",
    "import time\n",
    "USERNAME = os.getenv(\"GITHUB_USERNAME\")\n",
    "TOKEN = os.getenv(\"GITHUB_TOKEN\")"
   ]
  },
  {
   "cell_type": "code",
   "execution_count": 107,
   "id": "supported-explorer",
   "metadata": {},
   "outputs": [],
   "source": [
    "keywords = [\"data science\",\"api\"]\n",
    "github_topics = ['3D','Algorithm','Android','API','Arduino','Atom','aws','azure','bash','bootstrap','chrome','compiler','crytocurrency','data structures','database','data visualization','deep learning','data science','deployment','flask','front end','git','google','iOS','json','library','machine learning','macOS','mobile','modeling','natural language processing','neural network','operating system','parsing','software','server','virtual reality','windows']"
   ]
  },
  {
   "cell_type": "code",
   "execution_count": 140,
   "id": "ignored-threshold",
   "metadata": {},
   "outputs": [],
   "source": [
    "def get_repo_info(keyword, stop=10):\n",
    "    repos = get_repo_urls(keyword, stop=stop)\n",
    "    \n",
    "    all_repo_info = dict()\n",
    "    info_to_scrape = ['name',\"stargazers_count\", \"forks_count\", 'subscribers_count', 'topics', 'language', 'created_at','updated_at']\n",
    "    for repo in tqdm(repos,desc=\"Scraping top repo info...\"):\n",
    "        repo_url = repo\n",
    "        repo_info_url = f\"https://api.github.com/repos{repo_url}\"\n",
    "        repo_info = requests.get(repo_info_url, auth=(USERNAME, TOKEN))\n",
    "        if repo_info.status_code == 429:\n",
    "            time.sleep(30)\n",
    "        repo_info = repo_info.json()\n",
    "        repo_name = repo_info['id']\n",
    "        repo_important_info = {}\n",
    "        for info in info_to_scrape:\n",
    "            repo_important_info[info] = repo_info[info]\n",
    "        repo_important_info['url'] = repo_url\n",
    "        repo_important_info['search_word'] = keyword\n",
    "        all_repo_info[repo_name] = repo_important_info\n",
    "    repo_df = pd.DataFrame.from_dict(all_repo_info, orient='index', columns=info_to_scrape+['url','search_word'])\n",
    "    return repo_df\n",
    "\n",
    "def all_repo_info(keywords, stop=10):\n",
    "    repo_df = pd.DataFrame(columns=['name',\"stargazers_count\", \"forks_count\", 'subscribers_count', 'topics', 'language', 'created_at','updated_at','url','search_word'])\n",
    "    for k in keywords:\n",
    "        new_repo = get_repo_info(k, stop=stop)\n",
    "        print(k,len(new_repo.index))\n",
    "        repo_df = pd.concat([repo_df,new_repo])\n",
    "        repo_df.to_csv('most_updated_repo_info_stop25to75.csv')\n",
    "    return repo_df\n",
    "            \n",
    "\n",
    "def topic_relationship_table(repo_df):\n",
    "    id_list = []\n",
    "    topic_list = []\n",
    "    for i in repo_df.index:\n",
    "        topics = repo_df.loc[i,'topics']\n",
    "        for t in topics:\n",
    "            id_list.append(i)\n",
    "            topic_list.append(t)\n",
    "    df = pd.DataFrame({'id':id_list,'topic':topic_list})\n",
    "    return df\n",
    "\n",
    "\n",
    "SCRAPE_CLASS = {'Users': 'mr-1', 'Repositories': \"v-align-middle\"}\n",
    "TYPE = 'Repositories'\n",
    "def get_repo_urls(keyword, stop=10):\n",
    "    urls = []\n",
    "    page = None\n",
    "    for page_num in tqdm(range(25, stop),desc=\"Scraping top GitHub URLs...\"):\n",
    "        keyword_no_space = (\"+\").join(keyword.split(\" \"))\n",
    "        url = f\"https://github.com/search?o=desc&p={str(page_num)}&q={keyword_no_space}&s=&type={TYPE}\"\n",
    "        if page and page.status_code == 429:\n",
    "            time.sleep(60)\n",
    "        page = requests.get(url, headers={'User-agent':'Mozilla/5.0 (Macintosh; Intel Mac OS X 10_15_7) AppleWebKit/605.1.15 (KHTML, like Gecko) Version/15.4 Safari/605.1.15'})\n",
    "        if page.status_code == 429:\n",
    "            time.sleep(60)\n",
    "        soup = BeautifulSoup(page.text, \"html.parser\")\n",
    "        a_tags = soup.find_all(\"a\", class_=SCRAPE_CLASS[TYPE])\n",
    "        new_urls = [a_tag.get(\"href\") for a_tag in a_tags]\n",
    "        urls.extend(new_urls)\n",
    "        time.sleep(5)\n",
    "    return urls"
   ]
  },
  {
   "cell_type": "code",
   "execution_count": 141,
   "id": "behind-matrix",
   "metadata": {},
   "outputs": [
    {
     "name": "stderr",
     "output_type": "stream",
     "text": [
      "Scraping top GitHub URLs...: 100%|██████████| 50/50 [09:36<00:00, 11.52s/it]\n",
      "Scraping top repo info...: 100%|██████████| 450/450 [01:09<00:00,  6.43it/s]\n"
     ]
    },
    {
     "name": "stdout",
     "output_type": "stream",
     "text": [
      "3D 449\n"
     ]
    },
    {
     "name": "stderr",
     "output_type": "stream",
     "text": [
      "Scraping top GitHub URLs...: 100%|██████████| 50/50 [09:42<00:00, 11.65s/it]\n",
      "Scraping top repo info...: 100%|██████████| 450/450 [01:09<00:00,  6.47it/s]\n"
     ]
    },
    {
     "name": "stdout",
     "output_type": "stream",
     "text": [
      "Algorithm 448\n"
     ]
    },
    {
     "name": "stderr",
     "output_type": "stream",
     "text": [
      "Scraping top GitHub URLs...: 100%|██████████| 50/50 [11:42<00:00, 14.06s/it]\n",
      "Scraping top repo info...: 100%|██████████| 430/430 [01:06<00:00,  6.48it/s]\n"
     ]
    },
    {
     "name": "stdout",
     "output_type": "stream",
     "text": [
      "Android 420\n"
     ]
    },
    {
     "name": "stderr",
     "output_type": "stream",
     "text": [
      "Scraping top GitHub URLs...: 100%|██████████| 50/50 [09:45<00:00, 11.70s/it]\n",
      "Scraping top repo info...: 100%|██████████| 450/450 [01:10<00:00,  6.35it/s]\n"
     ]
    },
    {
     "name": "stdout",
     "output_type": "stream",
     "text": [
      "API 391\n"
     ]
    },
    {
     "name": "stderr",
     "output_type": "stream",
     "text": [
      "Scraping top GitHub URLs...: 100%|██████████| 50/50 [09:36<00:00, 11.53s/it]\n",
      "Scraping top repo info...: 100%|██████████| 450/450 [01:09<00:00,  6.47it/s]\n"
     ]
    },
    {
     "name": "stdout",
     "output_type": "stream",
     "text": [
      "Arduino 439\n"
     ]
    },
    {
     "name": "stderr",
     "output_type": "stream",
     "text": [
      "Scraping top GitHub URLs...: 100%|██████████| 50/50 [09:37<00:00, 11.54s/it]\n",
      "Scraping top repo info...: 100%|██████████| 450/450 [01:08<00:00,  6.61it/s]\n"
     ]
    },
    {
     "name": "stdout",
     "output_type": "stream",
     "text": [
      "Atom 450\n"
     ]
    },
    {
     "name": "stderr",
     "output_type": "stream",
     "text": [
      "Scraping top GitHub URLs...: 100%|██████████| 50/50 [09:37<00:00, 11.55s/it]\n",
      "Scraping top repo info...: 100%|██████████| 450/450 [01:12<00:00,  6.17it/s]\n"
     ]
    },
    {
     "name": "stdout",
     "output_type": "stream",
     "text": [
      "aws 448\n"
     ]
    },
    {
     "name": "stderr",
     "output_type": "stream",
     "text": [
      "Scraping top GitHub URLs...: 100%|██████████| 50/50 [09:36<00:00, 11.53s/it]\n",
      "Scraping top repo info...: 100%|██████████| 450/450 [01:17<00:00,  5.83it/s]\n"
     ]
    },
    {
     "name": "stdout",
     "output_type": "stream",
     "text": [
      "azure 450\n"
     ]
    },
    {
     "name": "stderr",
     "output_type": "stream",
     "text": [
      "Scraping top GitHub URLs...: 100%|██████████| 50/50 [09:36<00:00, 11.52s/it]\n",
      "Scraping top repo info...: 100%|██████████| 450/450 [01:07<00:00,  6.62it/s]\n"
     ]
    },
    {
     "name": "stdout",
     "output_type": "stream",
     "text": [
      "bash 448\n"
     ]
    },
    {
     "name": "stderr",
     "output_type": "stream",
     "text": [
      "Scraping top GitHub URLs...: 100%|██████████| 50/50 [10:37<00:00, 12.74s/it]\n",
      "Scraping top repo info...: 100%|██████████| 440/440 [01:02<00:00,  7.02it/s]\n"
     ]
    },
    {
     "name": "stdout",
     "output_type": "stream",
     "text": [
      "bootstrap 435\n"
     ]
    },
    {
     "name": "stderr",
     "output_type": "stream",
     "text": [
      "Scraping top GitHub URLs...: 100%|██████████| 50/50 [09:34<00:00, 11.50s/it]\n",
      "Scraping top repo info...: 100%|██████████| 450/450 [01:35<00:00,  4.71it/s]\n"
     ]
    },
    {
     "name": "stdout",
     "output_type": "stream",
     "text": [
      "chrome 449\n"
     ]
    },
    {
     "name": "stderr",
     "output_type": "stream",
     "text": [
      "Scraping top GitHub URLs...: 100%|██████████| 50/50 [09:39<00:00, 11.59s/it]\n",
      "Scraping top repo info...: 100%|██████████| 450/450 [01:35<00:00,  4.72it/s]\n"
     ]
    },
    {
     "name": "stdout",
     "output_type": "stream",
     "text": [
      "compiler 449\n"
     ]
    },
    {
     "name": "stderr",
     "output_type": "stream",
     "text": [
      "Scraping top GitHub URLs...: 100%|██████████| 50/50 [09:27<00:00, 11.36s/it]\n",
      "Scraping top repo info...: 100%|██████████| 46/46 [00:10<00:00,  4.58it/s]\n"
     ]
    },
    {
     "name": "stdout",
     "output_type": "stream",
     "text": [
      "crytocurrency 46\n"
     ]
    },
    {
     "name": "stderr",
     "output_type": "stream",
     "text": [
      "Scraping top GitHub URLs...: 100%|██████████| 50/50 [09:43<00:00, 11.67s/it]\n",
      "Scraping top repo info...: 100%|██████████| 450/450 [01:34<00:00,  4.74it/s]\n"
     ]
    },
    {
     "name": "stdout",
     "output_type": "stream",
     "text": [
      "data structures 449\n"
     ]
    },
    {
     "name": "stderr",
     "output_type": "stream",
     "text": [
      "Scraping top GitHub URLs...: 100%|██████████| 50/50 [09:41<00:00, 11.62s/it]\n",
      "Scraping top repo info...: 100%|██████████| 450/450 [01:10<00:00,  6.43it/s]\n"
     ]
    },
    {
     "name": "stdout",
     "output_type": "stream",
     "text": [
      "database 440\n"
     ]
    },
    {
     "name": "stderr",
     "output_type": "stream",
     "text": [
      "Scraping top GitHub URLs...: 100%|██████████| 50/50 [09:38<00:00, 11.57s/it]\n",
      "Scraping top repo info...: 100%|██████████| 450/450 [01:09<00:00,  6.44it/s]\n"
     ]
    },
    {
     "name": "stdout",
     "output_type": "stream",
     "text": [
      "data visualization 449\n"
     ]
    },
    {
     "name": "stderr",
     "output_type": "stream",
     "text": [
      "Scraping top GitHub URLs...: 100%|██████████| 50/50 [09:39<00:00, 11.60s/it]\n",
      "Scraping top repo info...: 100%|██████████| 450/450 [01:34<00:00,  4.79it/s]\n"
     ]
    },
    {
     "name": "stdout",
     "output_type": "stream",
     "text": [
      "deep learning 450\n"
     ]
    },
    {
     "name": "stderr",
     "output_type": "stream",
     "text": [
      "Scraping top GitHub URLs...: 100%|██████████| 50/50 [09:41<00:00, 11.63s/it]\n",
      "Scraping top repo info...: 100%|██████████| 450/450 [01:35<00:00,  4.73it/s]\n"
     ]
    },
    {
     "name": "stdout",
     "output_type": "stream",
     "text": [
      "data science 446\n"
     ]
    },
    {
     "name": "stderr",
     "output_type": "stream",
     "text": [
      "Scraping top GitHub URLs...: 100%|██████████| 50/50 [09:41<00:00, 11.62s/it]\n",
      "Scraping top repo info...: 100%|██████████| 450/450 [01:10<00:00,  6.36it/s]\n"
     ]
    },
    {
     "name": "stdout",
     "output_type": "stream",
     "text": [
      "deployment 445\n"
     ]
    },
    {
     "name": "stderr",
     "output_type": "stream",
     "text": [
      "Scraping top GitHub URLs...: 100%|██████████| 50/50 [09:38<00:00, 11.57s/it]\n",
      "Scraping top repo info...: 100%|██████████| 450/450 [01:07<00:00,  6.64it/s]\n"
     ]
    },
    {
     "name": "stdout",
     "output_type": "stream",
     "text": [
      "flask 450\n"
     ]
    },
    {
     "name": "stderr",
     "output_type": "stream",
     "text": [
      "Scraping top GitHub URLs...: 100%|██████████| 50/50 [09:39<00:00, 11.58s/it]\n",
      "Scraping top repo info...: 100%|██████████| 450/450 [01:12<00:00,  6.21it/s]\n"
     ]
    },
    {
     "name": "stdout",
     "output_type": "stream",
     "text": [
      "front end 439\n"
     ]
    },
    {
     "name": "stderr",
     "output_type": "stream",
     "text": [
      "Scraping top GitHub URLs...: 100%|██████████| 50/50 [09:46<00:00, 11.74s/it]\n",
      "Scraping top repo info...: 100%|██████████| 450/450 [01:07<00:00,  6.64it/s]\n"
     ]
    },
    {
     "name": "stdout",
     "output_type": "stream",
     "text": [
      "git 324\n"
     ]
    },
    {
     "name": "stderr",
     "output_type": "stream",
     "text": [
      "Scraping top GitHub URLs...: 100%|██████████| 50/50 [09:38<00:00, 11.58s/it]\n",
      "Scraping top repo info...: 100%|██████████| 450/450 [01:22<00:00,  5.43it/s]\n"
     ]
    },
    {
     "name": "stdout",
     "output_type": "stream",
     "text": [
      "google 438\n"
     ]
    },
    {
     "name": "stderr",
     "output_type": "stream",
     "text": [
      "Scraping top GitHub URLs...: 100%|██████████| 50/50 [09:39<00:00, 11.59s/it]\n",
      "Scraping top repo info...: 100%|██████████| 450/450 [01:36<00:00,  4.66it/s]\n"
     ]
    },
    {
     "name": "stdout",
     "output_type": "stream",
     "text": [
      "iOS 436\n"
     ]
    },
    {
     "name": "stderr",
     "output_type": "stream",
     "text": [
      "Scraping top GitHub URLs...: 100%|██████████| 50/50 [09:38<00:00, 11.58s/it]\n",
      "Scraping top repo info...: 100%|██████████| 450/450 [01:37<00:00,  4.64it/s]\n"
     ]
    },
    {
     "name": "stdout",
     "output_type": "stream",
     "text": [
      "json 449\n"
     ]
    },
    {
     "name": "stderr",
     "output_type": "stream",
     "text": [
      "Scraping top GitHub URLs...: 100%|██████████| 50/50 [09:44<00:00, 11.69s/it]\n",
      "Scraping top repo info...: 100%|██████████| 450/450 [01:38<00:00,  4.57it/s]\n"
     ]
    },
    {
     "name": "stdout",
     "output_type": "stream",
     "text": [
      "library 440\n"
     ]
    },
    {
     "name": "stderr",
     "output_type": "stream",
     "text": [
      "Scraping top GitHub URLs...: 100%|██████████| 50/50 [09:44<00:00, 11.69s/it]\n",
      "Scraping top repo info...: 100%|██████████| 450/450 [01:35<00:00,  4.73it/s]\n"
     ]
    },
    {
     "name": "stdout",
     "output_type": "stream",
     "text": [
      "machine learning 449\n"
     ]
    },
    {
     "name": "stderr",
     "output_type": "stream",
     "text": [
      "Scraping top GitHub URLs...: 100%|██████████| 50/50 [09:39<00:00, 11.58s/it]\n",
      "Scraping top repo info...: 100%|██████████| 450/450 [01:46<00:00,  4.21it/s]\n"
     ]
    },
    {
     "name": "stdout",
     "output_type": "stream",
     "text": [
      "macOS 450\n"
     ]
    },
    {
     "name": "stderr",
     "output_type": "stream",
     "text": [
      "Scraping top GitHub URLs...: 100%|██████████| 50/50 [09:41<00:00, 11.62s/it]\n",
      "Scraping top repo info...: 100%|██████████| 450/450 [01:36<00:00,  4.66it/s]\n"
     ]
    },
    {
     "name": "stdout",
     "output_type": "stream",
     "text": [
      "mobile 445\n"
     ]
    },
    {
     "name": "stderr",
     "output_type": "stream",
     "text": [
      "Scraping top GitHub URLs...: 100%|██████████| 50/50 [11:40<00:00, 14.00s/it]\n",
      "Scraping top repo info...: 100%|██████████| 430/430 [01:30<00:00,  4.78it/s]\n"
     ]
    },
    {
     "name": "stdout",
     "output_type": "stream",
     "text": [
      "modeling 430\n"
     ]
    },
    {
     "name": "stderr",
     "output_type": "stream",
     "text": [
      "Scraping top GitHub URLs...: 100%|██████████| 50/50 [09:38<00:00, 11.57s/it]\n",
      "Scraping top repo info...: 100%|██████████| 450/450 [01:38<00:00,  4.56it/s]\n"
     ]
    },
    {
     "name": "stdout",
     "output_type": "stream",
     "text": [
      "natural language processing 450\n"
     ]
    },
    {
     "name": "stderr",
     "output_type": "stream",
     "text": [
      "Scraping top GitHub URLs...: 100%|██████████| 50/50 [09:40<00:00, 11.62s/it]\n",
      "Scraping top repo info...: 100%|██████████| 450/450 [01:36<00:00,  4.67it/s]\n"
     ]
    },
    {
     "name": "stdout",
     "output_type": "stream",
     "text": [
      "neural network 450\n"
     ]
    },
    {
     "name": "stderr",
     "output_type": "stream",
     "text": [
      "Scraping top GitHub URLs...: 100%|██████████| 50/50 [09:38<00:00, 11.57s/it]\n",
      "Scraping top repo info...: 100%|██████████| 450/450 [01:36<00:00,  4.64it/s]\n"
     ]
    },
    {
     "name": "stdout",
     "output_type": "stream",
     "text": [
      "operating system 449\n"
     ]
    },
    {
     "name": "stderr",
     "output_type": "stream",
     "text": [
      "Scraping top GitHub URLs...: 100%|██████████| 50/50 [09:39<00:00, 11.60s/it]\n",
      "Scraping top repo info...: 100%|██████████| 450/450 [01:32<00:00,  4.87it/s]\n"
     ]
    },
    {
     "name": "stdout",
     "output_type": "stream",
     "text": [
      "parsing 449\n"
     ]
    },
    {
     "name": "stderr",
     "output_type": "stream",
     "text": [
      "Scraping top GitHub URLs...: 100%|██████████| 50/50 [09:39<00:00, 11.59s/it]\n",
      "Scraping top repo info...: 100%|██████████| 450/450 [01:36<00:00,  4.68it/s]\n"
     ]
    },
    {
     "name": "stdout",
     "output_type": "stream",
     "text": [
      "software 448\n"
     ]
    },
    {
     "name": "stderr",
     "output_type": "stream",
     "text": [
      "Scraping top GitHub URLs...: 100%|██████████| 50/50 [09:45<00:00, 11.71s/it]\n",
      "Scraping top repo info...: 100%|██████████| 450/450 [01:36<00:00,  4.66it/s]\n"
     ]
    },
    {
     "name": "stdout",
     "output_type": "stream",
     "text": [
      "server 428\n"
     ]
    },
    {
     "name": "stderr",
     "output_type": "stream",
     "text": [
      "Scraping top GitHub URLs...: 100%|██████████| 50/50 [13:36<00:00, 16.32s/it]\n",
      "Scraping top repo info...: 100%|██████████| 410/410 [01:31<00:00,  4.50it/s]\n"
     ]
    },
    {
     "name": "stdout",
     "output_type": "stream",
     "text": [
      "virtual reality 410\n"
     ]
    },
    {
     "name": "stderr",
     "output_type": "stream",
     "text": [
      "Scraping top GitHub URLs...: 100%|██████████| 50/50 [09:40<00:00, 11.61s/it]\n",
      "Scraping top repo info...: 100%|██████████| 450/450 [01:34<00:00,  4.78it/s]\n"
     ]
    },
    {
     "name": "stdout",
     "output_type": "stream",
     "text": [
      "windows 449\n"
     ]
    }
   ],
   "source": [
    "info = all_repo_info(github_topics, stop=75)\n",
    "topic_rel = topic_relationship_table(info)\n",
    "topic_rel.to_csv('topic_relationship_table_stop25to75.csv')"
   ]
  },
  {
   "cell_type": "code",
   "execution_count": 90,
   "id": "narrative-threat",
   "metadata": {},
   "outputs": [
    {
     "data": {
      "text/plain": [
       "38"
      ]
     },
     "execution_count": 90,
     "metadata": {},
     "output_type": "execute_result"
    }
   ],
   "source": [
    "len(github_topics)"
   ]
  },
  {
   "cell_type": "code",
   "execution_count": 139,
   "id": "broadband-recovery",
   "metadata": {},
   "outputs": [
    {
     "data": {
      "text/html": [
       "<div>\n",
       "<style scoped>\n",
       "    .dataframe tbody tr th:only-of-type {\n",
       "        vertical-align: middle;\n",
       "    }\n",
       "\n",
       "    .dataframe tbody tr th {\n",
       "        vertical-align: top;\n",
       "    }\n",
       "\n",
       "    .dataframe thead th {\n",
       "        text-align: right;\n",
       "    }\n",
       "</style>\n",
       "<table border=\"1\" class=\"dataframe\">\n",
       "  <thead>\n",
       "    <tr style=\"text-align: right;\">\n",
       "      <th></th>\n",
       "      <th>name</th>\n",
       "      <th>stargazers_count</th>\n",
       "      <th>forks_count</th>\n",
       "      <th>subscribers_count</th>\n",
       "      <th>topics</th>\n",
       "      <th>language</th>\n",
       "      <th>created_at</th>\n",
       "      <th>updated_at</th>\n",
       "      <th>url</th>\n",
       "      <th>search_word</th>\n",
       "    </tr>\n",
       "  </thead>\n",
       "  <tbody>\n",
       "    <tr>\n",
       "      <th>442942525</th>\n",
       "      <td>3d</td>\n",
       "      <td>1276</td>\n",
       "      <td>745</td>\n",
       "      <td>25</td>\n",
       "      <td>[3d, canvas, css, html, javascript, reactjs, s...</td>\n",
       "      <td>JavaScript</td>\n",
       "      <td>2021-12-30T02:19:09Z</td>\n",
       "      <td>2022-04-14T02:03:05Z</td>\n",
       "      <td>/dragonir/3d</td>\n",
       "      <td>3D</td>\n",
       "    </tr>\n",
       "    <tr>\n",
       "      <th>576201</th>\n",
       "      <td>three.js</td>\n",
       "      <td>80956</td>\n",
       "      <td>31338</td>\n",
       "      <td>2545</td>\n",
       "      <td>[3d, augmented-reality, canvas, html5, javascr...</td>\n",
       "      <td>JavaScript</td>\n",
       "      <td>2010-03-23T18:58:01Z</td>\n",
       "      <td>2022-04-14T09:56:48Z</td>\n",
       "      <td>/mrdoob/three.js</td>\n",
       "      <td>3D</td>\n",
       "    </tr>\n",
       "    <tr>\n",
       "      <th>100120455</th>\n",
       "      <td>3D-Machine-Learning</td>\n",
       "      <td>7811</td>\n",
       "      <td>1625</td>\n",
       "      <td>588</td>\n",
       "      <td>[3d, 3d-reconstruction, constructive-solid-geo...</td>\n",
       "      <td>None</td>\n",
       "      <td>2017-08-12T15:20:54Z</td>\n",
       "      <td>2022-04-13T14:14:44Z</td>\n",
       "      <td>/timzhang642/3D-Machine-Learning</td>\n",
       "      <td>3D</td>\n",
       "    </tr>\n",
       "    <tr>\n",
       "      <th>16971353</th>\n",
       "      <td>3D</td>\n",
       "      <td>131</td>\n",
       "      <td>65</td>\n",
       "      <td>52</td>\n",
       "      <td>[]</td>\n",
       "      <td>None</td>\n",
       "      <td>2014-02-19T02:27:32Z</td>\n",
       "      <td>2021-12-29T06:33:38Z</td>\n",
       "      <td>/iliterobotics/3D</td>\n",
       "      <td>3D</td>\n",
       "    </tr>\n",
       "    <tr>\n",
       "      <th>254127753</th>\n",
       "      <td>3d-photo-inpainting</td>\n",
       "      <td>5869</td>\n",
       "      <td>908</td>\n",
       "      <td>145</td>\n",
       "      <td>[3d-photo, novel-view-synthesis]</td>\n",
       "      <td>Python</td>\n",
       "      <td>2020-04-08T15:31:45Z</td>\n",
       "      <td>2022-04-14T09:53:49Z</td>\n",
       "      <td>/vt-vl-lab/3d-photo-inpainting</td>\n",
       "      <td>3D</td>\n",
       "    </tr>\n",
       "    <tr>\n",
       "      <th>...</th>\n",
       "      <td>...</td>\n",
       "      <td>...</td>\n",
       "      <td>...</td>\n",
       "      <td>...</td>\n",
       "      <td>...</td>\n",
       "      <td>...</td>\n",
       "      <td>...</td>\n",
       "      <td>...</td>\n",
       "      <td>...</td>\n",
       "      <td>...</td>\n",
       "    </tr>\n",
       "    <tr>\n",
       "      <th>66768460</th>\n",
       "      <td>Windows-Rootkits</td>\n",
       "      <td>348</td>\n",
       "      <td>166</td>\n",
       "      <td>27</td>\n",
       "      <td>[]</td>\n",
       "      <td>C</td>\n",
       "      <td>2016-08-28T13:03:25Z</td>\n",
       "      <td>2022-04-09T00:31:55Z</td>\n",
       "      <td>/ciyze0101/Windows-Rootkits</td>\n",
       "      <td>windows</td>\n",
       "    </tr>\n",
       "    <tr>\n",
       "      <th>351432397</th>\n",
       "      <td>Swin-Transformer</td>\n",
       "      <td>7781</td>\n",
       "      <td>1269</td>\n",
       "      <td>122</td>\n",
       "      <td>[ade20k, image-classification, imagenet, mask-...</td>\n",
       "      <td>Python</td>\n",
       "      <td>2021-03-25T12:42:36Z</td>\n",
       "      <td>2022-04-14T13:24:53Z</td>\n",
       "      <td>/microsoft/Swin-Transformer</td>\n",
       "      <td>windows</td>\n",
       "    </tr>\n",
       "    <tr>\n",
       "      <th>38767563</th>\n",
       "      <td>Rocket.Chat.Electron</td>\n",
       "      <td>1348</td>\n",
       "      <td>565</td>\n",
       "      <td>113</td>\n",
       "      <td>[chat, collaboration, desktop, electron, foss,...</td>\n",
       "      <td>TypeScript</td>\n",
       "      <td>2015-07-08T16:56:41Z</td>\n",
       "      <td>2022-04-12T05:17:19Z</td>\n",
       "      <td>/RocketChat/Rocket.Chat.Electron</td>\n",
       "      <td>windows</td>\n",
       "    </tr>\n",
       "    <tr>\n",
       "      <th>51450581</th>\n",
       "      <td>awesome-windows-exploitation</td>\n",
       "      <td>55</td>\n",
       "      <td>590</td>\n",
       "      <td>3</td>\n",
       "      <td>[]</td>\n",
       "      <td>None</td>\n",
       "      <td>2016-02-10T15:41:56Z</td>\n",
       "      <td>2022-04-07T20:09:21Z</td>\n",
       "      <td>/GuardianRG/awesome-windows-exploitation</td>\n",
       "      <td>windows</td>\n",
       "    </tr>\n",
       "    <tr>\n",
       "      <th>62802730</th>\n",
       "      <td>winafl</td>\n",
       "      <td>1927</td>\n",
       "      <td>478</td>\n",
       "      <td>116</td>\n",
       "      <td>[afl, fuzzing, security]</td>\n",
       "      <td>C</td>\n",
       "      <td>2016-07-07T11:46:59Z</td>\n",
       "      <td>2022-04-13T16:54:56Z</td>\n",
       "      <td>/googleprojectzero/winafl</td>\n",
       "      <td>windows</td>\n",
       "    </tr>\n",
       "  </tbody>\n",
       "</table>\n",
       "<p>7945 rows × 10 columns</p>\n",
       "</div>"
      ],
      "text/plain": [
       "                                   name stargazers_count forks_count  \\\n",
       "442942525                            3d             1276         745   \n",
       "576201                         three.js            80956       31338   \n",
       "100120455           3D-Machine-Learning             7811        1625   \n",
       "16971353                             3D              131          65   \n",
       "254127753           3d-photo-inpainting             5869         908   \n",
       "...                                 ...              ...         ...   \n",
       "66768460               Windows-Rootkits              348         166   \n",
       "351432397              Swin-Transformer             7781        1269   \n",
       "38767563           Rocket.Chat.Electron             1348         565   \n",
       "51450581   awesome-windows-exploitation               55         590   \n",
       "62802730                         winafl             1927         478   \n",
       "\n",
       "          subscribers_count  \\\n",
       "442942525                25   \n",
       "576201                 2545   \n",
       "100120455               588   \n",
       "16971353                 52   \n",
       "254127753               145   \n",
       "...                     ...   \n",
       "66768460                 27   \n",
       "351432397               122   \n",
       "38767563                113   \n",
       "51450581                  3   \n",
       "62802730                116   \n",
       "\n",
       "                                                      topics    language  \\\n",
       "442942525  [3d, canvas, css, html, javascript, reactjs, s...  JavaScript   \n",
       "576201     [3d, augmented-reality, canvas, html5, javascr...  JavaScript   \n",
       "100120455  [3d, 3d-reconstruction, constructive-solid-geo...        None   \n",
       "16971353                                                  []        None   \n",
       "254127753                   [3d-photo, novel-view-synthesis]      Python   \n",
       "...                                                      ...         ...   \n",
       "66768460                                                  []           C   \n",
       "351432397  [ade20k, image-classification, imagenet, mask-...      Python   \n",
       "38767563   [chat, collaboration, desktop, electron, foss,...  TypeScript   \n",
       "51450581                                                  []        None   \n",
       "62802730                            [afl, fuzzing, security]           C   \n",
       "\n",
       "                     created_at            updated_at  \\\n",
       "442942525  2021-12-30T02:19:09Z  2022-04-14T02:03:05Z   \n",
       "576201     2010-03-23T18:58:01Z  2022-04-14T09:56:48Z   \n",
       "100120455  2017-08-12T15:20:54Z  2022-04-13T14:14:44Z   \n",
       "16971353   2014-02-19T02:27:32Z  2021-12-29T06:33:38Z   \n",
       "254127753  2020-04-08T15:31:45Z  2022-04-14T09:53:49Z   \n",
       "...                         ...                   ...   \n",
       "66768460   2016-08-28T13:03:25Z  2022-04-09T00:31:55Z   \n",
       "351432397  2021-03-25T12:42:36Z  2022-04-14T13:24:53Z   \n",
       "38767563   2015-07-08T16:56:41Z  2022-04-12T05:17:19Z   \n",
       "51450581   2016-02-10T15:41:56Z  2022-04-07T20:09:21Z   \n",
       "62802730   2016-07-07T11:46:59Z  2022-04-13T16:54:56Z   \n",
       "\n",
       "                                                url search_word  \n",
       "442942525                              /dragonir/3d          3D  \n",
       "576201                             /mrdoob/three.js          3D  \n",
       "100120455          /timzhang642/3D-Machine-Learning          3D  \n",
       "16971353                          /iliterobotics/3D          3D  \n",
       "254127753            /vt-vl-lab/3d-photo-inpainting          3D  \n",
       "...                                             ...         ...  \n",
       "66768460                /ciyze0101/Windows-Rootkits     windows  \n",
       "351432397               /microsoft/Swin-Transformer     windows  \n",
       "38767563           /RocketChat/Rocket.Chat.Electron     windows  \n",
       "51450581   /GuardianRG/awesome-windows-exploitation     windows  \n",
       "62802730                  /googleprojectzero/winafl     windows  \n",
       "\n",
       "[7945 rows x 10 columns]"
      ]
     },
     "execution_count": 139,
     "metadata": {},
     "output_type": "execute_result"
    }
   ],
   "source": [
    "info[info.language != np.nan]"
   ]
  },
  {
   "cell_type": "code",
   "execution_count": 127,
   "id": "static-longer",
   "metadata": {},
   "outputs": [
    {
     "data": {
      "text/html": [
       "<div>\n",
       "<style scoped>\n",
       "    .dataframe tbody tr th:only-of-type {\n",
       "        vertical-align: middle;\n",
       "    }\n",
       "\n",
       "    .dataframe tbody tr th {\n",
       "        vertical-align: top;\n",
       "    }\n",
       "\n",
       "    .dataframe thead th {\n",
       "        text-align: right;\n",
       "    }\n",
       "</style>\n",
       "<table border=\"1\" class=\"dataframe\">\n",
       "  <thead>\n",
       "    <tr style=\"text-align: right;\">\n",
       "      <th></th>\n",
       "      <th>id</th>\n",
       "      <th>topic</th>\n",
       "    </tr>\n",
       "  </thead>\n",
       "  <tbody>\n",
       "    <tr>\n",
       "      <th>0</th>\n",
       "      <td>442942525</td>\n",
       "      <td>3d</td>\n",
       "    </tr>\n",
       "    <tr>\n",
       "      <th>1</th>\n",
       "      <td>442942525</td>\n",
       "      <td>canvas</td>\n",
       "    </tr>\n",
       "    <tr>\n",
       "      <th>2</th>\n",
       "      <td>442942525</td>\n",
       "      <td>css</td>\n",
       "    </tr>\n",
       "    <tr>\n",
       "      <th>3</th>\n",
       "      <td>442942525</td>\n",
       "      <td>html</td>\n",
       "    </tr>\n",
       "    <tr>\n",
       "      <th>4</th>\n",
       "      <td>442942525</td>\n",
       "      <td>javascript</td>\n",
       "    </tr>\n",
       "    <tr>\n",
       "      <th>...</th>\n",
       "      <td>...</td>\n",
       "      <td>...</td>\n",
       "    </tr>\n",
       "    <tr>\n",
       "      <th>26060</th>\n",
       "      <td>38767563</td>\n",
       "      <td>rocketchat</td>\n",
       "    </tr>\n",
       "    <tr>\n",
       "      <th>26061</th>\n",
       "      <td>38767563</td>\n",
       "      <td>windows</td>\n",
       "    </tr>\n",
       "    <tr>\n",
       "      <th>26062</th>\n",
       "      <td>62802730</td>\n",
       "      <td>afl</td>\n",
       "    </tr>\n",
       "    <tr>\n",
       "      <th>26063</th>\n",
       "      <td>62802730</td>\n",
       "      <td>fuzzing</td>\n",
       "    </tr>\n",
       "    <tr>\n",
       "      <th>26064</th>\n",
       "      <td>62802730</td>\n",
       "      <td>security</td>\n",
       "    </tr>\n",
       "  </tbody>\n",
       "</table>\n",
       "<p>26065 rows × 2 columns</p>\n",
       "</div>"
      ],
      "text/plain": [
       "              id       topic\n",
       "0      442942525          3d\n",
       "1      442942525      canvas\n",
       "2      442942525         css\n",
       "3      442942525        html\n",
       "4      442942525  javascript\n",
       "...          ...         ...\n",
       "26060   38767563  rocketchat\n",
       "26061   38767563     windows\n",
       "26062   62802730         afl\n",
       "26063   62802730     fuzzing\n",
       "26064   62802730    security\n",
       "\n",
       "[26065 rows x 2 columns]"
      ]
     },
     "execution_count": 127,
     "metadata": {},
     "output_type": "execute_result"
    }
   ],
   "source": [
    "topic_rel"
   ]
  },
  {
   "cell_type": "code",
   "execution_count": 47,
   "id": "tropical-murder",
   "metadata": {},
   "outputs": [
    {
     "data": {
      "text/plain": [
       "{'id': 155662306,\n",
       " 'node_id': 'MDEwOlJlcG9zaXRvcnkxNTU2NjIzMDY=',\n",
       " 'name': 'homemade-machine-learning',\n",
       " 'full_name': 'trekhleb/homemade-machine-learning',\n",
       " 'private': False,\n",
       " 'owner': {'login': 'trekhleb',\n",
       "  'id': 3000285,\n",
       "  'node_id': 'MDQ6VXNlcjMwMDAyODU=',\n",
       "  'avatar_url': 'https://avatars.githubusercontent.com/u/3000285?v=4',\n",
       "  'gravatar_id': '',\n",
       "  'url': 'https://api.github.com/users/trekhleb',\n",
       "  'html_url': 'https://github.com/trekhleb',\n",
       "  'followers_url': 'https://api.github.com/users/trekhleb/followers',\n",
       "  'following_url': 'https://api.github.com/users/trekhleb/following{/other_user}',\n",
       "  'gists_url': 'https://api.github.com/users/trekhleb/gists{/gist_id}',\n",
       "  'starred_url': 'https://api.github.com/users/trekhleb/starred{/owner}{/repo}',\n",
       "  'subscriptions_url': 'https://api.github.com/users/trekhleb/subscriptions',\n",
       "  'organizations_url': 'https://api.github.com/users/trekhleb/orgs',\n",
       "  'repos_url': 'https://api.github.com/users/trekhleb/repos',\n",
       "  'events_url': 'https://api.github.com/users/trekhleb/events{/privacy}',\n",
       "  'received_events_url': 'https://api.github.com/users/trekhleb/received_events',\n",
       "  'type': 'User',\n",
       "  'site_admin': False},\n",
       " 'html_url': 'https://github.com/trekhleb/homemade-machine-learning',\n",
       " 'description': '🤖 Python examples of popular machine learning algorithms with interactive Jupyter demos and math being explained',\n",
       " 'fork': False,\n",
       " 'url': 'https://api.github.com/repos/trekhleb/homemade-machine-learning',\n",
       " 'forks_url': 'https://api.github.com/repos/trekhleb/homemade-machine-learning/forks',\n",
       " 'keys_url': 'https://api.github.com/repos/trekhleb/homemade-machine-learning/keys{/key_id}',\n",
       " 'collaborators_url': 'https://api.github.com/repos/trekhleb/homemade-machine-learning/collaborators{/collaborator}',\n",
       " 'teams_url': 'https://api.github.com/repos/trekhleb/homemade-machine-learning/teams',\n",
       " 'hooks_url': 'https://api.github.com/repos/trekhleb/homemade-machine-learning/hooks',\n",
       " 'issue_events_url': 'https://api.github.com/repos/trekhleb/homemade-machine-learning/issues/events{/number}',\n",
       " 'events_url': 'https://api.github.com/repos/trekhleb/homemade-machine-learning/events',\n",
       " 'assignees_url': 'https://api.github.com/repos/trekhleb/homemade-machine-learning/assignees{/user}',\n",
       " 'branches_url': 'https://api.github.com/repos/trekhleb/homemade-machine-learning/branches{/branch}',\n",
       " 'tags_url': 'https://api.github.com/repos/trekhleb/homemade-machine-learning/tags',\n",
       " 'blobs_url': 'https://api.github.com/repos/trekhleb/homemade-machine-learning/git/blobs{/sha}',\n",
       " 'git_tags_url': 'https://api.github.com/repos/trekhleb/homemade-machine-learning/git/tags{/sha}',\n",
       " 'git_refs_url': 'https://api.github.com/repos/trekhleb/homemade-machine-learning/git/refs{/sha}',\n",
       " 'trees_url': 'https://api.github.com/repos/trekhleb/homemade-machine-learning/git/trees{/sha}',\n",
       " 'statuses_url': 'https://api.github.com/repos/trekhleb/homemade-machine-learning/statuses/{sha}',\n",
       " 'languages_url': 'https://api.github.com/repos/trekhleb/homemade-machine-learning/languages',\n",
       " 'stargazers_url': 'https://api.github.com/repos/trekhleb/homemade-machine-learning/stargazers',\n",
       " 'contributors_url': 'https://api.github.com/repos/trekhleb/homemade-machine-learning/contributors',\n",
       " 'subscribers_url': 'https://api.github.com/repos/trekhleb/homemade-machine-learning/subscribers',\n",
       " 'subscription_url': 'https://api.github.com/repos/trekhleb/homemade-machine-learning/subscription',\n",
       " 'commits_url': 'https://api.github.com/repos/trekhleb/homemade-machine-learning/commits{/sha}',\n",
       " 'git_commits_url': 'https://api.github.com/repos/trekhleb/homemade-machine-learning/git/commits{/sha}',\n",
       " 'comments_url': 'https://api.github.com/repos/trekhleb/homemade-machine-learning/comments{/number}',\n",
       " 'issue_comment_url': 'https://api.github.com/repos/trekhleb/homemade-machine-learning/issues/comments{/number}',\n",
       " 'contents_url': 'https://api.github.com/repos/trekhleb/homemade-machine-learning/contents/{+path}',\n",
       " 'compare_url': 'https://api.github.com/repos/trekhleb/homemade-machine-learning/compare/{base}...{head}',\n",
       " 'merges_url': 'https://api.github.com/repos/trekhleb/homemade-machine-learning/merges',\n",
       " 'archive_url': 'https://api.github.com/repos/trekhleb/homemade-machine-learning/{archive_format}{/ref}',\n",
       " 'downloads_url': 'https://api.github.com/repos/trekhleb/homemade-machine-learning/downloads',\n",
       " 'issues_url': 'https://api.github.com/repos/trekhleb/homemade-machine-learning/issues{/number}',\n",
       " 'pulls_url': 'https://api.github.com/repos/trekhleb/homemade-machine-learning/pulls{/number}',\n",
       " 'milestones_url': 'https://api.github.com/repos/trekhleb/homemade-machine-learning/milestones{/number}',\n",
       " 'notifications_url': 'https://api.github.com/repos/trekhleb/homemade-machine-learning/notifications{?since,all,participating}',\n",
       " 'labels_url': 'https://api.github.com/repos/trekhleb/homemade-machine-learning/labels{/name}',\n",
       " 'releases_url': 'https://api.github.com/repos/trekhleb/homemade-machine-learning/releases{/id}',\n",
       " 'deployments_url': 'https://api.github.com/repos/trekhleb/homemade-machine-learning/deployments',\n",
       " 'created_at': '2018-11-01T04:34:19Z',\n",
       " 'updated_at': '2022-04-12T20:17:01Z',\n",
       " 'pushed_at': '2022-03-12T16:46:32Z',\n",
       " 'git_url': 'git://github.com/trekhleb/homemade-machine-learning.git',\n",
       " 'ssh_url': 'git@github.com:trekhleb/homemade-machine-learning.git',\n",
       " 'clone_url': 'https://github.com/trekhleb/homemade-machine-learning.git',\n",
       " 'svn_url': 'https://github.com/trekhleb/homemade-machine-learning',\n",
       " 'homepage': '',\n",
       " 'size': 14826,\n",
       " 'stargazers_count': 19139,\n",
       " 'watchers_count': 19139,\n",
       " 'language': 'Jupyter Notebook',\n",
       " 'has_issues': True,\n",
       " 'has_projects': False,\n",
       " 'has_downloads': True,\n",
       " 'has_wiki': False,\n",
       " 'has_pages': False,\n",
       " 'forks_count': 3593,\n",
       " 'mirror_url': None,\n",
       " 'archived': False,\n",
       " 'disabled': False,\n",
       " 'open_issues_count': 21,\n",
       " 'license': {'key': 'mit',\n",
       "  'name': 'MIT License',\n",
       "  'spdx_id': 'MIT',\n",
       "  'url': 'https://api.github.com/licenses/mit',\n",
       "  'node_id': 'MDc6TGljZW5zZTEz'},\n",
       " 'allow_forking': True,\n",
       " 'is_template': False,\n",
       " 'topics': ['algorithm',\n",
       "  'jupyter',\n",
       "  'jupyter-notebook',\n",
       "  'machine-learning',\n",
       "  'machine-learning-algorithms',\n",
       "  'machinelearning',\n",
       "  'python'],\n",
       " 'visibility': 'public',\n",
       " 'forks': 3593,\n",
       " 'open_issues': 21,\n",
       " 'watchers': 19139,\n",
       " 'default_branch': 'master',\n",
       " 'permissions': {'admin': False,\n",
       "  'maintain': False,\n",
       "  'push': False,\n",
       "  'triage': False,\n",
       "  'pull': True},\n",
       " 'temp_clone_token': '',\n",
       " 'network_count': 3593,\n",
       " 'subscribers_count': 941}"
      ]
     },
     "execution_count": 47,
     "metadata": {},
     "output_type": "execute_result"
    }
   ],
   "source": [
    "repo_info"
   ]
  },
  {
   "cell_type": "code",
   "execution_count": null,
   "id": "sufficient-subscriber",
   "metadata": {},
   "outputs": [],
   "source": []
  }
 ],
 "metadata": {
  "kernelspec": {
   "display_name": "Python 3",
   "language": "python",
   "name": "python3"
  },
  "language_info": {
   "codemirror_mode": {
    "name": "ipython",
    "version": 3
   },
   "file_extension": ".py",
   "mimetype": "text/x-python",
   "name": "python",
   "nbconvert_exporter": "python",
   "pygments_lexer": "ipython3",
   "version": "3.7.9"
  }
 },
 "nbformat": 4,
 "nbformat_minor": 5
}

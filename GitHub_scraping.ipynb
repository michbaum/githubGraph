{
 "cells": [
  {
   "cell_type": "code",
   "execution_count": 56,
   "id": "peripheral-bryan",
   "metadata": {},
   "outputs": [],
   "source": [
    "from top_github_scraper import (get_top_repo_urls, get_top_repos, get_top_contributors, \n",
    "get_top_user_urls, get_top_users)\n",
    "#import datapane as dp \n",
    "import pandas as pd \n",
    "import numpy as np\n",
    "from tqdm import tqdm \n",
    "from folium import plugins\n",
    "import geopandas\n",
    "from geopy.geocoders import Nominatim\n",
    "import folium\n",
    "from folium.plugins import Search\n",
    "import requests\n",
    "import os\n",
    "from bs4 import BeautifulSoup\n",
    "import time\n",
    "USERNAME = os.getenv(\"GITHUB_USERNAME\")\n",
    "TOKEN = os.getenv(\"GITHUB_TOKEN\")"
   ]
  },
  {
   "cell_type": "code",
   "execution_count": 57,
   "id": "supported-explorer",
   "metadata": {},
   "outputs": [],
   "source": [
    "keywords = [\"data science\",\"api\"]\n",
    "github_topics = ['3D','Algorithm','Android','API','Arduino','Atom','aws','azure','bash','bootstrap','chrome','compiler','crytocurrency','data structures','database','data visualization','deep learning','data science','deployment','flask','front end','git','google','iOS','json','library','machine learning','macOS','mobile','modeling','natural language processing','neural network','operating system','parsing','software','server','virtual reality','windows']\n",
    "headers = {'User-Agent': 'Mozilla/5.0 (Macintosh; Intel Mac OS X 10_9_3) AppleWebKit/537.75.14 (KHTML, like Gecko) Version/7.0.3 Safari/7046A194A'}"
   ]
  },
  {
   "cell_type": "code",
   "execution_count": 58,
   "id": "ignored-threshold",
   "metadata": {},
   "outputs": [],
   "source": [
    "def get_repo_info(keyword, stop=10):\n",
    "    repos = get_repo_urls(keyword, stop=stop)\n",
    "    \n",
    "    all_repo_info = dict()\n",
    "    info_to_scrape = ['name',\"stargazers_count\", \"forks_count\", 'subscribers_count', 'topics', 'language', 'created_at','updated_at']\n",
    "    for repo in tqdm(repos,desc=\"Scraping top repo info...\"):\n",
    "        repo_url = repo\n",
    "        repo_info_url = f\"https://api.github.com/repos{repo_url}\"\n",
    "        repo_info = requests.get(repo_info_url, auth=(USERNAME, TOKEN))\n",
    "        if repo_info.status_code == 429:\n",
    "            time.sleep(30)\n",
    "        repo_info = repo_info.json()\n",
    "        repo_name = repo_info['id']\n",
    "        repo_important_info = {}\n",
    "        for info in info_to_scrape:\n",
    "            repo_important_info[info] = repo_info[info]\n",
    "        repo_important_info['url'] = repo_url\n",
    "        repo_important_info['search_word'] = keyword\n",
    "        all_repo_info[repo_name] = repo_important_info\n",
    "    repo_df = pd.DataFrame.from_dict(all_repo_info, orient='index', columns=info_to_scrape+['url','search_word'])\n",
    "    return repo_df\n",
    "\n",
    "def all_repo_info(keywords, stop=10):\n",
    "    repo_df = pd.DataFrame(columns=['name',\"stargazers_count\", \"forks_count\", 'subscribers_count', 'topics', 'language', 'created_at','updated_at','url','search_word'])\n",
    "    for k in keywords:\n",
    "        new_repo = get_repo_info(k, stop=stop)\n",
    "        print(k,len(new_repo.index))\n",
    "        repo_df = pd.concat([repo_df,new_repo])\n",
    "        repo_df.to_csv('most_updated_repo_info_stop25to75.csv')\n",
    "    return repo_df\n",
    "            \n",
    "\n",
    "def topic_relationship_table(repo_df):\n",
    "    id_list = []\n",
    "    topic_list = []\n",
    "    for i in repo_df.index:\n",
    "        topics = repo_df.loc[i,'topics']\n",
    "        for t in topics:\n",
    "            id_list.append(i)\n",
    "            topic_list.append(t)\n",
    "    df = pd.DataFrame({'id':id_list,'topic':topic_list})\n",
    "    return df\n",
    "\n",
    "\n",
    "SCRAPE_CLASS = {'Users': 'mr-1', 'Repositories': \"v-align-middle\"}\n",
    "TYPE = 'Repositories'\n",
    "def get_repo_urls(keyword, stop=10):\n",
    "    urls = []\n",
    "    page = None\n",
    "    for page_num in tqdm(range(25, stop),desc=\"Scraping top GitHub URLs...\"):\n",
    "        keyword_no_space = (\"+\").join(keyword.split(\" \"))\n",
    "        url = f\"https://github.com/search?o=desc&p={str(page_num)}&q={keyword_no_space}&s=&type={TYPE}\"\n",
    "        if page and page.status_code == 429:\n",
    "            time.sleep(60)\n",
    "        page = requests.get(url, headers={'User-agent':'Mozilla/5.0 (Macintosh; Intel Mac OS X 10_15_7) AppleWebKit/605.1.15 (KHTML, like Gecko) Version/15.4 Safari/605.1.15'})\n",
    "        if page.status_code == 429:\n",
    "            time.sleep(60)\n",
    "        soup = BeautifulSoup(page.text, \"html.parser\")\n",
    "        a_tags = soup.find_all(\"a\", class_=SCRAPE_CLASS[TYPE])\n",
    "        new_urls = [a_tag.get(\"href\") for a_tag in a_tags]\n",
    "        urls.extend(new_urls)\n",
    "        time.sleep(5)\n",
    "    return urls"
   ]
  },
  {
   "cell_type": "code",
   "execution_count": 59,
   "id": "identified-phenomenon",
   "metadata": {},
   "outputs": [],
   "source": [
    "def get_repo_contributors(repo_url, repo_contributor_rel, repo_id, contributors_set,n_contributors=10):\n",
    "    contributor_url = (f\"https://api.github.com/repos{repo_url}/contributors\")\n",
    "    contributor_page = requests.get(contributor_url, auth=(USERNAME, TOKEN))\n",
    "    all_contributors = dict()\n",
    "    if contributor_page.status_code != 204:\n",
    "        if contributor_page.status_code == 403:\n",
    "            raise Exception('This is the exception you expect to handle')\n",
    "        contributor_page = contributor_page.json()\n",
    "        max_n_top_contributors = min(len(contributor_page),n_contributors)\n",
    "\n",
    "        profile=None\n",
    "        profile_features = [\"login\",\"url\",\"type\",\"name\",\"company\",\"location\",\"hireable\",\"bio\",\"public_repos\",\"public_gists\",\"followers\",\"following\",\"created_at\"]\n",
    "        if max_n_top_contributors>0 and type(contributor_page)==list:\n",
    "            for n in range(max_n_top_contributors):\n",
    "                contributor = contributor_page[n]\n",
    "                repo_contributor_rel.add((repo_id, contributor[\"login\"], contributor[\"contributions\"]))\n",
    "                if contributor[\"login\"] not in contributors_set and contributor[\"contributions\"]>10:\n",
    "                    contributors_set.add(contributor[\"login\"])\n",
    "                    if profile and profile.status_code == 429:\n",
    "                        time.sleep(30)\n",
    "                    profile = requests.get(contributor[\"url\"], auth=(USERNAME, TOKEN),headers=headers)\n",
    "                    all_contributors[contributor[\"login\"]] = {key: val for key, val in profile.json().items() if key in profile_features}\n",
    "                    if profile and profile.status_code == 429:\n",
    "                        time.sleep(30)\n",
    "    return pd.DataFrame.from_dict(all_contributors,orient='index')\n",
    "\n",
    "def get_all_contributors(repos,repo_contributor_rel,contributors_set,n_contributors=10):\n",
    "    contributor_df = pd.DataFrame(columns=[\"login\",\"url\",\"type\",\"name\",\"company\",\"location\",\"hireable\",\"bio\",\"public_repos\",\"public_gists\",\"followers\",\"following\",\"created_at\"])\n",
    "    for url,r_id in tqdm(repos,desc=\"Scraping top contributors info...\"):\n",
    "        new_contributors = get_repo_contributors(url, repo_contributor_rel, r_id, contributors_set,n_contributors=n_contributors)\n",
    "        #print(url,len(new_contributors.index))\n",
    "        contributor_df = pd.concat([contributor_df,new_contributors]).drop_duplicates()\n",
    "        contributor_df.to_csv(f'most_updated_{n_contributors}_contributor_info_stop75.csv')\n",
    "        pd.DataFrame(repo_contributor_rel, columns=['Repo','Contributor','Contributions']).sort_values('Repo').to_csv('repo_contributor_relationship_table_stop75.csv')"
   ]
  },
  {
   "cell_type": "code",
   "execution_count": 62,
   "id": "solid-constant",
   "metadata": {},
   "outputs": [],
   "source": [
    "repos = pd.read_csv('repo_info_stop75.csv', index_col=0)\n",
    "repo_contributor_rel = set()\n",
    "contributors = set()\n",
    "repos_zip = list(zip(list(repos['url']),list(repos.index)))[4267:]\n",
    "#len(repos.index)\n"
   ]
  },
  {
   "cell_type": "code",
   "execution_count": 44,
   "id": "heated-webcam",
   "metadata": {},
   "outputs": [],
   "source": [
    "c1 = pd.read_csv('repo_contributor_relationship_table_first1322.csv',index_col=0)\n",
    "c2 = pd.read_csv('repo_contributor_relationship_table_next140.csv',index_col=0)\n",
    "c3 = pd.read_csv('repo_contributor_relationship_table_next301.csv',index_col=0)\n",
    "c4 = pd.read_csv('repo_contributor_relationship_table_next308.csv',index_col=0)\n",
    "c5 = pd.read_csv('repo_contributor_relationship_table_next789.csv',index_col=0)\n",
    "pd.concat([c1,c2,c3,c4,c5]).drop_duplicates().sort_values('Repo').to_csv('repo_contributor_relationship_table_1.csv')\n"
   ]
  },
  {
   "cell_type": "code",
   "execution_count": 50,
   "id": "structural-anthony",
   "metadata": {},
   "outputs": [
    {
     "name": "stderr",
     "output_type": "stream",
     "text": [
      "Scraping top contributors info...:   0%|          | 1/21346 [00:00<43:01,  8.27it/s]"
     ]
    },
    {
     "name": "stdout",
     "output_type": "stream",
     "text": [
      "/Apress/js-data-structures-and-algorithms\n",
      "{'message': 'API rate limit exceeded for user ID 42844450.', 'documentation_url': 'https://docs.github.com/rest/overview/resources-in-the-rest-api#rate-limiting'}\n",
      "/bfaure/Python3_Data_Structures\n"
     ]
    },
    {
     "name": "stderr",
     "output_type": "stream",
     "text": [
      "Scraping top contributors info...:   0%|          | 3/21346 [00:00<39:26,  9.02it/s]"
     ]
    },
    {
     "name": "stdout",
     "output_type": "stream",
     "text": [
      "{'message': 'API rate limit exceeded for user ID 42844450.', 'documentation_url': 'https://docs.github.com/rest/overview/resources-in-the-rest-api#rate-limiting'}\n",
      "/QMHTMY/RustBook\n",
      "{'message': 'API rate limit exceeded for user ID 42844450.', 'documentation_url': 'https://docs.github.com/rest/overview/resources-in-the-rest-api#rate-limiting'}\n",
      "/PacktPublishing/Learn-Data-Structures-and-Algorithms-with-Golang\n"
     ]
    },
    {
     "name": "stderr",
     "output_type": "stream",
     "text": [
      "Scraping top contributors info...:   0%|          | 5/21346 [00:00<39:08,  9.09it/s]"
     ]
    },
    {
     "name": "stdout",
     "output_type": "stream",
     "text": [
      "{'message': 'API rate limit exceeded for user ID 42844450.', 'documentation_url': 'https://docs.github.com/rest/overview/resources-in-the-rest-api#rate-limiting'}\n",
      "/IDeserve/learn\n",
      "{'message': 'API rate limit exceeded for user ID 42844450.', 'documentation_url': 'https://docs.github.com/rest/overview/resources-in-the-rest-api#rate-limiting'}\n",
      "/Bishop92/JavaScript-Data-Structures\n"
     ]
    },
    {
     "name": "stderr",
     "output_type": "stream",
     "text": [
      "Scraping top contributors info...:   0%|          | 7/21346 [00:00<38:03,  9.35it/s]"
     ]
    },
    {
     "name": "stdout",
     "output_type": "stream",
     "text": [
      "{'message': 'API rate limit exceeded for user ID 42844450.', 'documentation_url': 'https://docs.github.com/rest/overview/resources-in-the-rest-api#rate-limiting'}\n",
      "/PacktPublishing/Learning-JavaScript-Data-Structures-and-Algorithms-Third-Edition\n",
      "{'message': 'API rate limit exceeded for user ID 42844450.', 'documentation_url': 'https://docs.github.com/rest/overview/resources-in-the-rest-api#rate-limiting'}\n",
      "/no-stack-dub-sack/cs-playground-react\n",
      "{'message': 'API rate limit exceeded for user ID 42844450.', 'documentation_url': 'https://docs.github.com/rest/overview/resources-in-the-rest-api#rate-limiting'}\n"
     ]
    },
    {
     "name": "stderr",
     "output_type": "stream",
     "text": [
      "\r",
      "Scraping top contributors info...:   0%|          | 8/21346 [00:00<37:18,  9.53it/s]"
     ]
    },
    {
     "name": "stdout",
     "output_type": "stream",
     "text": [
      "/turingschool/data_structures_and_algorithms\n"
     ]
    },
    {
     "name": "stderr",
     "output_type": "stream",
     "text": [
      "Scraping top contributors info...:   0%|          | 10/21346 [00:01<50:24,  7.05it/s]"
     ]
    },
    {
     "name": "stdout",
     "output_type": "stream",
     "text": [
      "{'message': 'API rate limit exceeded for user ID 42844450.', 'documentation_url': 'https://docs.github.com/rest/overview/resources-in-the-rest-api#rate-limiting'}\n",
      "/MTrajK/coding-problems\n",
      "{'message': 'API rate limit exceeded for user ID 42844450.', 'documentation_url': 'https://docs.github.com/rest/overview/resources-in-the-rest-api#rate-limiting'}\n",
      "/yourbasic/graph\n"
     ]
    },
    {
     "name": "stderr",
     "output_type": "stream",
     "text": [
      "Scraping top contributors info...:   0%|          | 12/21346 [00:01<51:42,  6.88it/s]"
     ]
    },
    {
     "name": "stdout",
     "output_type": "stream",
     "text": [
      "{'message': 'API rate limit exceeded for user ID 42844450.', 'documentation_url': 'https://docs.github.com/rest/overview/resources-in-the-rest-api#rate-limiting'}\n",
      "/ydataai/ydata-synthetic\n",
      "{'message': 'API rate limit exceeded for user ID 42844450.', 'documentation_url': 'https://docs.github.com/rest/overview/resources-in-the-rest-api#rate-limiting'}\n",
      "/toolbox4minecraft/amidst\n"
     ]
    },
    {
     "name": "stderr",
     "output_type": "stream",
     "text": [
      "Scraping top contributors info...:   0%|          | 14/21346 [00:01<44:39,  7.96it/s]"
     ]
    },
    {
     "name": "stdout",
     "output_type": "stream",
     "text": [
      "{'message': 'API rate limit exceeded for user ID 42844450.', 'documentation_url': 'https://docs.github.com/rest/overview/resources-in-the-rest-api#rate-limiting'}\n",
      "/jwasham/code-catalog-python\n",
      "{'message': 'API rate limit exceeded for user ID 42844450.', 'documentation_url': 'https://docs.github.com/rest/overview/resources-in-the-rest-api#rate-limiting'}\n",
      "/jainaman224/Algo_Ds_Notes\n"
     ]
    },
    {
     "name": "stderr",
     "output_type": "stream",
     "text": [
      "\r",
      "Scraping top contributors info...:   0%|          | 16/21346 [00:01<39:48,  8.93it/s]"
     ]
    },
    {
     "name": "stdout",
     "output_type": "stream",
     "text": [
      "{'message': 'API rate limit exceeded for user ID 42844450.', 'documentation_url': 'https://docs.github.com/rest/overview/resources-in-the-rest-api#rate-limiting'}\n",
      "/ivankliuk/coursera-data-structures-algorithms\n",
      "{'message': 'API rate limit exceeded for user ID 42844450.', 'documentation_url': 'https://docs.github.com/rest/overview/resources-in-the-rest-api#rate-limiting'}\n",
      "/C0D1NG/Data-Structures\n"
     ]
    },
    {
     "name": "stderr",
     "output_type": "stream",
     "text": [
      "Scraping top contributors info...:   0%|          | 18/21346 [00:02<38:53,  9.14it/s]"
     ]
    },
    {
     "name": "stdout",
     "output_type": "stream",
     "text": [
      "{'message': 'API rate limit exceeded for user ID 42844450.', 'documentation_url': 'https://docs.github.com/rest/overview/resources-in-the-rest-api#rate-limiting'}\n",
      "/PigZhuJ/cs61b_sp19\n",
      "{'message': 'API rate limit exceeded for user ID 42844450.', 'documentation_url': 'https://docs.github.com/rest/overview/resources-in-the-rest-api#rate-limiting'}\n",
      "/lprimeroo/DSA\n",
      "{'message': 'API rate limit exceeded for user ID 42844450.', 'documentation_url': 'https://docs.github.com/rest/overview/resources-in-the-rest-api#rate-limiting'}\n",
      "/aalhour/C-Sharp-Algorithms\n"
     ]
    },
    {
     "name": "stderr",
     "output_type": "stream",
     "text": [
      "\r",
      "Scraping top contributors info...:   0%|          | 20/21346 [00:02<36:27,  9.75it/s]"
     ]
    },
    {
     "name": "stdout",
     "output_type": "stream",
     "text": [
      "{'message': 'API rate limit exceeded for user ID 42844450.', 'documentation_url': 'https://docs.github.com/rest/overview/resources-in-the-rest-api#rate-limiting'}\n",
      "/felipernb/algorithms.js\n",
      "{'message': 'API rate limit exceeded for user ID 42844450.', 'documentation_url': 'https://docs.github.com/rest/overview/resources-in-the-rest-api#rate-limiting'}\n",
      "/alpha037/data-structures-and-algorithms\n"
     ]
    },
    {
     "name": "stderr",
     "output_type": "stream",
     "text": [
      "Scraping top contributors info...:   0%|          | 24/21346 [00:02<35:37,  9.97it/s]"
     ]
    },
    {
     "name": "stdout",
     "output_type": "stream",
     "text": [
      "{'message': 'API rate limit exceeded for user ID 42844450.', 'documentation_url': 'https://docs.github.com/rest/overview/resources-in-the-rest-api#rate-limiting'}\n",
      "/Alex660/Algorithms-and-data-structures\n",
      "{'message': 'API rate limit exceeded for user ID 42844450.', 'documentation_url': 'https://docs.github.com/rest/overview/resources-in-the-rest-api#rate-limiting'}\n",
      "/FOSS-UCSC/FOSSALGO\n",
      "{'message': 'API rate limit exceeded for user ID 42844450.', 'documentation_url': 'https://docs.github.com/rest/overview/resources-in-the-rest-api#rate-limiting'}\n",
      "/donng/Play-with-Data-Structures\n"
     ]
    },
    {
     "name": "stderr",
     "output_type": "stream",
     "text": [
      "\r",
      "Scraping top contributors info...:   0%|          | 26/21346 [00:02<35:14, 10.08it/s]"
     ]
    },
    {
     "name": "stdout",
     "output_type": "stream",
     "text": [
      "{'message': 'API rate limit exceeded for user ID 42844450.', 'documentation_url': 'https://docs.github.com/rest/overview/resources-in-the-rest-api#rate-limiting'}\n",
      "/bnmnetp/pythonds\n",
      "{'message': 'API rate limit exceeded for user ID 42844450.', 'documentation_url': 'https://docs.github.com/rest/overview/resources-in-the-rest-api#rate-limiting'}\n",
      "/Adel-Nasim/Data-Structures\n",
      "{'message': 'API rate limit exceeded for user ID 42844450.', 'documentation_url': 'https://docs.github.com/rest/overview/resources-in-the-rest-api#rate-limiting'}\n",
      "/davecgh/go-spew\n"
     ]
    },
    {
     "name": "stderr",
     "output_type": "stream",
     "text": [
      "Scraping top contributors info...:   0%|          | 30/21346 [00:03<34:24, 10.32it/s]"
     ]
    },
    {
     "name": "stdout",
     "output_type": "stream",
     "text": [
      "{'message': 'API rate limit exceeded for user ID 42844450.', 'documentation_url': 'https://docs.github.com/rest/overview/resources-in-the-rest-api#rate-limiting'}\n",
      "/xiexiexx/BIDS\n",
      "{'message': 'API rate limit exceeded for user ID 42844450.', 'documentation_url': 'https://docs.github.com/rest/overview/resources-in-the-rest-api#rate-limiting'}\n",
      "/petertodd/python-bitcoinlib\n",
      "{'message': 'API rate limit exceeded for user ID 42844450.', 'documentation_url': 'https://docs.github.com/rest/overview/resources-in-the-rest-api#rate-limiting'}\n",
      "/marcosfede/algorithms\n"
     ]
    },
    {
     "name": "stderr",
     "output_type": "stream",
     "text": [
      "\r",
      "Scraping top contributors info...:   0%|          | 32/21346 [00:03<33:35, 10.58it/s]"
     ]
    },
    {
     "name": "stdout",
     "output_type": "stream",
     "text": [
      "{'message': 'API rate limit exceeded for user ID 42844450.', 'documentation_url': 'https://docs.github.com/rest/overview/resources-in-the-rest-api#rate-limiting'}\n",
      "/anirban-s/data-structures-and-algorithms\n",
      "{'message': 'API rate limit exceeded for user ID 42844450.', 'documentation_url': 'https://docs.github.com/rest/overview/resources-in-the-rest-api#rate-limiting'}\n",
      "/Arafatk/DataViz\n",
      "{'message': 'API rate limit exceeded for user ID 42844450.', 'documentation_url': 'https://docs.github.com/rest/overview/resources-in-the-rest-api#rate-limiting'}\n",
      "/riyadparvez/data-structures-csharp\n"
     ]
    },
    {
     "name": "stderr",
     "output_type": "stream",
     "text": [
      "Scraping top contributors info...:   0%|          | 36/21346 [00:03<33:30, 10.60it/s]"
     ]
    },
    {
     "name": "stdout",
     "output_type": "stream",
     "text": [
      "{'message': 'API rate limit exceeded for user ID 42844450.', 'documentation_url': 'https://docs.github.com/rest/overview/resources-in-the-rest-api#rate-limiting'}\n",
      "/xennygrimmato/Data-Structures-and-Algorithms\n",
      "{'message': 'API rate limit exceeded for user ID 42844450.', 'documentation_url': 'https://docs.github.com/rest/overview/resources-in-the-rest-api#rate-limiting'}\n",
      "/NKaty/Algorithms-and-Data-Structures\n",
      "{'message': 'API rate limit exceeded for user ID 42844450.', 'documentation_url': 'https://docs.github.com/rest/overview/resources-in-the-rest-api#rate-limiting'}\n",
      "/ashish-3916/Coding-Ninjas-Data-Structures\n"
     ]
    },
    {
     "name": "stderr",
     "output_type": "stream",
     "text": [
      "\r",
      "Scraping top contributors info...:   0%|          | 38/21346 [00:04<33:57, 10.46it/s]"
     ]
    },
    {
     "name": "stdout",
     "output_type": "stream",
     "text": [
      "{'message': 'API rate limit exceeded for user ID 42844450.', 'documentation_url': 'https://docs.github.com/rest/overview/resources-in-the-rest-api#rate-limiting'}\n",
      "/learn-co-curriculum/js-data-structures-arrays-lab\n",
      "{'message': 'API rate limit exceeded for user ID 42844450.', 'documentation_url': 'https://docs.github.com/rest/overview/resources-in-the-rest-api#rate-limiting'}\n",
      "/petgraph/petgraph\n"
     ]
    },
    {
     "name": "stderr",
     "output_type": "stream",
     "text": [
      "\r",
      "Scraping top contributors info...:   0%|          | 40/21346 [00:04<34:57, 10.16it/s]"
     ]
    },
    {
     "name": "stdout",
     "output_type": "stream",
     "text": [
      "{'message': 'API rate limit exceeded for user ID 42844450.', 'documentation_url': 'https://docs.github.com/rest/overview/resources-in-the-rest-api#rate-limiting'}\n",
      "/php-ds/ext-ds\n",
      "{'message': 'API rate limit exceeded for user ID 42844450.', 'documentation_url': 'https://docs.github.com/rest/overview/resources-in-the-rest-api#rate-limiting'}\n",
      "/ShahjalalShohag/code-library\n",
      "{'message': 'API rate limit exceeded for user ID 42844450.', 'documentation_url': 'https://docs.github.com/rest/overview/resources-in-the-rest-api#rate-limiting'}\n",
      "/mirahman/PHP-Data-Structure-and-Algorithms\n"
     ]
    },
    {
     "name": "stderr",
     "output_type": "stream",
     "text": [
      "Scraping top contributors info...:   0%|          | 44/21346 [00:04<34:32, 10.28it/s]"
     ]
    },
    {
     "name": "stdout",
     "output_type": "stream",
     "text": [
      "{'message': 'API rate limit exceeded for user ID 42844450.', 'documentation_url': 'https://docs.github.com/rest/overview/resources-in-the-rest-api#rate-limiting'}\n",
      "/Yomguithereal/mnemonist\n",
      "{'message': 'API rate limit exceeded for user ID 42844450.', 'documentation_url': 'https://docs.github.com/rest/overview/resources-in-the-rest-api#rate-limiting'}\n",
      "/gazolla/Kotlin-Algorithm\n",
      "{'message': 'API rate limit exceeded for user ID 42844450.', 'documentation_url': 'https://docs.github.com/rest/overview/resources-in-the-rest-api#rate-limiting'}\n",
      "/satya-verma/Data-Structures-and-Algorithms--using-JAVA\n"
     ]
    },
    {
     "name": "stderr",
     "output_type": "stream",
     "text": [
      "\r",
      "Scraping top contributors info...:   0%|          | 46/21346 [00:04<34:33, 10.27it/s]"
     ]
    },
    {
     "name": "stdout",
     "output_type": "stream",
     "text": [
      "{'message': 'API rate limit exceeded for user ID 42844450.', 'documentation_url': 'https://docs.github.com/rest/overview/resources-in-the-rest-api#rate-limiting'}\n",
      "/tylertreat/BoomFilters\n",
      "{'message': 'API rate limit exceeded for user ID 42844450.', 'documentation_url': 'https://docs.github.com/rest/overview/resources-in-the-rest-api#rate-limiting'}\n",
      "/techqueria/data-structures-and-algorithms\n",
      "{'message': 'API rate limit exceeded for user ID 42844450.', 'documentation_url': 'https://docs.github.com/rest/overview/resources-in-the-rest-api#rate-limiting'}\n",
      "/bloominstituteoftechnology/Data-Structures-I\n"
     ]
    },
    {
     "name": "stderr",
     "output_type": "stream",
     "text": [
      "\r",
      "Scraping top contributors info...:   0%|          | 48/21346 [00:05<34:39, 10.24it/s]"
     ]
    },
    {
     "name": "stdout",
     "output_type": "stream",
     "text": [
      "{'message': 'API rate limit exceeded for user ID 42844450.', 'documentation_url': 'https://docs.github.com/rest/overview/resources-in-the-rest-api#rate-limiting'}\n",
      "/oss-bandb/GraphView\n",
      "{'message': 'API rate limit exceeded for user ID 42844450.', 'documentation_url': 'https://docs.github.com/rest/overview/resources-in-the-rest-api#rate-limiting'}\n",
      "/reachanihere/Data-Structures-and-Algorithms\n"
     ]
    },
    {
     "name": "stderr",
     "output_type": "stream",
     "text": [
      "\r",
      "Scraping top contributors info...:   0%|          | 50/21346 [00:05<35:30, 10.00it/s]"
     ]
    },
    {
     "name": "stdout",
     "output_type": "stream",
     "text": [
      "{'message': 'API rate limit exceeded for user ID 42844450.', 'documentation_url': 'https://docs.github.com/rest/overview/resources-in-the-rest-api#rate-limiting'}\n",
      "/codezonediitj/pydatastructs\n",
      "{'message': 'API rate limit exceeded for user ID 42844450.', 'documentation_url': 'https://docs.github.com/rest/overview/resources-in-the-rest-api#rate-limiting'}\n",
      "/bradleyjkemp/memviz\n"
     ]
    },
    {
     "name": "stderr",
     "output_type": "stream",
     "text": [
      "Scraping top contributors info...:   0%|          | 54/21346 [00:05<36:13,  9.80it/s]"
     ]
    },
    {
     "name": "stdout",
     "output_type": "stream",
     "text": [
      "{'message': 'API rate limit exceeded for user ID 42844450.', 'documentation_url': 'https://docs.github.com/rest/overview/resources-in-the-rest-api#rate-limiting'}\n",
      "/luisfcofv/competitive-programming-book\n",
      "{'message': 'API rate limit exceeded for user ID 42844450.', 'documentation_url': 'https://docs.github.com/rest/overview/resources-in-the-rest-api#rate-limiting'}\n",
      "/manosriram/Data-Structures\n",
      "{'message': 'API rate limit exceeded for user ID 42844450.', 'documentation_url': 'https://docs.github.com/rest/overview/resources-in-the-rest-api#rate-limiting'}\n",
      "/learn-co-curriculum/js-data-structures-objects-lab\n"
     ]
    },
    {
     "name": "stderr",
     "output_type": "stream",
     "text": [
      "\r",
      "Scraping top contributors info...:   0%|          | 56/21346 [00:05<35:52,  9.89it/s]"
     ]
    },
    {
     "name": "stdout",
     "output_type": "stream",
     "text": [
      "{'message': 'API rate limit exceeded for user ID 42844450.', 'documentation_url': 'https://docs.github.com/rest/overview/resources-in-the-rest-api#rate-limiting'}\n",
      "/das-jishu/algoexpert-data-structures-algorithms\n",
      "{'message': 'API rate limit exceeded for user ID 42844450.', 'documentation_url': 'https://docs.github.com/rest/overview/resources-in-the-rest-api#rate-limiting'}\n",
      "/thaycacac/java\n",
      "{'message': 'API rate limit exceeded for user ID 42844450.', 'documentation_url': 'https://docs.github.com/rest/overview/resources-in-the-rest-api#rate-limiting'}\n",
      "/amitbansal7/Data-Structures-and-Algorithms\n"
     ]
    },
    {
     "name": "stderr",
     "output_type": "stream",
     "text": [
      "Scraping top contributors info...:   0%|          | 59/21346 [00:06<36:11,  9.80it/s]"
     ]
    },
    {
     "name": "stdout",
     "output_type": "stream",
     "text": [
      "{'message': 'API rate limit exceeded for user ID 42844450.', 'documentation_url': 'https://docs.github.com/rest/overview/resources-in-the-rest-api#rate-limiting'}\n",
      "/ilyakatz/data-migrate\n",
      "{'message': 'API rate limit exceeded for user ID 42844450.', 'documentation_url': 'https://docs.github.com/rest/overview/resources-in-the-rest-api#rate-limiting'}\n",
      "/rails/kredis\n"
     ]
    },
    {
     "name": "stderr",
     "output_type": "stream",
     "text": [
      "Scraping top contributors info...:   0%|          | 61/21346 [00:06<36:14,  9.79it/s]"
     ]
    },
    {
     "name": "stdout",
     "output_type": "stream",
     "text": [
      "{'message': 'API rate limit exceeded for user ID 42844450.', 'documentation_url': 'https://docs.github.com/rest/overview/resources-in-the-rest-api#rate-limiting'}\n",
      "/rtfeldman/seamless-immutable\n",
      "{'message': 'API rate limit exceeded for user ID 42844450.', 'documentation_url': 'https://docs.github.com/rest/overview/resources-in-the-rest-api#rate-limiting'}\n",
      "/YaccConstructor/QuickGraph\n",
      "{'message': 'API rate limit exceeded for user ID 42844450.', 'documentation_url': 'https://docs.github.com/rest/overview/resources-in-the-rest-api#rate-limiting'}\n"
     ]
    },
    {
     "name": "stderr",
     "output_type": "stream",
     "text": [
      "\r",
      "Scraping top contributors info...:   0%|          | 63/21346 [00:06<35:29, 10.00it/s]"
     ]
    },
    {
     "name": "stdout",
     "output_type": "stream",
     "text": [
      "/dry-rb/dry-schema\n",
      "{'message': 'API rate limit exceeded for user ID 42844450.', 'documentation_url': 'https://docs.github.com/rest/overview/resources-in-the-rest-api#rate-limiting'}\n",
      "/pranjay-poddar/Data-Structures-And-Algorithms\n",
      "{'message': 'API rate limit exceeded for user ID 42844450.', 'documentation_url': 'https://docs.github.com/rest/overview/resources-in-the-rest-api#rate-limiting'}\n",
      "/AvraamMavridis/Algorithms-Data-Structures-in-Typescript\n"
     ]
    },
    {
     "name": "stderr",
     "output_type": "stream",
     "text": [
      "\r",
      "Scraping top contributors info...:   0%|          | 65/21346 [00:06<34:59, 10.14it/s]"
     ]
    },
    {
     "name": "stdout",
     "output_type": "stream",
     "text": [
      "{'message': 'API rate limit exceeded for user ID 42844450.', 'documentation_url': 'https://docs.github.com/rest/overview/resources-in-the-rest-api#rate-limiting'}\n",
      "/facebookresearch/PyTorch-BigGraph\n",
      "{'message': 'API rate limit exceeded for user ID 42844450.', 'documentation_url': 'https://docs.github.com/rest/overview/resources-in-the-rest-api#rate-limiting'}\n",
      "/oyekanmiayo/data-structures-all-langs\n"
     ]
    },
    {
     "name": "stderr",
     "output_type": "stream",
     "text": [
      "Scraping top contributors info...:   0%|          | 68/21346 [00:07<35:47,  9.91it/s]"
     ]
    },
    {
     "name": "stdout",
     "output_type": "stream",
     "text": [
      "{'message': 'API rate limit exceeded for user ID 42844450.', 'documentation_url': 'https://docs.github.com/rest/overview/resources-in-the-rest-api#rate-limiting'}\n",
      "/PacktPublishing/CPP-Data-Structures-and-Algorithms\n",
      "{'message': 'API rate limit exceeded for user ID 42844450.', 'documentation_url': 'https://docs.github.com/rest/overview/resources-in-the-rest-api#rate-limiting'}\n",
      "/JoeKarlsson/data-structures\n",
      "{'message': 'API rate limit exceeded for user ID 42844450.', 'documentation_url': 'https://docs.github.com/rest/overview/resources-in-the-rest-api#rate-limiting'}\n"
     ]
    },
    {
     "name": "stderr",
     "output_type": "stream",
     "text": [
      "\r",
      "Scraping top contributors info...:   0%|          | 70/21346 [00:07<35:41,  9.93it/s]"
     ]
    },
    {
     "name": "stdout",
     "output_type": "stream",
     "text": [
      "/houpengfei88/Play-with-Data-Structures\n",
      "{'message': 'API rate limit exceeded for user ID 42844450.', 'documentation_url': 'https://docs.github.com/rest/overview/resources-in-the-rest-api#rate-limiting'}\n",
      "/Bradfield/algos\n",
      "{'message': 'API rate limit exceeded for user ID 42844450.', 'documentation_url': 'https://docs.github.com/rest/overview/resources-in-the-rest-api#rate-limiting'}\n"
     ]
    },
    {
     "name": "stderr",
     "output_type": "stream",
     "text": [
      "Scraping top contributors info...:   0%|          | 73/21346 [00:07<35:23, 10.02it/s]"
     ]
    },
    {
     "name": "stdout",
     "output_type": "stream",
     "text": [
      "/lnishan/awesome-competitive-programming\n",
      "{'message': 'API rate limit exceeded for user ID 42844450.', 'documentation_url': 'https://docs.github.com/rest/overview/resources-in-the-rest-api#rate-limiting'}\n",
      "/turi-code/SFrame\n",
      "{'message': 'API rate limit exceeded for user ID 42844450.', 'documentation_url': 'https://docs.github.com/rest/overview/resources-in-the-rest-api#rate-limiting'}\n",
      "/learn-co-curriculum/reverse-string\n"
     ]
    },
    {
     "name": "stderr",
     "output_type": "stream",
     "text": [
      "\r",
      "Scraping top contributors info...:   0%|          | 75/21346 [00:07<35:35,  9.96it/s]"
     ]
    },
    {
     "name": "stdout",
     "output_type": "stream",
     "text": [
      "{'message': 'API rate limit exceeded for user ID 42844450.', 'documentation_url': 'https://docs.github.com/rest/overview/resources-in-the-rest-api#rate-limiting'}\n",
      "/XuJin1992/AdvancedDataStructures\n",
      "{'message': 'API rate limit exceeded for user ID 42844450.', 'documentation_url': 'https://docs.github.com/rest/overview/resources-in-the-rest-api#rate-limiting'}\n",
      "/MakeContributions/DSA\n",
      "{'message': 'API rate limit exceeded for user ID 42844450.', 'documentation_url': 'https://docs.github.com/rest/overview/resources-in-the-rest-api#rate-limiting'}\n",
      "/RunestoneInteractive/pythonds\n"
     ]
    },
    {
     "name": "stderr",
     "output_type": "stream",
     "text": [
      "Scraping top contributors info...:   0%|          | 78/21346 [00:08<36:01,  9.84it/s]"
     ]
    },
    {
     "name": "stdout",
     "output_type": "stream",
     "text": [
      "{'message': 'API rate limit exceeded for user ID 42844450.', 'documentation_url': 'https://docs.github.com/rest/overview/resources-in-the-rest-api#rate-limiting'}\n",
      "/JuliaStats/DataArrays.jl\n",
      "{'message': 'API rate limit exceeded for user ID 42844450.', 'documentation_url': 'https://docs.github.com/rest/overview/resources-in-the-rest-api#rate-limiting'}\n",
      "/aryanhimanshu/Algorithms\n",
      "{'message': 'API rate limit exceeded for user ID 42844450.', 'documentation_url': 'https://docs.github.com/rest/overview/resources-in-the-rest-api#rate-limiting'}\n"
     ]
    },
    {
     "name": "stderr",
     "output_type": "stream",
     "text": [
      "Scraping top contributors info...:   0%|          | 81/21346 [00:08<35:33,  9.97it/s]"
     ]
    },
    {
     "name": "stdout",
     "output_type": "stream",
     "text": [
      "/fmela/libdict\n",
      "{'message': 'API rate limit exceeded for user ID 42844450.', 'documentation_url': 'https://docs.github.com/rest/overview/resources-in-the-rest-api#rate-limiting'}\n",
      "/ekmett/structures\n",
      "{'message': 'API rate limit exceeded for user ID 42844450.', 'documentation_url': 'https://docs.github.com/rest/overview/resources-in-the-rest-api#rate-limiting'}\n",
      "/PacktPublishing/Python-Data-Structures-and-Algorithms\n"
     ]
    },
    {
     "name": "stderr",
     "output_type": "stream",
     "text": [
      "Scraping top contributors info...:   0%|          | 83/21346 [00:08<35:38,  9.94it/s]"
     ]
    },
    {
     "name": "stdout",
     "output_type": "stream",
     "text": [
      "{'message': 'API rate limit exceeded for user ID 42844450.', 'documentation_url': 'https://docs.github.com/rest/overview/resources-in-the-rest-api#rate-limiting'}\n",
      "/Jackal08/financial-data-structures\n",
      "{'message': 'API rate limit exceeded for user ID 42844450.', 'documentation_url': 'https://docs.github.com/rest/overview/resources-in-the-rest-api#rate-limiting'}\n",
      "/floor07/DataStructuresAndAlgorithm-Demo\n",
      "{'message': 'API rate limit exceeded for user ID 42844450.', 'documentation_url': 'https://docs.github.com/rest/overview/resources-in-the-rest-api#rate-limiting'}\n"
     ]
    },
    {
     "name": "stderr",
     "output_type": "stream",
     "text": [
      "Scraping top contributors info...:   0%|          | 86/21346 [00:08<35:30,  9.98it/s]"
     ]
    },
    {
     "name": "stdout",
     "output_type": "stream",
     "text": [
      "/citusdata/postgresql-hll\n",
      "{'message': 'API rate limit exceeded for user ID 42844450.', 'documentation_url': 'https://docs.github.com/rest/overview/resources-in-the-rest-api#rate-limiting'}\n",
      "/bloominstituteoftechnology/Data-Structures-II\n",
      "{'message': 'API rate limit exceeded for user ID 42844450.', 'documentation_url': 'https://docs.github.com/rest/overview/resources-in-the-rest-api#rate-limiting'}\n",
      "/fatih/set\n"
     ]
    },
    {
     "name": "stderr",
     "output_type": "stream",
     "text": [
      "\r",
      "Scraping top contributors info...:   0%|          | 88/21346 [00:09<36:00,  9.84it/s]"
     ]
    },
    {
     "name": "stdout",
     "output_type": "stream",
     "text": [
      "{'message': 'API rate limit exceeded for user ID 42844450.', 'documentation_url': 'https://docs.github.com/rest/overview/resources-in-the-rest-api#rate-limiting'}\n",
      "/typelevel/cats-collections\n",
      "{'message': 'API rate limit exceeded for user ID 42844450.', 'documentation_url': 'https://docs.github.com/rest/overview/resources-in-the-rest-api#rate-limiting'}\n",
      "/frextrite/Data-Structures-Algorithms-Hacktoberfest-2K19\n"
     ]
    },
    {
     "name": "stderr",
     "output_type": "stream",
     "text": [
      "Scraping top contributors info...:   0%|          | 91/21346 [00:09<35:26, 10.00it/s]"
     ]
    },
    {
     "name": "stdout",
     "output_type": "stream",
     "text": [
      "{'message': 'API rate limit exceeded for user ID 42844450.', 'documentation_url': 'https://docs.github.com/rest/overview/resources-in-the-rest-api#rate-limiting'}\n",
      "/nicemayi/play-with-data-structures\n",
      "{'message': 'API rate limit exceeded for user ID 42844450.', 'documentation_url': 'https://docs.github.com/rest/overview/resources-in-the-rest-api#rate-limiting'}\n",
      "/cormacpayne/Data-Structures-and-Algorithms\n",
      "{'message': 'API rate limit exceeded for user ID 42844450.', 'documentation_url': 'https://docs.github.com/rest/overview/resources-in-the-rest-api#rate-limiting'}\n",
      "/donsheehy/datastructures\n"
     ]
    },
    {
     "name": "stderr",
     "output_type": "stream",
     "text": [
      "\r",
      "Scraping top contributors info...:   0%|          | 93/21346 [00:09<35:17, 10.04it/s]"
     ]
    },
    {
     "name": "stdout",
     "output_type": "stream",
     "text": [
      "{'message': 'API rate limit exceeded for user ID 42844450.', 'documentation_url': 'https://docs.github.com/rest/overview/resources-in-the-rest-api#rate-limiting'}\n",
      "/neos/neos-ui\n",
      "{'message': 'API rate limit exceeded for user ID 42844450.', 'documentation_url': 'https://docs.github.com/rest/overview/resources-in-the-rest-api#rate-limiting'}\n",
      "/montagejs/collections\n"
     ]
    },
    {
     "name": "stderr",
     "output_type": "stream",
     "text": [
      "\r",
      "Scraping top contributors info...:   0%|          | 95/21346 [00:09<34:55, 10.14it/s]"
     ]
    },
    {
     "name": "stdout",
     "output_type": "stream",
     "text": [
      "{'message': 'API rate limit exceeded for user ID 42844450.', 'documentation_url': 'https://docs.github.com/rest/overview/resources-in-the-rest-api#rate-limiting'}\n",
      "/Amisha-here/Data-Structures\n",
      "{'message': 'API rate limit exceeded for user ID 42844450.', 'documentation_url': 'https://docs.github.com/rest/overview/resources-in-the-rest-api#rate-limiting'}\n",
      "/hacktoberfest2k20/DataStructures-and-Algorithms\n",
      "{'message': 'API rate limit exceeded for user ID 42844450.', 'documentation_url': 'https://docs.github.com/rest/overview/resources-in-the-rest-api#rate-limiting'}\n",
      "/huyvohcmc/coursera-dsa\n"
     ]
    },
    {
     "name": "stderr",
     "output_type": "stream",
     "text": [
      "Scraping top contributors info...:   0%|          | 99/21346 [00:10<33:48, 10.48it/s]"
     ]
    },
    {
     "name": "stdout",
     "output_type": "stream",
     "text": [
      "{'message': 'API rate limit exceeded for user ID 42844450.', 'documentation_url': 'https://docs.github.com/rest/overview/resources-in-the-rest-api#rate-limiting'}\n",
      "/RongleXie/Play-with-Data-Structures-Ronglexie\n",
      "{'message': 'API rate limit exceeded for user ID 42844450.', 'documentation_url': 'https://docs.github.com/rest/overview/resources-in-the-rest-api#rate-limiting'}\n",
      "/amaboura/panama-papers-dataset-2016\n",
      "{'message': 'API rate limit exceeded for user ID 42844450.', 'documentation_url': 'https://docs.github.com/rest/overview/resources-in-the-rest-api#rate-limiting'}\n",
      "/garu/Data-Printer\n"
     ]
    },
    {
     "name": "stderr",
     "output_type": "stream",
     "text": [
      "\r",
      "Scraping top contributors info...:   0%|          | 101/21346 [00:10<33:26, 10.59it/s]"
     ]
    },
    {
     "name": "stdout",
     "output_type": "stream",
     "text": [
      "{'message': 'API rate limit exceeded for user ID 42844450.', 'documentation_url': 'https://docs.github.com/rest/overview/resources-in-the-rest-api#rate-limiting'}\n",
      "/javascriptdata/danfojs\n",
      "{'message': 'API rate limit exceeded for user ID 42844450.', 'documentation_url': 'https://docs.github.com/rest/overview/resources-in-the-rest-api#rate-limiting'}\n",
      "/swannodette/mori\n",
      "{'message': 'API rate limit exceeded for user ID 42844450.', 'documentation_url': 'https://docs.github.com/rest/overview/resources-in-the-rest-api#rate-limiting'}\n",
      "/BaReinhard/Hacktoberfest-Data-Structure-and-Algorithms\n"
     ]
    },
    {
     "name": "stderr",
     "output_type": "stream",
     "text": [
      "\r",
      "Scraping top contributors info...:   0%|          | 103/21346 [00:10<33:17, 10.64it/s]"
     ]
    },
    {
     "name": "stdout",
     "output_type": "stream",
     "text": [
      "{'message': 'API rate limit exceeded for user ID 42844450.', 'documentation_url': 'https://docs.github.com/rest/overview/resources-in-the-rest-api#rate-limiting'}\n",
      "/google/pygtrie\n",
      "{'message': 'API rate limit exceeded for user ID 42844450.', 'documentation_url': 'https://docs.github.com/rest/overview/resources-in-the-rest-api#rate-limiting'}\n",
      "/Anuj-Kumar-Sharma/DS-Algo\n"
     ]
    },
    {
     "name": "stderr",
     "output_type": "stream",
     "text": [
      "\r",
      "Scraping top contributors info...:   0%|          | 105/21346 [00:10<34:19, 10.31it/s]"
     ]
    },
    {
     "name": "stdout",
     "output_type": "stream",
     "text": [
      "{'message': 'API rate limit exceeded for user ID 42844450.', 'documentation_url': 'https://docs.github.com/rest/overview/resources-in-the-rest-api#rate-limiting'}\n",
      "/charulagrl/data-structures-and-algorithms\n",
      "{'message': 'API rate limit exceeded for user ID 42844450.', 'documentation_url': 'https://docs.github.com/rest/overview/resources-in-the-rest-api#rate-limiting'}\n",
      "/joinpursuit/Pursuit-Core-DSA\n"
     ]
    },
    {
     "name": "stderr",
     "output_type": "stream",
     "text": [
      "Scraping top contributors info...:   1%|          | 107/21346 [00:11<36:32,  9.69it/s]"
     ]
    },
    {
     "name": "stdout",
     "output_type": "stream",
     "text": [
      "{'message': 'API rate limit exceeded for user ID 42844450.', 'documentation_url': 'https://docs.github.com/rest/overview/resources-in-the-rest-api#rate-limiting'}\n",
      "/ErikRHanson/Problem-Solving-with-Algorithms-and-Data-Structures-Using-Python\n"
     ]
    },
    {
     "name": "stderr",
     "output_type": "stream",
     "text": [
      "\n"
     ]
    },
    {
     "ename": "KeyboardInterrupt",
     "evalue": "",
     "output_type": "error",
     "traceback": [
      "\u001b[0;31m---------------------------------------------------------------------------\u001b[0m",
      "\u001b[0;31mKeyboardInterrupt\u001b[0m                         Traceback (most recent call last)",
      "\u001b[0;32m<ipython-input-50-334f86aa28e0>\u001b[0m in \u001b[0;36m<module>\u001b[0;34m\u001b[0m\n\u001b[1;32m     13\u001b[0m \u001b[0;34m\u001b[0m\u001b[0m\n\u001b[1;32m     14\u001b[0m \u001b[0;32mfor\u001b[0m \u001b[0murl\u001b[0m\u001b[0;34m,\u001b[0m\u001b[0mr_id\u001b[0m \u001b[0;32min\u001b[0m \u001b[0mtqdm\u001b[0m\u001b[0;34m(\u001b[0m\u001b[0mrepos_zip\u001b[0m\u001b[0;34m,\u001b[0m\u001b[0mdesc\u001b[0m\u001b[0;34m=\u001b[0m\u001b[0;34m\"Scraping top contributors info...\"\u001b[0m\u001b[0;34m)\u001b[0m\u001b[0;34m:\u001b[0m\u001b[0;34m\u001b[0m\u001b[0;34m\u001b[0m\u001b[0m\n\u001b[0;32m---> 15\u001b[0;31m     \u001b[0mget_rel\u001b[0m\u001b[0;34m(\u001b[0m\u001b[0murl\u001b[0m\u001b[0;34m,\u001b[0m\u001b[0mrepo_contributor_rel\u001b[0m\u001b[0;34m,\u001b[0m\u001b[0mr_id\u001b[0m\u001b[0;34m,\u001b[0m\u001b[0mcontributors\u001b[0m\u001b[0;34m)\u001b[0m\u001b[0;34m\u001b[0m\u001b[0;34m\u001b[0m\u001b[0m\n\u001b[0m\u001b[1;32m     16\u001b[0m     \u001b[0mpd\u001b[0m\u001b[0;34m.\u001b[0m\u001b[0mDataFrame\u001b[0m\u001b[0;34m(\u001b[0m\u001b[0mrepo_contributor_rel\u001b[0m\u001b[0;34m,\u001b[0m \u001b[0mcolumns\u001b[0m\u001b[0;34m=\u001b[0m\u001b[0;34m[\u001b[0m\u001b[0;34m'Repo'\u001b[0m\u001b[0;34m,\u001b[0m\u001b[0;34m'Contributor'\u001b[0m\u001b[0;34m,\u001b[0m\u001b[0;34m'Contributions'\u001b[0m\u001b[0;34m]\u001b[0m\u001b[0;34m)\u001b[0m\u001b[0;34m.\u001b[0m\u001b[0msort_values\u001b[0m\u001b[0;34m(\u001b[0m\u001b[0;34m'Repo'\u001b[0m\u001b[0;34m)\u001b[0m\u001b[0;34m.\u001b[0m\u001b[0mto_csv\u001b[0m\u001b[0;34m(\u001b[0m\u001b[0;34m'repo_contributor_relationship_table_stop75.csv'\u001b[0m\u001b[0;34m)\u001b[0m\u001b[0;34m\u001b[0m\u001b[0;34m\u001b[0m\u001b[0m\n\u001b[1;32m     17\u001b[0m \u001b[0;34m\u001b[0m\u001b[0m\n",
      "\u001b[0;32m<ipython-input-50-334f86aa28e0>\u001b[0m in \u001b[0;36mget_rel\u001b[0;34m(repo_url, repo_contributor_rel, repo_id, contributors_set, n_contributors)\u001b[0m\n\u001b[1;32m      2\u001b[0m     \u001b[0mprint\u001b[0m\u001b[0;34m(\u001b[0m\u001b[0mrepo_url\u001b[0m\u001b[0;34m)\u001b[0m\u001b[0;34m\u001b[0m\u001b[0;34m\u001b[0m\u001b[0m\n\u001b[1;32m      3\u001b[0m     \u001b[0mcontributor_url\u001b[0m \u001b[0;34m=\u001b[0m \u001b[0;34m(\u001b[0m\u001b[0;34mf\"https://api.github.com/repos{repo_url}/contributors\"\u001b[0m\u001b[0;34m)\u001b[0m\u001b[0;34m\u001b[0m\u001b[0;34m\u001b[0m\u001b[0m\n\u001b[0;32m----> 4\u001b[0;31m     \u001b[0mcontributor_page\u001b[0m \u001b[0;34m=\u001b[0m \u001b[0mrequests\u001b[0m\u001b[0;34m.\u001b[0m\u001b[0mget\u001b[0m\u001b[0;34m(\u001b[0m\u001b[0mcontributor_url\u001b[0m\u001b[0;34m,\u001b[0m \u001b[0mauth\u001b[0m\u001b[0;34m=\u001b[0m\u001b[0;34m(\u001b[0m\u001b[0mUSERNAME\u001b[0m\u001b[0;34m,\u001b[0m \u001b[0mTOKEN\u001b[0m\u001b[0;34m)\u001b[0m\u001b[0;34m)\u001b[0m\u001b[0;34m.\u001b[0m\u001b[0mjson\u001b[0m\u001b[0;34m(\u001b[0m\u001b[0;34m)\u001b[0m\u001b[0;34m\u001b[0m\u001b[0;34m\u001b[0m\u001b[0m\n\u001b[0m\u001b[1;32m      5\u001b[0m     \u001b[0mprint\u001b[0m\u001b[0;34m(\u001b[0m\u001b[0mcontributor_page\u001b[0m\u001b[0;34m)\u001b[0m\u001b[0;34m\u001b[0m\u001b[0;34m\u001b[0m\u001b[0m\n\u001b[1;32m      6\u001b[0m     \u001b[0mmax_n_top_contributors\u001b[0m \u001b[0;34m=\u001b[0m \u001b[0mmin\u001b[0m\u001b[0;34m(\u001b[0m\u001b[0mlen\u001b[0m\u001b[0;34m(\u001b[0m\u001b[0mcontributor_page\u001b[0m\u001b[0;34m)\u001b[0m\u001b[0;34m,\u001b[0m\u001b[0mn_contributors\u001b[0m\u001b[0;34m)\u001b[0m\u001b[0;34m\u001b[0m\u001b[0;34m\u001b[0m\u001b[0m\n",
      "\u001b[0;32m~/anaconda3/lib/python3.7/site-packages/requests/api.py\u001b[0m in \u001b[0;36mget\u001b[0;34m(url, params, **kwargs)\u001b[0m\n\u001b[1;32m     73\u001b[0m     \"\"\"\n\u001b[1;32m     74\u001b[0m \u001b[0;34m\u001b[0m\u001b[0m\n\u001b[0;32m---> 75\u001b[0;31m     \u001b[0;32mreturn\u001b[0m \u001b[0mrequest\u001b[0m\u001b[0;34m(\u001b[0m\u001b[0;34m'get'\u001b[0m\u001b[0;34m,\u001b[0m \u001b[0murl\u001b[0m\u001b[0;34m,\u001b[0m \u001b[0mparams\u001b[0m\u001b[0;34m=\u001b[0m\u001b[0mparams\u001b[0m\u001b[0;34m,\u001b[0m \u001b[0;34m**\u001b[0m\u001b[0mkwargs\u001b[0m\u001b[0;34m)\u001b[0m\u001b[0;34m\u001b[0m\u001b[0;34m\u001b[0m\u001b[0m\n\u001b[0m\u001b[1;32m     76\u001b[0m \u001b[0;34m\u001b[0m\u001b[0m\n\u001b[1;32m     77\u001b[0m \u001b[0;34m\u001b[0m\u001b[0m\n",
      "\u001b[0;32m~/anaconda3/lib/python3.7/site-packages/requests/api.py\u001b[0m in \u001b[0;36mrequest\u001b[0;34m(method, url, **kwargs)\u001b[0m\n\u001b[1;32m     59\u001b[0m     \u001b[0;31m# cases, and look like a memory leak in others.\u001b[0m\u001b[0;34m\u001b[0m\u001b[0;34m\u001b[0m\u001b[0;34m\u001b[0m\u001b[0m\n\u001b[1;32m     60\u001b[0m     \u001b[0;32mwith\u001b[0m \u001b[0msessions\u001b[0m\u001b[0;34m.\u001b[0m\u001b[0mSession\u001b[0m\u001b[0;34m(\u001b[0m\u001b[0;34m)\u001b[0m \u001b[0;32mas\u001b[0m \u001b[0msession\u001b[0m\u001b[0;34m:\u001b[0m\u001b[0;34m\u001b[0m\u001b[0;34m\u001b[0m\u001b[0m\n\u001b[0;32m---> 61\u001b[0;31m         \u001b[0;32mreturn\u001b[0m \u001b[0msession\u001b[0m\u001b[0;34m.\u001b[0m\u001b[0mrequest\u001b[0m\u001b[0;34m(\u001b[0m\u001b[0mmethod\u001b[0m\u001b[0;34m=\u001b[0m\u001b[0mmethod\u001b[0m\u001b[0;34m,\u001b[0m \u001b[0murl\u001b[0m\u001b[0;34m=\u001b[0m\u001b[0murl\u001b[0m\u001b[0;34m,\u001b[0m \u001b[0;34m**\u001b[0m\u001b[0mkwargs\u001b[0m\u001b[0;34m)\u001b[0m\u001b[0;34m\u001b[0m\u001b[0;34m\u001b[0m\u001b[0m\n\u001b[0m\u001b[1;32m     62\u001b[0m \u001b[0;34m\u001b[0m\u001b[0m\n\u001b[1;32m     63\u001b[0m \u001b[0;34m\u001b[0m\u001b[0m\n",
      "\u001b[0;32m~/anaconda3/lib/python3.7/site-packages/requests/sessions.py\u001b[0m in \u001b[0;36mrequest\u001b[0;34m(self, method, url, params, data, headers, cookies, files, auth, timeout, allow_redirects, proxies, hooks, stream, verify, cert, json)\u001b[0m\n\u001b[1;32m    527\u001b[0m         }\n\u001b[1;32m    528\u001b[0m         \u001b[0msend_kwargs\u001b[0m\u001b[0;34m.\u001b[0m\u001b[0mupdate\u001b[0m\u001b[0;34m(\u001b[0m\u001b[0msettings\u001b[0m\u001b[0;34m)\u001b[0m\u001b[0;34m\u001b[0m\u001b[0;34m\u001b[0m\u001b[0m\n\u001b[0;32m--> 529\u001b[0;31m         \u001b[0mresp\u001b[0m \u001b[0;34m=\u001b[0m \u001b[0mself\u001b[0m\u001b[0;34m.\u001b[0m\u001b[0msend\u001b[0m\u001b[0;34m(\u001b[0m\u001b[0mprep\u001b[0m\u001b[0;34m,\u001b[0m \u001b[0;34m**\u001b[0m\u001b[0msend_kwargs\u001b[0m\u001b[0;34m)\u001b[0m\u001b[0;34m\u001b[0m\u001b[0;34m\u001b[0m\u001b[0m\n\u001b[0m\u001b[1;32m    530\u001b[0m \u001b[0;34m\u001b[0m\u001b[0m\n\u001b[1;32m    531\u001b[0m         \u001b[0;32mreturn\u001b[0m \u001b[0mresp\u001b[0m\u001b[0;34m\u001b[0m\u001b[0;34m\u001b[0m\u001b[0m\n",
      "\u001b[0;32m~/anaconda3/lib/python3.7/site-packages/requests/sessions.py\u001b[0m in \u001b[0;36msend\u001b[0;34m(self, request, **kwargs)\u001b[0m\n\u001b[1;32m    643\u001b[0m \u001b[0;34m\u001b[0m\u001b[0m\n\u001b[1;32m    644\u001b[0m         \u001b[0;31m# Send the request\u001b[0m\u001b[0;34m\u001b[0m\u001b[0;34m\u001b[0m\u001b[0;34m\u001b[0m\u001b[0m\n\u001b[0;32m--> 645\u001b[0;31m         \u001b[0mr\u001b[0m \u001b[0;34m=\u001b[0m \u001b[0madapter\u001b[0m\u001b[0;34m.\u001b[0m\u001b[0msend\u001b[0m\u001b[0;34m(\u001b[0m\u001b[0mrequest\u001b[0m\u001b[0;34m,\u001b[0m \u001b[0;34m**\u001b[0m\u001b[0mkwargs\u001b[0m\u001b[0;34m)\u001b[0m\u001b[0;34m\u001b[0m\u001b[0;34m\u001b[0m\u001b[0m\n\u001b[0m\u001b[1;32m    646\u001b[0m \u001b[0;34m\u001b[0m\u001b[0m\n\u001b[1;32m    647\u001b[0m         \u001b[0;31m# Total elapsed time of the request (approximately)\u001b[0m\u001b[0;34m\u001b[0m\u001b[0;34m\u001b[0m\u001b[0;34m\u001b[0m\u001b[0m\n",
      "\u001b[0;32m~/anaconda3/lib/python3.7/site-packages/requests/adapters.py\u001b[0m in \u001b[0;36msend\u001b[0;34m(self, request, stream, timeout, verify, cert, proxies)\u001b[0m\n\u001b[1;32m    448\u001b[0m                     \u001b[0mdecode_content\u001b[0m\u001b[0;34m=\u001b[0m\u001b[0;32mFalse\u001b[0m\u001b[0;34m,\u001b[0m\u001b[0;34m\u001b[0m\u001b[0;34m\u001b[0m\u001b[0m\n\u001b[1;32m    449\u001b[0m                     \u001b[0mretries\u001b[0m\u001b[0;34m=\u001b[0m\u001b[0mself\u001b[0m\u001b[0;34m.\u001b[0m\u001b[0mmax_retries\u001b[0m\u001b[0;34m,\u001b[0m\u001b[0;34m\u001b[0m\u001b[0;34m\u001b[0m\u001b[0m\n\u001b[0;32m--> 450\u001b[0;31m                     \u001b[0mtimeout\u001b[0m\u001b[0;34m=\u001b[0m\u001b[0mtimeout\u001b[0m\u001b[0;34m\u001b[0m\u001b[0;34m\u001b[0m\u001b[0m\n\u001b[0m\u001b[1;32m    451\u001b[0m                 )\n\u001b[1;32m    452\u001b[0m \u001b[0;34m\u001b[0m\u001b[0m\n",
      "\u001b[0;32m~/anaconda3/lib/python3.7/site-packages/urllib3/connectionpool.py\u001b[0m in \u001b[0;36murlopen\u001b[0;34m(self, method, url, body, headers, retries, redirect, assert_same_host, timeout, pool_timeout, release_conn, chunked, body_pos, **response_kw)\u001b[0m\n\u001b[1;32m    708\u001b[0m                 \u001b[0mbody\u001b[0m\u001b[0;34m=\u001b[0m\u001b[0mbody\u001b[0m\u001b[0;34m,\u001b[0m\u001b[0;34m\u001b[0m\u001b[0;34m\u001b[0m\u001b[0m\n\u001b[1;32m    709\u001b[0m                 \u001b[0mheaders\u001b[0m\u001b[0;34m=\u001b[0m\u001b[0mheaders\u001b[0m\u001b[0;34m,\u001b[0m\u001b[0;34m\u001b[0m\u001b[0;34m\u001b[0m\u001b[0m\n\u001b[0;32m--> 710\u001b[0;31m                 \u001b[0mchunked\u001b[0m\u001b[0;34m=\u001b[0m\u001b[0mchunked\u001b[0m\u001b[0;34m,\u001b[0m\u001b[0;34m\u001b[0m\u001b[0;34m\u001b[0m\u001b[0m\n\u001b[0m\u001b[1;32m    711\u001b[0m             )\n\u001b[1;32m    712\u001b[0m \u001b[0;34m\u001b[0m\u001b[0m\n",
      "\u001b[0;32m~/anaconda3/lib/python3.7/site-packages/urllib3/connectionpool.py\u001b[0m in \u001b[0;36m_make_request\u001b[0;34m(self, conn, method, url, timeout, chunked, **httplib_request_kw)\u001b[0m\n\u001b[1;32m    384\u001b[0m         \u001b[0;31m# Trigger any extra validation we need to do.\u001b[0m\u001b[0;34m\u001b[0m\u001b[0;34m\u001b[0m\u001b[0;34m\u001b[0m\u001b[0m\n\u001b[1;32m    385\u001b[0m         \u001b[0;32mtry\u001b[0m\u001b[0;34m:\u001b[0m\u001b[0;34m\u001b[0m\u001b[0;34m\u001b[0m\u001b[0m\n\u001b[0;32m--> 386\u001b[0;31m             \u001b[0mself\u001b[0m\u001b[0;34m.\u001b[0m\u001b[0m_validate_conn\u001b[0m\u001b[0;34m(\u001b[0m\u001b[0mconn\u001b[0m\u001b[0;34m)\u001b[0m\u001b[0;34m\u001b[0m\u001b[0;34m\u001b[0m\u001b[0m\n\u001b[0m\u001b[1;32m    387\u001b[0m         \u001b[0;32mexcept\u001b[0m \u001b[0;34m(\u001b[0m\u001b[0mSocketTimeout\u001b[0m\u001b[0;34m,\u001b[0m \u001b[0mBaseSSLError\u001b[0m\u001b[0;34m)\u001b[0m \u001b[0;32mas\u001b[0m \u001b[0me\u001b[0m\u001b[0;34m:\u001b[0m\u001b[0;34m\u001b[0m\u001b[0;34m\u001b[0m\u001b[0m\n\u001b[1;32m    388\u001b[0m             \u001b[0;31m# Py2 raises this as a BaseSSLError, Py3 raises it as socket timeout.\u001b[0m\u001b[0;34m\u001b[0m\u001b[0;34m\u001b[0m\u001b[0;34m\u001b[0m\u001b[0m\n",
      "\u001b[0;32m~/anaconda3/lib/python3.7/site-packages/urllib3/connectionpool.py\u001b[0m in \u001b[0;36m_validate_conn\u001b[0;34m(self, conn)\u001b[0m\n\u001b[1;32m   1038\u001b[0m         \u001b[0;31m# Force connect early to allow us to validate the connection.\u001b[0m\u001b[0;34m\u001b[0m\u001b[0;34m\u001b[0m\u001b[0;34m\u001b[0m\u001b[0m\n\u001b[1;32m   1039\u001b[0m         \u001b[0;32mif\u001b[0m \u001b[0;32mnot\u001b[0m \u001b[0mgetattr\u001b[0m\u001b[0;34m(\u001b[0m\u001b[0mconn\u001b[0m\u001b[0;34m,\u001b[0m \u001b[0;34m\"sock\"\u001b[0m\u001b[0;34m,\u001b[0m \u001b[0;32mNone\u001b[0m\u001b[0;34m)\u001b[0m\u001b[0;34m:\u001b[0m  \u001b[0;31m# AppEngine might not have  `.sock`\u001b[0m\u001b[0;34m\u001b[0m\u001b[0;34m\u001b[0m\u001b[0m\n\u001b[0;32m-> 1040\u001b[0;31m             \u001b[0mconn\u001b[0m\u001b[0;34m.\u001b[0m\u001b[0mconnect\u001b[0m\u001b[0;34m(\u001b[0m\u001b[0;34m)\u001b[0m\u001b[0;34m\u001b[0m\u001b[0;34m\u001b[0m\u001b[0m\n\u001b[0m\u001b[1;32m   1041\u001b[0m \u001b[0;34m\u001b[0m\u001b[0m\n\u001b[1;32m   1042\u001b[0m         \u001b[0;32mif\u001b[0m \u001b[0;32mnot\u001b[0m \u001b[0mconn\u001b[0m\u001b[0;34m.\u001b[0m\u001b[0mis_verified\u001b[0m\u001b[0;34m:\u001b[0m\u001b[0;34m\u001b[0m\u001b[0;34m\u001b[0m\u001b[0m\n",
      "\u001b[0;32m~/anaconda3/lib/python3.7/site-packages/urllib3/connection.py\u001b[0m in \u001b[0;36mconnect\u001b[0;34m(self)\u001b[0m\n\u001b[1;32m    422\u001b[0m             \u001b[0mserver_hostname\u001b[0m\u001b[0;34m=\u001b[0m\u001b[0mserver_hostname\u001b[0m\u001b[0;34m,\u001b[0m\u001b[0;34m\u001b[0m\u001b[0;34m\u001b[0m\u001b[0m\n\u001b[1;32m    423\u001b[0m             \u001b[0mssl_context\u001b[0m\u001b[0;34m=\u001b[0m\u001b[0mcontext\u001b[0m\u001b[0;34m,\u001b[0m\u001b[0;34m\u001b[0m\u001b[0;34m\u001b[0m\u001b[0m\n\u001b[0;32m--> 424\u001b[0;31m             \u001b[0mtls_in_tls\u001b[0m\u001b[0;34m=\u001b[0m\u001b[0mtls_in_tls\u001b[0m\u001b[0;34m,\u001b[0m\u001b[0;34m\u001b[0m\u001b[0;34m\u001b[0m\u001b[0m\n\u001b[0m\u001b[1;32m    425\u001b[0m         )\n\u001b[1;32m    426\u001b[0m \u001b[0;34m\u001b[0m\u001b[0m\n",
      "\u001b[0;32m~/anaconda3/lib/python3.7/site-packages/urllib3/util/ssl_.py\u001b[0m in \u001b[0;36mssl_wrap_socket\u001b[0;34m(sock, keyfile, certfile, cert_reqs, ca_certs, server_hostname, ssl_version, ciphers, ssl_context, ca_cert_dir, key_password, ca_cert_data, tls_in_tls)\u001b[0m\n\u001b[1;32m    448\u001b[0m     \u001b[0;32mif\u001b[0m \u001b[0msend_sni\u001b[0m\u001b[0;34m:\u001b[0m\u001b[0;34m\u001b[0m\u001b[0;34m\u001b[0m\u001b[0m\n\u001b[1;32m    449\u001b[0m         ssl_sock = _ssl_wrap_socket_impl(\n\u001b[0;32m--> 450\u001b[0;31m             \u001b[0msock\u001b[0m\u001b[0;34m,\u001b[0m \u001b[0mcontext\u001b[0m\u001b[0;34m,\u001b[0m \u001b[0mtls_in_tls\u001b[0m\u001b[0;34m,\u001b[0m \u001b[0mserver_hostname\u001b[0m\u001b[0;34m=\u001b[0m\u001b[0mserver_hostname\u001b[0m\u001b[0;34m\u001b[0m\u001b[0;34m\u001b[0m\u001b[0m\n\u001b[0m\u001b[1;32m    451\u001b[0m         )\n\u001b[1;32m    452\u001b[0m     \u001b[0;32melse\u001b[0m\u001b[0;34m:\u001b[0m\u001b[0;34m\u001b[0m\u001b[0;34m\u001b[0m\u001b[0m\n",
      "\u001b[0;32m~/anaconda3/lib/python3.7/site-packages/urllib3/util/ssl_.py\u001b[0m in \u001b[0;36m_ssl_wrap_socket_impl\u001b[0;34m(sock, ssl_context, tls_in_tls, server_hostname)\u001b[0m\n\u001b[1;32m    491\u001b[0m \u001b[0;34m\u001b[0m\u001b[0m\n\u001b[1;32m    492\u001b[0m     \u001b[0;32mif\u001b[0m \u001b[0mserver_hostname\u001b[0m\u001b[0;34m:\u001b[0m\u001b[0;34m\u001b[0m\u001b[0;34m\u001b[0m\u001b[0m\n\u001b[0;32m--> 493\u001b[0;31m         \u001b[0;32mreturn\u001b[0m \u001b[0mssl_context\u001b[0m\u001b[0;34m.\u001b[0m\u001b[0mwrap_socket\u001b[0m\u001b[0;34m(\u001b[0m\u001b[0msock\u001b[0m\u001b[0;34m,\u001b[0m \u001b[0mserver_hostname\u001b[0m\u001b[0;34m=\u001b[0m\u001b[0mserver_hostname\u001b[0m\u001b[0;34m)\u001b[0m\u001b[0;34m\u001b[0m\u001b[0;34m\u001b[0m\u001b[0m\n\u001b[0m\u001b[1;32m    494\u001b[0m     \u001b[0;32melse\u001b[0m\u001b[0;34m:\u001b[0m\u001b[0;34m\u001b[0m\u001b[0;34m\u001b[0m\u001b[0m\n\u001b[1;32m    495\u001b[0m         \u001b[0;32mreturn\u001b[0m \u001b[0mssl_context\u001b[0m\u001b[0;34m.\u001b[0m\u001b[0mwrap_socket\u001b[0m\u001b[0;34m(\u001b[0m\u001b[0msock\u001b[0m\u001b[0;34m)\u001b[0m\u001b[0;34m\u001b[0m\u001b[0;34m\u001b[0m\u001b[0m\n",
      "\u001b[0;32m~/anaconda3/lib/python3.7/ssl.py\u001b[0m in \u001b[0;36mwrap_socket\u001b[0;34m(self, sock, server_side, do_handshake_on_connect, suppress_ragged_eofs, server_hostname, session)\u001b[0m\n\u001b[1;32m    421\u001b[0m             \u001b[0mserver_hostname\u001b[0m\u001b[0;34m=\u001b[0m\u001b[0mserver_hostname\u001b[0m\u001b[0;34m,\u001b[0m\u001b[0;34m\u001b[0m\u001b[0;34m\u001b[0m\u001b[0m\n\u001b[1;32m    422\u001b[0m             \u001b[0mcontext\u001b[0m\u001b[0;34m=\u001b[0m\u001b[0mself\u001b[0m\u001b[0;34m,\u001b[0m\u001b[0;34m\u001b[0m\u001b[0;34m\u001b[0m\u001b[0m\n\u001b[0;32m--> 423\u001b[0;31m             \u001b[0msession\u001b[0m\u001b[0;34m=\u001b[0m\u001b[0msession\u001b[0m\u001b[0;34m\u001b[0m\u001b[0;34m\u001b[0m\u001b[0m\n\u001b[0m\u001b[1;32m    424\u001b[0m         )\n\u001b[1;32m    425\u001b[0m \u001b[0;34m\u001b[0m\u001b[0m\n",
      "\u001b[0;32m~/anaconda3/lib/python3.7/ssl.py\u001b[0m in \u001b[0;36m_create\u001b[0;34m(cls, sock, server_side, do_handshake_on_connect, suppress_ragged_eofs, server_hostname, context, session)\u001b[0m\n\u001b[1;32m    868\u001b[0m                         \u001b[0;31m# non-blocking\u001b[0m\u001b[0;34m\u001b[0m\u001b[0;34m\u001b[0m\u001b[0;34m\u001b[0m\u001b[0m\n\u001b[1;32m    869\u001b[0m                         \u001b[0;32mraise\u001b[0m \u001b[0mValueError\u001b[0m\u001b[0;34m(\u001b[0m\u001b[0;34m\"do_handshake_on_connect should not be specified for non-blocking sockets\"\u001b[0m\u001b[0;34m)\u001b[0m\u001b[0;34m\u001b[0m\u001b[0;34m\u001b[0m\u001b[0m\n\u001b[0;32m--> 870\u001b[0;31m                     \u001b[0mself\u001b[0m\u001b[0;34m.\u001b[0m\u001b[0mdo_handshake\u001b[0m\u001b[0;34m(\u001b[0m\u001b[0;34m)\u001b[0m\u001b[0;34m\u001b[0m\u001b[0;34m\u001b[0m\u001b[0m\n\u001b[0m\u001b[1;32m    871\u001b[0m             \u001b[0;32mexcept\u001b[0m \u001b[0;34m(\u001b[0m\u001b[0mOSError\u001b[0m\u001b[0;34m,\u001b[0m \u001b[0mValueError\u001b[0m\u001b[0;34m)\u001b[0m\u001b[0;34m:\u001b[0m\u001b[0;34m\u001b[0m\u001b[0;34m\u001b[0m\u001b[0m\n\u001b[1;32m    872\u001b[0m                 \u001b[0mself\u001b[0m\u001b[0;34m.\u001b[0m\u001b[0mclose\u001b[0m\u001b[0;34m(\u001b[0m\u001b[0;34m)\u001b[0m\u001b[0;34m\u001b[0m\u001b[0;34m\u001b[0m\u001b[0m\n",
      "\u001b[0;32m~/anaconda3/lib/python3.7/ssl.py\u001b[0m in \u001b[0;36mdo_handshake\u001b[0;34m(self, block)\u001b[0m\n\u001b[1;32m   1137\u001b[0m             \u001b[0;32mif\u001b[0m \u001b[0mtimeout\u001b[0m \u001b[0;34m==\u001b[0m \u001b[0;36m0.0\u001b[0m \u001b[0;32mand\u001b[0m \u001b[0mblock\u001b[0m\u001b[0;34m:\u001b[0m\u001b[0;34m\u001b[0m\u001b[0;34m\u001b[0m\u001b[0m\n\u001b[1;32m   1138\u001b[0m                 \u001b[0mself\u001b[0m\u001b[0;34m.\u001b[0m\u001b[0msettimeout\u001b[0m\u001b[0;34m(\u001b[0m\u001b[0;32mNone\u001b[0m\u001b[0;34m)\u001b[0m\u001b[0;34m\u001b[0m\u001b[0;34m\u001b[0m\u001b[0m\n\u001b[0;32m-> 1139\u001b[0;31m             \u001b[0mself\u001b[0m\u001b[0;34m.\u001b[0m\u001b[0m_sslobj\u001b[0m\u001b[0;34m.\u001b[0m\u001b[0mdo_handshake\u001b[0m\u001b[0;34m(\u001b[0m\u001b[0;34m)\u001b[0m\u001b[0;34m\u001b[0m\u001b[0;34m\u001b[0m\u001b[0m\n\u001b[0m\u001b[1;32m   1140\u001b[0m         \u001b[0;32mfinally\u001b[0m\u001b[0;34m:\u001b[0m\u001b[0;34m\u001b[0m\u001b[0;34m\u001b[0m\u001b[0m\n\u001b[1;32m   1141\u001b[0m             \u001b[0mself\u001b[0m\u001b[0;34m.\u001b[0m\u001b[0msettimeout\u001b[0m\u001b[0;34m(\u001b[0m\u001b[0mtimeout\u001b[0m\u001b[0;34m)\u001b[0m\u001b[0;34m\u001b[0m\u001b[0;34m\u001b[0m\u001b[0m\n",
      "\u001b[0;31mKeyboardInterrupt\u001b[0m: "
     ]
    }
   ],
   "source": [
    "def get_rel(repo_url, repo_contributor_rel, repo_id, contributors_set,n_contributors=10):\n",
    "    print(repo_url)\n",
    "    contributor_url = (f\"https://api.github.com/repos{repo_url}/contributors\")\n",
    "    contributor_page = requests.get(contributor_url, auth=(USERNAME, TOKEN)).json()\n",
    "    print(contributor_page)\n",
    "    max_n_top_contributors = min(len(contributor_page),n_contributors)\n",
    "    \n",
    "    all_contributors = dict()\n",
    "    if 'message' not in list(contributor_page.keys()):\n",
    "        for n in range(max_n_top_contributors):\n",
    "            contributor = contributor_page[n]\n",
    "            repo_contributor_rel.add((repo_id, contributor[\"login\"], contributor[\"contributions\"]))\n",
    "\n",
    "for url,r_id in tqdm(repos_zip,desc=\"Scraping top contributors info...\"):\n",
    "    get_rel(url,repo_contributor_rel,r_id,contributors)\n",
    "    pd.DataFrame(repo_contributor_rel, columns=['Repo','Contributor','Contributions']).sort_values('Repo').to_csv('repo_contributor_relationship_table_stop75.csv')\n",
    "\n",
    "#repos_zip[1]\n",
    "#requests.get(f'https://api.github.com/users/bmoore-msft', auth=(USERNAME, TOKEN)).json()"
   ]
  },
  {
   "cell_type": "code",
   "execution_count": 65,
   "id": "steady-adoption",
   "metadata": {},
   "outputs": [
    {
     "name": "stderr",
     "output_type": "stream",
     "text": [
      "Scraping top contributors info...:   7%|▋         | 1306/19940 [13:16<3:09:19,  1.64it/s]\n"
     ]
    },
    {
     "ename": "Exception",
     "evalue": "This is the exception you expect to handle",
     "output_type": "error",
     "traceback": [
      "\u001b[0;31m---------------------------------------------------------------------------\u001b[0m",
      "\u001b[0;31mException\u001b[0m                                 Traceback (most recent call last)",
      "\u001b[0;32m<ipython-input-65-706c0ff9484d>\u001b[0m in \u001b[0;36m<module>\u001b[0;34m\u001b[0m\n\u001b[0;32m----> 1\u001b[0;31m \u001b[0mget_all_contributors\u001b[0m\u001b[0;34m(\u001b[0m\u001b[0mrepos_zip\u001b[0m\u001b[0;34m,\u001b[0m\u001b[0mrepo_contributor_rel\u001b[0m\u001b[0;34m,\u001b[0m\u001b[0mcontributors\u001b[0m\u001b[0;34m)\u001b[0m\u001b[0;34m\u001b[0m\u001b[0;34m\u001b[0m\u001b[0m\n\u001b[0m",
      "\u001b[0;32m<ipython-input-59-bc85ea48f3bb>\u001b[0m in \u001b[0;36mget_all_contributors\u001b[0;34m(repos, repo_contributor_rel, contributors_set, n_contributors)\u001b[0m\n\u001b[1;32m     28\u001b[0m     \u001b[0mcontributor_df\u001b[0m \u001b[0;34m=\u001b[0m \u001b[0mpd\u001b[0m\u001b[0;34m.\u001b[0m\u001b[0mDataFrame\u001b[0m\u001b[0;34m(\u001b[0m\u001b[0mcolumns\u001b[0m\u001b[0;34m=\u001b[0m\u001b[0;34m[\u001b[0m\u001b[0;34m\"login\"\u001b[0m\u001b[0;34m,\u001b[0m\u001b[0;34m\"url\"\u001b[0m\u001b[0;34m,\u001b[0m\u001b[0;34m\"type\"\u001b[0m\u001b[0;34m,\u001b[0m\u001b[0;34m\"name\"\u001b[0m\u001b[0;34m,\u001b[0m\u001b[0;34m\"company\"\u001b[0m\u001b[0;34m,\u001b[0m\u001b[0;34m\"location\"\u001b[0m\u001b[0;34m,\u001b[0m\u001b[0;34m\"hireable\"\u001b[0m\u001b[0;34m,\u001b[0m\u001b[0;34m\"bio\"\u001b[0m\u001b[0;34m,\u001b[0m\u001b[0;34m\"public_repos\"\u001b[0m\u001b[0;34m,\u001b[0m\u001b[0;34m\"public_gists\"\u001b[0m\u001b[0;34m,\u001b[0m\u001b[0;34m\"followers\"\u001b[0m\u001b[0;34m,\u001b[0m\u001b[0;34m\"following\"\u001b[0m\u001b[0;34m,\u001b[0m\u001b[0;34m\"created_at\"\u001b[0m\u001b[0;34m]\u001b[0m\u001b[0;34m)\u001b[0m\u001b[0;34m\u001b[0m\u001b[0;34m\u001b[0m\u001b[0m\n\u001b[1;32m     29\u001b[0m     \u001b[0;32mfor\u001b[0m \u001b[0murl\u001b[0m\u001b[0;34m,\u001b[0m\u001b[0mr_id\u001b[0m \u001b[0;32min\u001b[0m \u001b[0mtqdm\u001b[0m\u001b[0;34m(\u001b[0m\u001b[0mrepos\u001b[0m\u001b[0;34m,\u001b[0m\u001b[0mdesc\u001b[0m\u001b[0;34m=\u001b[0m\u001b[0;34m\"Scraping top contributors info...\"\u001b[0m\u001b[0;34m)\u001b[0m\u001b[0;34m:\u001b[0m\u001b[0;34m\u001b[0m\u001b[0;34m\u001b[0m\u001b[0m\n\u001b[0;32m---> 30\u001b[0;31m         \u001b[0mnew_contributors\u001b[0m \u001b[0;34m=\u001b[0m \u001b[0mget_repo_contributors\u001b[0m\u001b[0;34m(\u001b[0m\u001b[0murl\u001b[0m\u001b[0;34m,\u001b[0m \u001b[0mrepo_contributor_rel\u001b[0m\u001b[0;34m,\u001b[0m \u001b[0mr_id\u001b[0m\u001b[0;34m,\u001b[0m \u001b[0mcontributors_set\u001b[0m\u001b[0;34m,\u001b[0m\u001b[0mn_contributors\u001b[0m\u001b[0;34m=\u001b[0m\u001b[0mn_contributors\u001b[0m\u001b[0;34m)\u001b[0m\u001b[0;34m\u001b[0m\u001b[0;34m\u001b[0m\u001b[0m\n\u001b[0m\u001b[1;32m     31\u001b[0m         \u001b[0;31m#print(url,len(new_contributors.index))\u001b[0m\u001b[0;34m\u001b[0m\u001b[0;34m\u001b[0m\u001b[0;34m\u001b[0m\u001b[0m\n\u001b[1;32m     32\u001b[0m         \u001b[0mcontributor_df\u001b[0m \u001b[0;34m=\u001b[0m \u001b[0mpd\u001b[0m\u001b[0;34m.\u001b[0m\u001b[0mconcat\u001b[0m\u001b[0;34m(\u001b[0m\u001b[0;34m[\u001b[0m\u001b[0mcontributor_df\u001b[0m\u001b[0;34m,\u001b[0m\u001b[0mnew_contributors\u001b[0m\u001b[0;34m]\u001b[0m\u001b[0;34m)\u001b[0m\u001b[0;34m.\u001b[0m\u001b[0mdrop_duplicates\u001b[0m\u001b[0;34m(\u001b[0m\u001b[0;34m)\u001b[0m\u001b[0;34m\u001b[0m\u001b[0;34m\u001b[0m\u001b[0m\n",
      "\u001b[0;32m<ipython-input-59-bc85ea48f3bb>\u001b[0m in \u001b[0;36mget_repo_contributors\u001b[0;34m(repo_url, repo_contributor_rel, repo_id, contributors_set, n_contributors)\u001b[0m\n\u001b[1;32m      5\u001b[0m     \u001b[0;32mif\u001b[0m \u001b[0mcontributor_page\u001b[0m\u001b[0;34m.\u001b[0m\u001b[0mstatus_code\u001b[0m \u001b[0;34m!=\u001b[0m \u001b[0;36m204\u001b[0m\u001b[0;34m:\u001b[0m\u001b[0;34m\u001b[0m\u001b[0;34m\u001b[0m\u001b[0m\n\u001b[1;32m      6\u001b[0m         \u001b[0;32mif\u001b[0m \u001b[0mcontributor_page\u001b[0m\u001b[0;34m.\u001b[0m\u001b[0mstatus_code\u001b[0m \u001b[0;34m==\u001b[0m \u001b[0;36m403\u001b[0m\u001b[0;34m:\u001b[0m\u001b[0;34m\u001b[0m\u001b[0;34m\u001b[0m\u001b[0m\n\u001b[0;32m----> 7\u001b[0;31m             \u001b[0;32mraise\u001b[0m \u001b[0mException\u001b[0m\u001b[0;34m(\u001b[0m\u001b[0;34m'This is the exception you expect to handle'\u001b[0m\u001b[0;34m)\u001b[0m\u001b[0;34m\u001b[0m\u001b[0;34m\u001b[0m\u001b[0m\n\u001b[0m\u001b[1;32m      8\u001b[0m         \u001b[0mcontributor_page\u001b[0m \u001b[0;34m=\u001b[0m \u001b[0mcontributor_page\u001b[0m\u001b[0;34m.\u001b[0m\u001b[0mjson\u001b[0m\u001b[0;34m(\u001b[0m\u001b[0;34m)\u001b[0m\u001b[0;34m\u001b[0m\u001b[0;34m\u001b[0m\u001b[0m\n\u001b[1;32m      9\u001b[0m         \u001b[0mmax_n_top_contributors\u001b[0m \u001b[0;34m=\u001b[0m \u001b[0mmin\u001b[0m\u001b[0;34m(\u001b[0m\u001b[0mlen\u001b[0m\u001b[0;34m(\u001b[0m\u001b[0mcontributor_page\u001b[0m\u001b[0;34m)\u001b[0m\u001b[0;34m,\u001b[0m\u001b[0mn_contributors\u001b[0m\u001b[0;34m)\u001b[0m\u001b[0;34m\u001b[0m\u001b[0;34m\u001b[0m\u001b[0m\n",
      "\u001b[0;31mException\u001b[0m: This is the exception you expect to handle"
     ]
    }
   ],
   "source": [
    "get_all_contributors(repos_zip,repo_contributor_rel,contributors)"
   ]
  },
  {
   "cell_type": "code",
   "execution_count": 68,
   "id": "rocky-backup",
   "metadata": {},
   "outputs": [
    {
     "data": {
      "text/plain": [
       "{'login': 'dragonir',\n",
       " 'id': 21058931,\n",
       " 'node_id': 'MDQ6VXNlcjIxMDU4OTMx',\n",
       " 'avatar_url': 'https://avatars.githubusercontent.com/u/21058931?v=4',\n",
       " 'gravatar_id': '',\n",
       " 'url': 'https://api.github.com/users/dragonir',\n",
       " 'html_url': 'https://github.com/dragonir',\n",
       " 'followers_url': 'https://api.github.com/users/dragonir/followers',\n",
       " 'following_url': 'https://api.github.com/users/dragonir/following{/other_user}',\n",
       " 'gists_url': 'https://api.github.com/users/dragonir/gists{/gist_id}',\n",
       " 'starred_url': 'https://api.github.com/users/dragonir/starred{/owner}{/repo}',\n",
       " 'subscriptions_url': 'https://api.github.com/users/dragonir/subscriptions',\n",
       " 'organizations_url': 'https://api.github.com/users/dragonir/orgs',\n",
       " 'repos_url': 'https://api.github.com/users/dragonir/repos',\n",
       " 'events_url': 'https://api.github.com/users/dragonir/events{/privacy}',\n",
       " 'received_events_url': 'https://api.github.com/users/dragonir/received_events',\n",
       " 'type': 'User',\n",
       " 'site_admin': False,\n",
       " 'name': 'dragonir',\n",
       " 'company': None,\n",
       " 'blog': 'https://tricell.fun',\n",
       " 'location': None,\n",
       " 'email': 'dragonirxo@outlook.com',\n",
       " 'hireable': True,\n",
       " 'bio': '我自食其力',\n",
       " 'twitter_username': None,\n",
       " 'public_repos': 285,\n",
       " 'public_gists': 5,\n",
       " 'followers': 342,\n",
       " 'following': 34,\n",
       " 'created_at': '2016-08-16T12:05:10Z',\n",
       " 'updated_at': '2022-04-18T06:43:07Z'}"
      ]
     },
     "execution_count": 68,
     "metadata": {},
     "output_type": "execute_result"
    }
   ],
   "source": [
    "contributor_url = (f\"https://api.github.com/repos/dragonir/3d/contributors\")\n",
    "#requests.get(contributor_url, auth=(USERNAME, TOKEN)).json()\n",
    "requests.get('https://api.github.com/users/dragonir', auth=(USERNAME, TOKEN)).json()"
   ]
  },
  {
   "cell_type": "code",
   "execution_count": 57,
   "id": "saving-annex",
   "metadata": {},
   "outputs": [
    {
     "data": {
      "text/html": [
       "<div>\n",
       "<style scoped>\n",
       "    .dataframe tbody tr th:only-of-type {\n",
       "        vertical-align: middle;\n",
       "    }\n",
       "\n",
       "    .dataframe tbody tr th {\n",
       "        vertical-align: top;\n",
       "    }\n",
       "\n",
       "    .dataframe thead th {\n",
       "        text-align: right;\n",
       "    }\n",
       "</style>\n",
       "<table border=\"1\" class=\"dataframe\">\n",
       "  <thead>\n",
       "    <tr style=\"text-align: right;\">\n",
       "      <th></th>\n",
       "      <th>login</th>\n",
       "      <th>url</th>\n",
       "      <th>type</th>\n",
       "      <th>name</th>\n",
       "      <th>company</th>\n",
       "      <th>location</th>\n",
       "      <th>hireable</th>\n",
       "      <th>bio</th>\n",
       "      <th>public_repos</th>\n",
       "      <th>public_gists</th>\n",
       "      <th>followers</th>\n",
       "      <th>following</th>\n",
       "    </tr>\n",
       "  </thead>\n",
       "  <tbody>\n",
       "    <tr>\n",
       "      <th>dragonir</th>\n",
       "      <td>dragonir</td>\n",
       "      <td>https://api.github.com/users/dragonir</td>\n",
       "      <td>User</td>\n",
       "      <td>dragonir</td>\n",
       "      <td>NaN</td>\n",
       "      <td>NaN</td>\n",
       "      <td>True</td>\n",
       "      <td>我自食其力</td>\n",
       "      <td>285</td>\n",
       "      <td>5</td>\n",
       "      <td>342</td>\n",
       "      <td>34</td>\n",
       "    </tr>\n",
       "    <tr>\n",
       "      <th>nelsonkuang</th>\n",
       "      <td>nelsonkuang</td>\n",
       "      <td>https://api.github.com/users/nelsonkuang</td>\n",
       "      <td>User</td>\n",
       "      <td>茶布多</td>\n",
       "      <td>Aspire</td>\n",
       "      <td>广州</td>\n",
       "      <td>True</td>\n",
       "      <td>图形学 is fascinating, I love CG</td>\n",
       "      <td>55</td>\n",
       "      <td>0</td>\n",
       "      <td>156</td>\n",
       "      <td>22</td>\n",
       "    </tr>\n",
       "    <tr>\n",
       "      <th>mrdoob</th>\n",
       "      <td>mrdoob</td>\n",
       "      <td>https://api.github.com/users/mrdoob</td>\n",
       "      <td>User</td>\n",
       "      <td>NaN</td>\n",
       "      <td>NaN</td>\n",
       "      <td>NaN</td>\n",
       "      <td>NaN</td>\n",
       "      <td>NaN</td>\n",
       "      <td>42</td>\n",
       "      <td>68</td>\n",
       "      <td>18723</td>\n",
       "      <td>169</td>\n",
       "    </tr>\n",
       "    <tr>\n",
       "      <th>Mugen87</th>\n",
       "      <td>Mugen87</td>\n",
       "      <td>https://api.github.com/users/Mugen87</td>\n",
       "      <td>User</td>\n",
       "      <td>Michael Herzog</td>\n",
       "      <td>Human Interactive</td>\n",
       "      <td>Germany</td>\n",
       "      <td>NaN</td>\n",
       "      <td>I :heart: three.js</td>\n",
       "      <td>11</td>\n",
       "      <td>1</td>\n",
       "      <td>664</td>\n",
       "      <td>34</td>\n",
       "    </tr>\n",
       "    <tr>\n",
       "      <th>alteredq</th>\n",
       "      <td>alteredq</td>\n",
       "      <td>https://api.github.com/users/alteredq</td>\n",
       "      <td>User</td>\n",
       "      <td>AlteredQualia</td>\n",
       "      <td>NaN</td>\n",
       "      <td>NaN</td>\n",
       "      <td>NaN</td>\n",
       "      <td>NaN</td>\n",
       "      <td>6</td>\n",
       "      <td>3</td>\n",
       "      <td>1131</td>\n",
       "      <td>4</td>\n",
       "    </tr>\n",
       "    <tr>\n",
       "      <th>WestLangley</th>\n",
       "      <td>WestLangley</td>\n",
       "      <td>https://api.github.com/users/WestLangley</td>\n",
       "      <td>User</td>\n",
       "      <td>NaN</td>\n",
       "      <td>NaN</td>\n",
       "      <td>NaN</td>\n",
       "      <td>NaN</td>\n",
       "      <td>NaN</td>\n",
       "      <td>1</td>\n",
       "      <td>1</td>\n",
       "      <td>198</td>\n",
       "      <td>0</td>\n",
       "    </tr>\n",
       "    <tr>\n",
       "      <th>bhouston</th>\n",
       "      <td>bhouston</td>\n",
       "      <td>https://api.github.com/users/bhouston</td>\n",
       "      <td>User</td>\n",
       "      <td>Ben Houston</td>\n",
       "      <td>ThreeKit</td>\n",
       "      <td>Ottawa, Canada</td>\n",
       "      <td>NaN</td>\n",
       "      <td>Coding computer graphics since 1990. Founder &amp;...</td>\n",
       "      <td>14</td>\n",
       "      <td>19</td>\n",
       "      <td>182</td>\n",
       "      <td>33</td>\n",
       "    </tr>\n",
       "    <tr>\n",
       "      <th>takahirox</th>\n",
       "      <td>takahirox</td>\n",
       "      <td>https://api.github.com/users/takahirox</td>\n",
       "      <td>User</td>\n",
       "      <td>Takahiro</td>\n",
       "      <td>Mozilla</td>\n",
       "      <td>Mountain View</td>\n",
       "      <td>True</td>\n",
       "      <td>Average level computer engineer</td>\n",
       "      <td>122</td>\n",
       "      <td>0</td>\n",
       "      <td>544</td>\n",
       "      <td>14</td>\n",
       "    </tr>\n",
       "    <tr>\n",
       "      <th>looeee</th>\n",
       "      <td>looeee</td>\n",
       "      <td>https://api.github.com/users/looeee</td>\n",
       "      <td>User</td>\n",
       "      <td>Lewy Blue</td>\n",
       "      <td>Discover three.js</td>\n",
       "      <td>Ireland</td>\n",
       "      <td>True</td>\n",
       "      <td>Author of the book Discover three.js! \\r\\n\\r\\n...</td>\n",
       "      <td>22</td>\n",
       "      <td>2</td>\n",
       "      <td>283</td>\n",
       "      <td>2</td>\n",
       "    </tr>\n",
       "    <tr>\n",
       "      <th>greggman</th>\n",
       "      <td>greggman</td>\n",
       "      <td>https://api.github.com/users/greggman</td>\n",
       "      <td>User</td>\n",
       "      <td>Greggman</td>\n",
       "      <td>NaN</td>\n",
       "      <td>Earth</td>\n",
       "      <td>NaN</td>\n",
       "      <td>30 years of games\\r\\n5 years of Chrome</td>\n",
       "      <td>305</td>\n",
       "      <td>333</td>\n",
       "      <td>1369</td>\n",
       "      <td>3</td>\n",
       "    </tr>\n",
       "    <tr>\n",
       "      <th>sunag</th>\n",
       "      <td>sunag</td>\n",
       "      <td>https://api.github.com/users/sunag</td>\n",
       "      <td>User</td>\n",
       "      <td>sunag</td>\n",
       "      <td>Sunag</td>\n",
       "      <td>Brazil, Curitiba</td>\n",
       "      <td>NaN</td>\n",
       "      <td>NaN</td>\n",
       "      <td>12</td>\n",
       "      <td>0</td>\n",
       "      <td>78</td>\n",
       "      <td>2</td>\n",
       "    </tr>\n",
       "    <tr>\n",
       "      <th>gero3</th>\n",
       "      <td>gero3</td>\n",
       "      <td>https://api.github.com/users/gero3</td>\n",
       "      <td>User</td>\n",
       "      <td>NaN</td>\n",
       "      <td>NaN</td>\n",
       "      <td>NaN</td>\n",
       "      <td>NaN</td>\n",
       "      <td>NaN</td>\n",
       "      <td>66</td>\n",
       "      <td>16</td>\n",
       "      <td>51</td>\n",
       "      <td>1</td>\n",
       "    </tr>\n",
       "    <tr>\n",
       "      <th>timzhang642</th>\n",
       "      <td>timzhang642</td>\n",
       "      <td>https://api.github.com/users/timzhang642</td>\n",
       "      <td>User</td>\n",
       "      <td>Yuxuan (Tim) Zhang</td>\n",
       "      <td>NaN</td>\n",
       "      <td>Boston</td>\n",
       "      <td>NaN</td>\n",
       "      <td>CV + CG + ML</td>\n",
       "      <td>19</td>\n",
       "      <td>1</td>\n",
       "      <td>520</td>\n",
       "      <td>27</td>\n",
       "    </tr>\n",
       "    <tr>\n",
       "      <th>julyrashchenko</th>\n",
       "      <td>julyrashchenko</td>\n",
       "      <td>https://api.github.com/users/julyrashchenko</td>\n",
       "      <td>User</td>\n",
       "      <td>NaN</td>\n",
       "      <td>NaN</td>\n",
       "      <td>NaN</td>\n",
       "      <td>NaN</td>\n",
       "      <td>NaN</td>\n",
       "      <td>3</td>\n",
       "      <td>1</td>\n",
       "      <td>0</td>\n",
       "      <td>0</td>\n",
       "    </tr>\n",
       "    <tr>\n",
       "      <th>EdwardSmith1884</th>\n",
       "      <td>EdwardSmith1884</td>\n",
       "      <td>https://api.github.com/users/EdwardSmith1884</td>\n",
       "      <td>User</td>\n",
       "      <td>Edward Smith</td>\n",
       "      <td>McGill University</td>\n",
       "      <td>NaN</td>\n",
       "      <td>NaN</td>\n",
       "      <td>PhD student at McGill University. Visiting res...</td>\n",
       "      <td>15</td>\n",
       "      <td>0</td>\n",
       "      <td>73</td>\n",
       "      <td>2</td>\n",
       "    </tr>\n",
       "    <tr>\n",
       "      <th>frankhjwx</th>\n",
       "      <td>frankhjwx</td>\n",
       "      <td>https://api.github.com/users/frankhjwx</td>\n",
       "      <td>User</td>\n",
       "      <td>frankhjwx</td>\n",
       "      <td>NaN</td>\n",
       "      <td>Shanghai, China</td>\n",
       "      <td>NaN</td>\n",
       "      <td>Game Programmer, Graphics Programmer</td>\n",
       "      <td>25</td>\n",
       "      <td>1</td>\n",
       "      <td>39</td>\n",
       "      <td>31</td>\n",
       "    </tr>\n",
       "    <tr>\n",
       "      <th>salehjg</th>\n",
       "      <td>salehjg</td>\n",
       "      <td>https://api.github.com/users/salehjg</td>\n",
       "      <td>User</td>\n",
       "      <td>Saleh</td>\n",
       "      <td>University of Tabriz</td>\n",
       "      <td>NaN</td>\n",
       "      <td>NaN</td>\n",
       "      <td>WAR IS HELL, #LongLiveUkraine</td>\n",
       "      <td>85</td>\n",
       "      <td>9</td>\n",
       "      <td>15</td>\n",
       "      <td>114</td>\n",
       "    </tr>\n",
       "    <tr>\n",
       "      <th>art-programmer</th>\n",
       "      <td>art-programmer</td>\n",
       "      <td>https://api.github.com/users/art-programmer</td>\n",
       "      <td>User</td>\n",
       "      <td>NaN</td>\n",
       "      <td>Washington University in St. Louis</td>\n",
       "      <td>NaN</td>\n",
       "      <td>NaN</td>\n",
       "      <td>NaN</td>\n",
       "      <td>21</td>\n",
       "      <td>0</td>\n",
       "      <td>169</td>\n",
       "      <td>3</td>\n",
       "    </tr>\n",
       "    <tr>\n",
       "      <th>nschor</th>\n",
       "      <td>nschor</td>\n",
       "      <td>https://api.github.com/users/nschor</td>\n",
       "      <td>User</td>\n",
       "      <td>NaN</td>\n",
       "      <td>NaN</td>\n",
       "      <td>NaN</td>\n",
       "      <td>NaN</td>\n",
       "      <td>NaN</td>\n",
       "      <td>7</td>\n",
       "      <td>0</td>\n",
       "      <td>3</td>\n",
       "      <td>1</td>\n",
       "    </tr>\n",
       "    <tr>\n",
       "      <th>bertjiazheng</th>\n",
       "      <td>bertjiazheng</td>\n",
       "      <td>https://api.github.com/users/bertjiazheng</td>\n",
       "      <td>User</td>\n",
       "      <td>Jia (Bert) Zheng</td>\n",
       "      <td>Manycore Tech Inc. (Kujiale)</td>\n",
       "      <td>Hangzhou, China</td>\n",
       "      <td>NaN</td>\n",
       "      <td>Computer Vision Engineer &amp; Researcher @manycor...</td>\n",
       "      <td>12</td>\n",
       "      <td>3</td>\n",
       "      <td>111</td>\n",
       "      <td>26</td>\n",
       "    </tr>\n",
       "    <tr>\n",
       "      <th>kuixu</th>\n",
       "      <td>kuixu</td>\n",
       "      <td>https://api.github.com/users/kuixu</td>\n",
       "      <td>User</td>\n",
       "      <td>Kui Xu</td>\n",
       "      <td>Tsinghua University</td>\n",
       "      <td>Haidian Dist, Beijing, China</td>\n",
       "      <td>NaN</td>\n",
       "      <td>Researcher, interested in Computational Biolog...</td>\n",
       "      <td>160</td>\n",
       "      <td>1</td>\n",
       "      <td>225</td>\n",
       "      <td>151</td>\n",
       "    </tr>\n",
       "    <tr>\n",
       "      <th>orlitany</th>\n",
       "      <td>orlitany</td>\n",
       "      <td>https://api.github.com/users/orlitany</td>\n",
       "      <td>User</td>\n",
       "      <td>Or Litany</td>\n",
       "      <td>Nvidia</td>\n",
       "      <td>NaN</td>\n",
       "      <td>NaN</td>\n",
       "      <td>NaN</td>\n",
       "      <td>21</td>\n",
       "      <td>0</td>\n",
       "      <td>106</td>\n",
       "      <td>0</td>\n",
       "    </tr>\n",
       "  </tbody>\n",
       "</table>\n",
       "</div>"
      ],
      "text/plain": [
       "                           login  \\\n",
       "dragonir                dragonir   \n",
       "nelsonkuang          nelsonkuang   \n",
       "mrdoob                    mrdoob   \n",
       "Mugen87                  Mugen87   \n",
       "alteredq                alteredq   \n",
       "WestLangley          WestLangley   \n",
       "bhouston                bhouston   \n",
       "takahirox              takahirox   \n",
       "looeee                    looeee   \n",
       "greggman                greggman   \n",
       "sunag                      sunag   \n",
       "gero3                      gero3   \n",
       "timzhang642          timzhang642   \n",
       "julyrashchenko    julyrashchenko   \n",
       "EdwardSmith1884  EdwardSmith1884   \n",
       "frankhjwx              frankhjwx   \n",
       "salehjg                  salehjg   \n",
       "art-programmer    art-programmer   \n",
       "nschor                    nschor   \n",
       "bertjiazheng        bertjiazheng   \n",
       "kuixu                      kuixu   \n",
       "orlitany                orlitany   \n",
       "\n",
       "                                                          url  type  \\\n",
       "dragonir                https://api.github.com/users/dragonir  User   \n",
       "nelsonkuang          https://api.github.com/users/nelsonkuang  User   \n",
       "mrdoob                    https://api.github.com/users/mrdoob  User   \n",
       "Mugen87                  https://api.github.com/users/Mugen87  User   \n",
       "alteredq                https://api.github.com/users/alteredq  User   \n",
       "WestLangley          https://api.github.com/users/WestLangley  User   \n",
       "bhouston                https://api.github.com/users/bhouston  User   \n",
       "takahirox              https://api.github.com/users/takahirox  User   \n",
       "looeee                    https://api.github.com/users/looeee  User   \n",
       "greggman                https://api.github.com/users/greggman  User   \n",
       "sunag                      https://api.github.com/users/sunag  User   \n",
       "gero3                      https://api.github.com/users/gero3  User   \n",
       "timzhang642          https://api.github.com/users/timzhang642  User   \n",
       "julyrashchenko    https://api.github.com/users/julyrashchenko  User   \n",
       "EdwardSmith1884  https://api.github.com/users/EdwardSmith1884  User   \n",
       "frankhjwx              https://api.github.com/users/frankhjwx  User   \n",
       "salehjg                  https://api.github.com/users/salehjg  User   \n",
       "art-programmer    https://api.github.com/users/art-programmer  User   \n",
       "nschor                    https://api.github.com/users/nschor  User   \n",
       "bertjiazheng        https://api.github.com/users/bertjiazheng  User   \n",
       "kuixu                      https://api.github.com/users/kuixu  User   \n",
       "orlitany                https://api.github.com/users/orlitany  User   \n",
       "\n",
       "                               name                             company  \\\n",
       "dragonir                   dragonir                                 NaN   \n",
       "nelsonkuang                     茶布多                              Aspire   \n",
       "mrdoob                          NaN                                 NaN   \n",
       "Mugen87              Michael Herzog                   Human Interactive   \n",
       "alteredq              AlteredQualia                                 NaN   \n",
       "WestLangley                     NaN                                 NaN   \n",
       "bhouston                Ben Houston                            ThreeKit   \n",
       "takahirox                  Takahiro                             Mozilla   \n",
       "looeee                    Lewy Blue                   Discover three.js   \n",
       "greggman                   Greggman                                 NaN   \n",
       "sunag                         sunag                               Sunag   \n",
       "gero3                           NaN                                 NaN   \n",
       "timzhang642      Yuxuan (Tim) Zhang                                 NaN   \n",
       "julyrashchenko                  NaN                                 NaN   \n",
       "EdwardSmith1884        Edward Smith                   McGill University   \n",
       "frankhjwx                 frankhjwx                                 NaN   \n",
       "salehjg                       Saleh                University of Tabriz   \n",
       "art-programmer                  NaN  Washington University in St. Louis   \n",
       "nschor                          NaN                                 NaN   \n",
       "bertjiazheng       Jia (Bert) Zheng        Manycore Tech Inc. (Kujiale)   \n",
       "kuixu                        Kui Xu                 Tsinghua University   \n",
       "orlitany                  Or Litany                              Nvidia   \n",
       "\n",
       "                                     location hireable  \\\n",
       "dragonir                                  NaN     True   \n",
       "nelsonkuang                                广州     True   \n",
       "mrdoob                                    NaN      NaN   \n",
       "Mugen87                               Germany      NaN   \n",
       "alteredq                                  NaN      NaN   \n",
       "WestLangley                               NaN      NaN   \n",
       "bhouston                       Ottawa, Canada      NaN   \n",
       "takahirox                       Mountain View     True   \n",
       "looeee                                Ireland     True   \n",
       "greggman                                Earth      NaN   \n",
       "sunag                        Brazil, Curitiba      NaN   \n",
       "gero3                                     NaN      NaN   \n",
       "timzhang642                            Boston      NaN   \n",
       "julyrashchenko                            NaN      NaN   \n",
       "EdwardSmith1884                           NaN      NaN   \n",
       "frankhjwx                     Shanghai, China      NaN   \n",
       "salehjg                                   NaN      NaN   \n",
       "art-programmer                            NaN      NaN   \n",
       "nschor                                    NaN      NaN   \n",
       "bertjiazheng                  Hangzhou, China      NaN   \n",
       "kuixu            Haidian Dist, Beijing, China      NaN   \n",
       "orlitany                                  NaN      NaN   \n",
       "\n",
       "                                                               bio  \\\n",
       "dragonir                                                     我自食其力   \n",
       "nelsonkuang                          图形学 is fascinating, I love CG   \n",
       "mrdoob                                                         NaN   \n",
       "Mugen87                                         I :heart: three.js   \n",
       "alteredq                                                       NaN   \n",
       "WestLangley                                                    NaN   \n",
       "bhouston         Coding computer graphics since 1990. Founder &...   \n",
       "takahirox                          Average level computer engineer   \n",
       "looeee           Author of the book Discover three.js! \\r\\n\\r\\n...   \n",
       "greggman                    30 years of games\\r\\n5 years of Chrome   \n",
       "sunag                                                          NaN   \n",
       "gero3                                                          NaN   \n",
       "timzhang642                                           CV + CG + ML   \n",
       "julyrashchenko                                                 NaN   \n",
       "EdwardSmith1884  PhD student at McGill University. Visiting res...   \n",
       "frankhjwx                     Game Programmer, Graphics Programmer   \n",
       "salehjg                              WAR IS HELL, #LongLiveUkraine   \n",
       "art-programmer                                                 NaN   \n",
       "nschor                                                         NaN   \n",
       "bertjiazheng     Computer Vision Engineer & Researcher @manycor...   \n",
       "kuixu            Researcher, interested in Computational Biolog...   \n",
       "orlitany                                                       NaN   \n",
       "\n",
       "                 public_repos  public_gists  followers  following  \n",
       "dragonir                  285             5        342         34  \n",
       "nelsonkuang                55             0        156         22  \n",
       "mrdoob                     42            68      18723        169  \n",
       "Mugen87                    11             1        664         34  \n",
       "alteredq                    6             3       1131          4  \n",
       "WestLangley                 1             1        198          0  \n",
       "bhouston                   14            19        182         33  \n",
       "takahirox                 122             0        544         14  \n",
       "looeee                     22             2        283          2  \n",
       "greggman                  305           333       1369          3  \n",
       "sunag                      12             0         78          2  \n",
       "gero3                      66            16         51          1  \n",
       "timzhang642                19             1        520         27  \n",
       "julyrashchenko              3             1          0          0  \n",
       "EdwardSmith1884            15             0         73          2  \n",
       "frankhjwx                  25             1         39         31  \n",
       "salehjg                    85             9         15        114  \n",
       "art-programmer             21             0        169          3  \n",
       "nschor                      7             0          3          1  \n",
       "bertjiazheng               12             3        111         26  \n",
       "kuixu                     160             1        225        151  \n",
       "orlitany                   21             0        106          0  "
      ]
     },
     "execution_count": 57,
     "metadata": {},
     "output_type": "execute_result"
    }
   ],
   "source": [
    "pd.read_csv('most_updated_contributor_info_stop25.csv',index_col=0)"
   ]
  },
  {
   "cell_type": "code",
   "execution_count": 32,
   "id": "labeled-imperial",
   "metadata": {},
   "outputs": [
    {
     "data": {
      "text/html": [
       "<div>\n",
       "<style scoped>\n",
       "    .dataframe tbody tr th:only-of-type {\n",
       "        vertical-align: middle;\n",
       "    }\n",
       "\n",
       "    .dataframe tbody tr th {\n",
       "        vertical-align: top;\n",
       "    }\n",
       "\n",
       "    .dataframe thead th {\n",
       "        text-align: right;\n",
       "    }\n",
       "</style>\n",
       "<table border=\"1\" class=\"dataframe\">\n",
       "  <thead>\n",
       "    <tr style=\"text-align: right;\">\n",
       "      <th></th>\n",
       "      <th>login</th>\n",
       "      <th>url</th>\n",
       "      <th>type</th>\n",
       "      <th>name</th>\n",
       "      <th>company</th>\n",
       "      <th>location</th>\n",
       "      <th>hireable</th>\n",
       "      <th>bio</th>\n",
       "      <th>public_repos</th>\n",
       "      <th>public_gists</th>\n",
       "      <th>followers</th>\n",
       "      <th>following</th>\n",
       "    </tr>\n",
       "  </thead>\n",
       "  <tbody>\n",
       "    <tr>\n",
       "      <th>dragonir</th>\n",
       "      <td>dragonir</td>\n",
       "      <td>https://api.github.com/users/dragonir</td>\n",
       "      <td>User</td>\n",
       "      <td>dragonir</td>\n",
       "      <td>None</td>\n",
       "      <td>None</td>\n",
       "      <td>True</td>\n",
       "      <td>我自食其力</td>\n",
       "      <td>285</td>\n",
       "      <td>5</td>\n",
       "      <td>342</td>\n",
       "      <td>34</td>\n",
       "    </tr>\n",
       "    <tr>\n",
       "      <th>nelsonkuang</th>\n",
       "      <td>nelsonkuang</td>\n",
       "      <td>https://api.github.com/users/nelsonkuang</td>\n",
       "      <td>User</td>\n",
       "      <td>茶布多</td>\n",
       "      <td>Aspire</td>\n",
       "      <td>广州</td>\n",
       "      <td>True</td>\n",
       "      <td>图形学 is fascinating, I love CG</td>\n",
       "      <td>55</td>\n",
       "      <td>0</td>\n",
       "      <td>156</td>\n",
       "      <td>22</td>\n",
       "    </tr>\n",
       "  </tbody>\n",
       "</table>\n",
       "</div>"
      ],
      "text/plain": [
       "                   login                                       url  type  \\\n",
       "dragonir        dragonir     https://api.github.com/users/dragonir  User   \n",
       "nelsonkuang  nelsonkuang  https://api.github.com/users/nelsonkuang  User   \n",
       "\n",
       "                 name company location  hireable  \\\n",
       "dragonir     dragonir    None     None      True   \n",
       "nelsonkuang       茶布多  Aspire       广州      True   \n",
       "\n",
       "                                       bio  public_repos  public_gists  \\\n",
       "dragonir                             我自食其力           285             5   \n",
       "nelsonkuang  图形学 is fascinating, I love CG            55             0   \n",
       "\n",
       "             followers  following  \n",
       "dragonir           342         34  \n",
       "nelsonkuang        156         22  "
      ]
     },
     "execution_count": 32,
     "metadata": {},
     "output_type": "execute_result"
    }
   ],
   "source": [
    "contributor_info = get_repo_contributors(list(repos['url'])[0],10, repo_contributor_rel, list(repos.index)[0])\n",
    "pd.DataFrame.from_dict(contributor_info,orient='index')"
   ]
  },
  {
   "cell_type": "code",
   "execution_count": 54,
   "id": "intended-blank",
   "metadata": {},
   "outputs": [
    {
     "data": {
      "text/html": [
       "<div>\n",
       "<style scoped>\n",
       "    .dataframe tbody tr th:only-of-type {\n",
       "        vertical-align: middle;\n",
       "    }\n",
       "\n",
       "    .dataframe tbody tr th {\n",
       "        vertical-align: top;\n",
       "    }\n",
       "\n",
       "    .dataframe thead th {\n",
       "        text-align: right;\n",
       "    }\n",
       "</style>\n",
       "<table border=\"1\" class=\"dataframe\">\n",
       "  <thead>\n",
       "    <tr style=\"text-align: right;\">\n",
       "      <th></th>\n",
       "      <th>Repo</th>\n",
       "      <th>Contributor</th>\n",
       "      <th>Contributions</th>\n",
       "    </tr>\n",
       "  </thead>\n",
       "  <tbody>\n",
       "    <tr>\n",
       "      <th>10</th>\n",
       "      <td>576201</td>\n",
       "      <td>Mugen87</td>\n",
       "      <td>3976</td>\n",
       "    </tr>\n",
       "    <tr>\n",
       "      <th>1</th>\n",
       "      <td>576201</td>\n",
       "      <td>mrdoob</td>\n",
       "      <td>17869</td>\n",
       "    </tr>\n",
       "    <tr>\n",
       "      <th>2</th>\n",
       "      <td>576201</td>\n",
       "      <td>looeee</td>\n",
       "      <td>697</td>\n",
       "    </tr>\n",
       "    <tr>\n",
       "      <th>19</th>\n",
       "      <td>576201</td>\n",
       "      <td>sunag</td>\n",
       "      <td>588</td>\n",
       "    </tr>\n",
       "    <tr>\n",
       "      <th>18</th>\n",
       "      <td>576201</td>\n",
       "      <td>greggman</td>\n",
       "      <td>636</td>\n",
       "    </tr>\n",
       "    <tr>\n",
       "      <th>5</th>\n",
       "      <td>576201</td>\n",
       "      <td>gero3</td>\n",
       "      <td>503</td>\n",
       "    </tr>\n",
       "    <tr>\n",
       "      <th>17</th>\n",
       "      <td>576201</td>\n",
       "      <td>takahirox</td>\n",
       "      <td>800</td>\n",
       "    </tr>\n",
       "    <tr>\n",
       "      <th>15</th>\n",
       "      <td>576201</td>\n",
       "      <td>bhouston</td>\n",
       "      <td>840</td>\n",
       "    </tr>\n",
       "    <tr>\n",
       "      <th>14</th>\n",
       "      <td>576201</td>\n",
       "      <td>alteredq</td>\n",
       "      <td>1753</td>\n",
       "    </tr>\n",
       "    <tr>\n",
       "      <th>11</th>\n",
       "      <td>576201</td>\n",
       "      <td>WestLangley</td>\n",
       "      <td>1028</td>\n",
       "    </tr>\n",
       "    <tr>\n",
       "      <th>16</th>\n",
       "      <td>100120455</td>\n",
       "      <td>salehjg</td>\n",
       "      <td>5</td>\n",
       "    </tr>\n",
       "    <tr>\n",
       "      <th>13</th>\n",
       "      <td>100120455</td>\n",
       "      <td>kuixu</td>\n",
       "      <td>3</td>\n",
       "    </tr>\n",
       "    <tr>\n",
       "      <th>0</th>\n",
       "      <td>100120455</td>\n",
       "      <td>art-programmer</td>\n",
       "      <td>4</td>\n",
       "    </tr>\n",
       "    <tr>\n",
       "      <th>20</th>\n",
       "      <td>100120455</td>\n",
       "      <td>frankhjwx</td>\n",
       "      <td>6</td>\n",
       "    </tr>\n",
       "    <tr>\n",
       "      <th>8</th>\n",
       "      <td>100120455</td>\n",
       "      <td>EdwardSmith1884</td>\n",
       "      <td>6</td>\n",
       "    </tr>\n",
       "    <tr>\n",
       "      <th>7</th>\n",
       "      <td>100120455</td>\n",
       "      <td>orlitany</td>\n",
       "      <td>3</td>\n",
       "    </tr>\n",
       "    <tr>\n",
       "      <th>4</th>\n",
       "      <td>100120455</td>\n",
       "      <td>bertjiazheng</td>\n",
       "      <td>4</td>\n",
       "    </tr>\n",
       "    <tr>\n",
       "      <th>3</th>\n",
       "      <td>100120455</td>\n",
       "      <td>julyrashchenko</td>\n",
       "      <td>7</td>\n",
       "    </tr>\n",
       "    <tr>\n",
       "      <th>12</th>\n",
       "      <td>100120455</td>\n",
       "      <td>timzhang642</td>\n",
       "      <td>221</td>\n",
       "    </tr>\n",
       "    <tr>\n",
       "      <th>21</th>\n",
       "      <td>100120455</td>\n",
       "      <td>nschor</td>\n",
       "      <td>4</td>\n",
       "    </tr>\n",
       "    <tr>\n",
       "      <th>9</th>\n",
       "      <td>442942525</td>\n",
       "      <td>nelsonkuang</td>\n",
       "      <td>2</td>\n",
       "    </tr>\n",
       "    <tr>\n",
       "      <th>6</th>\n",
       "      <td>442942525</td>\n",
       "      <td>dragonir</td>\n",
       "      <td>77</td>\n",
       "    </tr>\n",
       "  </tbody>\n",
       "</table>\n",
       "</div>"
      ],
      "text/plain": [
       "         Repo      Contributor  Contributions\n",
       "10     576201          Mugen87           3976\n",
       "1      576201           mrdoob          17869\n",
       "2      576201           looeee            697\n",
       "19     576201            sunag            588\n",
       "18     576201         greggman            636\n",
       "5      576201            gero3            503\n",
       "17     576201        takahirox            800\n",
       "15     576201         bhouston            840\n",
       "14     576201         alteredq           1753\n",
       "11     576201      WestLangley           1028\n",
       "16  100120455          salehjg              5\n",
       "13  100120455            kuixu              3\n",
       "0   100120455   art-programmer              4\n",
       "20  100120455        frankhjwx              6\n",
       "8   100120455  EdwardSmith1884              6\n",
       "7   100120455         orlitany              3\n",
       "4   100120455     bertjiazheng              4\n",
       "3   100120455   julyrashchenko              7\n",
       "12  100120455      timzhang642            221\n",
       "21  100120455           nschor              4\n",
       "9   442942525      nelsonkuang              2\n",
       "6   442942525         dragonir             77"
      ]
     },
     "execution_count": 54,
     "metadata": {},
     "output_type": "execute_result"
    }
   ],
   "source": [
    "pd.DataFrame(repo_contributor_rel, columns=['Repo','Contributor','Contributions']).sort_values('Repo')"
   ]
  },
  {
   "cell_type": "code",
   "execution_count": 141,
   "id": "behind-matrix",
   "metadata": {},
   "outputs": [
    {
     "name": "stderr",
     "output_type": "stream",
     "text": [
      "Scraping top GitHub URLs...: 100%|██████████| 50/50 [09:36<00:00, 11.52s/it]\n",
      "Scraping top repo info...: 100%|██████████| 450/450 [01:09<00:00,  6.43it/s]\n"
     ]
    },
    {
     "name": "stdout",
     "output_type": "stream",
     "text": [
      "3D 449\n"
     ]
    },
    {
     "name": "stderr",
     "output_type": "stream",
     "text": [
      "Scraping top GitHub URLs...: 100%|██████████| 50/50 [09:42<00:00, 11.65s/it]\n",
      "Scraping top repo info...: 100%|██████████| 450/450 [01:09<00:00,  6.47it/s]\n"
     ]
    },
    {
     "name": "stdout",
     "output_type": "stream",
     "text": [
      "Algorithm 448\n"
     ]
    },
    {
     "name": "stderr",
     "output_type": "stream",
     "text": [
      "Scraping top GitHub URLs...: 100%|██████████| 50/50 [11:42<00:00, 14.06s/it]\n",
      "Scraping top repo info...: 100%|██████████| 430/430 [01:06<00:00,  6.48it/s]\n"
     ]
    },
    {
     "name": "stdout",
     "output_type": "stream",
     "text": [
      "Android 420\n"
     ]
    },
    {
     "name": "stderr",
     "output_type": "stream",
     "text": [
      "Scraping top GitHub URLs...: 100%|██████████| 50/50 [09:45<00:00, 11.70s/it]\n",
      "Scraping top repo info...: 100%|██████████| 450/450 [01:10<00:00,  6.35it/s]\n"
     ]
    },
    {
     "name": "stdout",
     "output_type": "stream",
     "text": [
      "API 391\n"
     ]
    },
    {
     "name": "stderr",
     "output_type": "stream",
     "text": [
      "Scraping top GitHub URLs...: 100%|██████████| 50/50 [09:36<00:00, 11.53s/it]\n",
      "Scraping top repo info...: 100%|██████████| 450/450 [01:09<00:00,  6.47it/s]\n"
     ]
    },
    {
     "name": "stdout",
     "output_type": "stream",
     "text": [
      "Arduino 439\n"
     ]
    },
    {
     "name": "stderr",
     "output_type": "stream",
     "text": [
      "Scraping top GitHub URLs...: 100%|██████████| 50/50 [09:37<00:00, 11.54s/it]\n",
      "Scraping top repo info...: 100%|██████████| 450/450 [01:08<00:00,  6.61it/s]\n"
     ]
    },
    {
     "name": "stdout",
     "output_type": "stream",
     "text": [
      "Atom 450\n"
     ]
    },
    {
     "name": "stderr",
     "output_type": "stream",
     "text": [
      "Scraping top GitHub URLs...: 100%|██████████| 50/50 [09:37<00:00, 11.55s/it]\n",
      "Scraping top repo info...: 100%|██████████| 450/450 [01:12<00:00,  6.17it/s]\n"
     ]
    },
    {
     "name": "stdout",
     "output_type": "stream",
     "text": [
      "aws 448\n"
     ]
    },
    {
     "name": "stderr",
     "output_type": "stream",
     "text": [
      "Scraping top GitHub URLs...: 100%|██████████| 50/50 [09:36<00:00, 11.53s/it]\n",
      "Scraping top repo info...: 100%|██████████| 450/450 [01:17<00:00,  5.83it/s]\n"
     ]
    },
    {
     "name": "stdout",
     "output_type": "stream",
     "text": [
      "azure 450\n"
     ]
    },
    {
     "name": "stderr",
     "output_type": "stream",
     "text": [
      "Scraping top GitHub URLs...: 100%|██████████| 50/50 [09:36<00:00, 11.52s/it]\n",
      "Scraping top repo info...: 100%|██████████| 450/450 [01:07<00:00,  6.62it/s]\n"
     ]
    },
    {
     "name": "stdout",
     "output_type": "stream",
     "text": [
      "bash 448\n"
     ]
    },
    {
     "name": "stderr",
     "output_type": "stream",
     "text": [
      "Scraping top GitHub URLs...: 100%|██████████| 50/50 [10:37<00:00, 12.74s/it]\n",
      "Scraping top repo info...: 100%|██████████| 440/440 [01:02<00:00,  7.02it/s]\n"
     ]
    },
    {
     "name": "stdout",
     "output_type": "stream",
     "text": [
      "bootstrap 435\n"
     ]
    },
    {
     "name": "stderr",
     "output_type": "stream",
     "text": [
      "Scraping top GitHub URLs...: 100%|██████████| 50/50 [09:34<00:00, 11.50s/it]\n",
      "Scraping top repo info...: 100%|██████████| 450/450 [01:35<00:00,  4.71it/s]\n"
     ]
    },
    {
     "name": "stdout",
     "output_type": "stream",
     "text": [
      "chrome 449\n"
     ]
    },
    {
     "name": "stderr",
     "output_type": "stream",
     "text": [
      "Scraping top GitHub URLs...: 100%|██████████| 50/50 [09:39<00:00, 11.59s/it]\n",
      "Scraping top repo info...: 100%|██████████| 450/450 [01:35<00:00,  4.72it/s]\n"
     ]
    },
    {
     "name": "stdout",
     "output_type": "stream",
     "text": [
      "compiler 449\n"
     ]
    },
    {
     "name": "stderr",
     "output_type": "stream",
     "text": [
      "Scraping top GitHub URLs...: 100%|██████████| 50/50 [09:27<00:00, 11.36s/it]\n",
      "Scraping top repo info...: 100%|██████████| 46/46 [00:10<00:00,  4.58it/s]\n"
     ]
    },
    {
     "name": "stdout",
     "output_type": "stream",
     "text": [
      "crytocurrency 46\n"
     ]
    },
    {
     "name": "stderr",
     "output_type": "stream",
     "text": [
      "Scraping top GitHub URLs...: 100%|██████████| 50/50 [09:43<00:00, 11.67s/it]\n",
      "Scraping top repo info...: 100%|██████████| 450/450 [01:34<00:00,  4.74it/s]\n"
     ]
    },
    {
     "name": "stdout",
     "output_type": "stream",
     "text": [
      "data structures 449\n"
     ]
    },
    {
     "name": "stderr",
     "output_type": "stream",
     "text": [
      "Scraping top GitHub URLs...: 100%|██████████| 50/50 [09:41<00:00, 11.62s/it]\n",
      "Scraping top repo info...: 100%|██████████| 450/450 [01:10<00:00,  6.43it/s]\n"
     ]
    },
    {
     "name": "stdout",
     "output_type": "stream",
     "text": [
      "database 440\n"
     ]
    },
    {
     "name": "stderr",
     "output_type": "stream",
     "text": [
      "Scraping top GitHub URLs...: 100%|██████████| 50/50 [09:38<00:00, 11.57s/it]\n",
      "Scraping top repo info...: 100%|██████████| 450/450 [01:09<00:00,  6.44it/s]\n"
     ]
    },
    {
     "name": "stdout",
     "output_type": "stream",
     "text": [
      "data visualization 449\n"
     ]
    },
    {
     "name": "stderr",
     "output_type": "stream",
     "text": [
      "Scraping top GitHub URLs...: 100%|██████████| 50/50 [09:39<00:00, 11.60s/it]\n",
      "Scraping top repo info...: 100%|██████████| 450/450 [01:34<00:00,  4.79it/s]\n"
     ]
    },
    {
     "name": "stdout",
     "output_type": "stream",
     "text": [
      "deep learning 450\n"
     ]
    },
    {
     "name": "stderr",
     "output_type": "stream",
     "text": [
      "Scraping top GitHub URLs...: 100%|██████████| 50/50 [09:41<00:00, 11.63s/it]\n",
      "Scraping top repo info...: 100%|██████████| 450/450 [01:35<00:00,  4.73it/s]\n"
     ]
    },
    {
     "name": "stdout",
     "output_type": "stream",
     "text": [
      "data science 446\n"
     ]
    },
    {
     "name": "stderr",
     "output_type": "stream",
     "text": [
      "Scraping top GitHub URLs...: 100%|██████████| 50/50 [09:41<00:00, 11.62s/it]\n",
      "Scraping top repo info...: 100%|██████████| 450/450 [01:10<00:00,  6.36it/s]\n"
     ]
    },
    {
     "name": "stdout",
     "output_type": "stream",
     "text": [
      "deployment 445\n"
     ]
    },
    {
     "name": "stderr",
     "output_type": "stream",
     "text": [
      "Scraping top GitHub URLs...: 100%|██████████| 50/50 [09:38<00:00, 11.57s/it]\n",
      "Scraping top repo info...: 100%|██████████| 450/450 [01:07<00:00,  6.64it/s]\n"
     ]
    },
    {
     "name": "stdout",
     "output_type": "stream",
     "text": [
      "flask 450\n"
     ]
    },
    {
     "name": "stderr",
     "output_type": "stream",
     "text": [
      "Scraping top GitHub URLs...: 100%|██████████| 50/50 [09:39<00:00, 11.58s/it]\n",
      "Scraping top repo info...: 100%|██████████| 450/450 [01:12<00:00,  6.21it/s]\n"
     ]
    },
    {
     "name": "stdout",
     "output_type": "stream",
     "text": [
      "front end 439\n"
     ]
    },
    {
     "name": "stderr",
     "output_type": "stream",
     "text": [
      "Scraping top GitHub URLs...: 100%|██████████| 50/50 [09:46<00:00, 11.74s/it]\n",
      "Scraping top repo info...: 100%|██████████| 450/450 [01:07<00:00,  6.64it/s]\n"
     ]
    },
    {
     "name": "stdout",
     "output_type": "stream",
     "text": [
      "git 324\n"
     ]
    },
    {
     "name": "stderr",
     "output_type": "stream",
     "text": [
      "Scraping top GitHub URLs...: 100%|██████████| 50/50 [09:38<00:00, 11.58s/it]\n",
      "Scraping top repo info...: 100%|██████████| 450/450 [01:22<00:00,  5.43it/s]\n"
     ]
    },
    {
     "name": "stdout",
     "output_type": "stream",
     "text": [
      "google 438\n"
     ]
    },
    {
     "name": "stderr",
     "output_type": "stream",
     "text": [
      "Scraping top GitHub URLs...: 100%|██████████| 50/50 [09:39<00:00, 11.59s/it]\n",
      "Scraping top repo info...: 100%|██████████| 450/450 [01:36<00:00,  4.66it/s]\n"
     ]
    },
    {
     "name": "stdout",
     "output_type": "stream",
     "text": [
      "iOS 436\n"
     ]
    },
    {
     "name": "stderr",
     "output_type": "stream",
     "text": [
      "Scraping top GitHub URLs...: 100%|██████████| 50/50 [09:38<00:00, 11.58s/it]\n",
      "Scraping top repo info...: 100%|██████████| 450/450 [01:37<00:00,  4.64it/s]\n"
     ]
    },
    {
     "name": "stdout",
     "output_type": "stream",
     "text": [
      "json 449\n"
     ]
    },
    {
     "name": "stderr",
     "output_type": "stream",
     "text": [
      "Scraping top GitHub URLs...: 100%|██████████| 50/50 [09:44<00:00, 11.69s/it]\n",
      "Scraping top repo info...: 100%|██████████| 450/450 [01:38<00:00,  4.57it/s]\n"
     ]
    },
    {
     "name": "stdout",
     "output_type": "stream",
     "text": [
      "library 440\n"
     ]
    },
    {
     "name": "stderr",
     "output_type": "stream",
     "text": [
      "Scraping top GitHub URLs...: 100%|██████████| 50/50 [09:44<00:00, 11.69s/it]\n",
      "Scraping top repo info...: 100%|██████████| 450/450 [01:35<00:00,  4.73it/s]\n"
     ]
    },
    {
     "name": "stdout",
     "output_type": "stream",
     "text": [
      "machine learning 449\n"
     ]
    },
    {
     "name": "stderr",
     "output_type": "stream",
     "text": [
      "Scraping top GitHub URLs...: 100%|██████████| 50/50 [09:39<00:00, 11.58s/it]\n",
      "Scraping top repo info...: 100%|██████████| 450/450 [01:46<00:00,  4.21it/s]\n"
     ]
    },
    {
     "name": "stdout",
     "output_type": "stream",
     "text": [
      "macOS 450\n"
     ]
    },
    {
     "name": "stderr",
     "output_type": "stream",
     "text": [
      "Scraping top GitHub URLs...: 100%|██████████| 50/50 [09:41<00:00, 11.62s/it]\n",
      "Scraping top repo info...: 100%|██████████| 450/450 [01:36<00:00,  4.66it/s]\n"
     ]
    },
    {
     "name": "stdout",
     "output_type": "stream",
     "text": [
      "mobile 445\n"
     ]
    },
    {
     "name": "stderr",
     "output_type": "stream",
     "text": [
      "Scraping top GitHub URLs...: 100%|██████████| 50/50 [11:40<00:00, 14.00s/it]\n",
      "Scraping top repo info...: 100%|██████████| 430/430 [01:30<00:00,  4.78it/s]\n"
     ]
    },
    {
     "name": "stdout",
     "output_type": "stream",
     "text": [
      "modeling 430\n"
     ]
    },
    {
     "name": "stderr",
     "output_type": "stream",
     "text": [
      "Scraping top GitHub URLs...: 100%|██████████| 50/50 [09:38<00:00, 11.57s/it]\n",
      "Scraping top repo info...: 100%|██████████| 450/450 [01:38<00:00,  4.56it/s]\n"
     ]
    },
    {
     "name": "stdout",
     "output_type": "stream",
     "text": [
      "natural language processing 450\n"
     ]
    },
    {
     "name": "stderr",
     "output_type": "stream",
     "text": [
      "Scraping top GitHub URLs...: 100%|██████████| 50/50 [09:40<00:00, 11.62s/it]\n",
      "Scraping top repo info...: 100%|██████████| 450/450 [01:36<00:00,  4.67it/s]\n"
     ]
    },
    {
     "name": "stdout",
     "output_type": "stream",
     "text": [
      "neural network 450\n"
     ]
    },
    {
     "name": "stderr",
     "output_type": "stream",
     "text": [
      "Scraping top GitHub URLs...: 100%|██████████| 50/50 [09:38<00:00, 11.57s/it]\n",
      "Scraping top repo info...: 100%|██████████| 450/450 [01:36<00:00,  4.64it/s]\n"
     ]
    },
    {
     "name": "stdout",
     "output_type": "stream",
     "text": [
      "operating system 449\n"
     ]
    },
    {
     "name": "stderr",
     "output_type": "stream",
     "text": [
      "Scraping top GitHub URLs...: 100%|██████████| 50/50 [09:39<00:00, 11.60s/it]\n",
      "Scraping top repo info...: 100%|██████████| 450/450 [01:32<00:00,  4.87it/s]\n"
     ]
    },
    {
     "name": "stdout",
     "output_type": "stream",
     "text": [
      "parsing 449\n"
     ]
    },
    {
     "name": "stderr",
     "output_type": "stream",
     "text": [
      "Scraping top GitHub URLs...: 100%|██████████| 50/50 [09:39<00:00, 11.59s/it]\n",
      "Scraping top repo info...: 100%|██████████| 450/450 [01:36<00:00,  4.68it/s]\n"
     ]
    },
    {
     "name": "stdout",
     "output_type": "stream",
     "text": [
      "software 448\n"
     ]
    },
    {
     "name": "stderr",
     "output_type": "stream",
     "text": [
      "Scraping top GitHub URLs...: 100%|██████████| 50/50 [09:45<00:00, 11.71s/it]\n",
      "Scraping top repo info...: 100%|██████████| 450/450 [01:36<00:00,  4.66it/s]\n"
     ]
    },
    {
     "name": "stdout",
     "output_type": "stream",
     "text": [
      "server 428\n"
     ]
    },
    {
     "name": "stderr",
     "output_type": "stream",
     "text": [
      "Scraping top GitHub URLs...: 100%|██████████| 50/50 [13:36<00:00, 16.32s/it]\n",
      "Scraping top repo info...: 100%|██████████| 410/410 [01:31<00:00,  4.50it/s]\n"
     ]
    },
    {
     "name": "stdout",
     "output_type": "stream",
     "text": [
      "virtual reality 410\n"
     ]
    },
    {
     "name": "stderr",
     "output_type": "stream",
     "text": [
      "Scraping top GitHub URLs...: 100%|██████████| 50/50 [09:40<00:00, 11.61s/it]\n",
      "Scraping top repo info...: 100%|██████████| 450/450 [01:34<00:00,  4.78it/s]\n"
     ]
    },
    {
     "name": "stdout",
     "output_type": "stream",
     "text": [
      "windows 449\n"
     ]
    }
   ],
   "source": [
    "info = all_repo_info(github_topics, stop=75)\n",
    "topic_rel = topic_relationship_table(info)\n",
    "topic_rel.to_csv('topic_relationship_table_stop25to75.csv')"
   ]
  },
  {
   "cell_type": "code",
   "execution_count": 90,
   "id": "narrative-threat",
   "metadata": {},
   "outputs": [
    {
     "data": {
      "text/plain": [
       "38"
      ]
     },
     "execution_count": 90,
     "metadata": {},
     "output_type": "execute_result"
    }
   ],
   "source": [
    "len(github_topics)"
   ]
  },
  {
   "cell_type": "code",
   "execution_count": 139,
   "id": "broadband-recovery",
   "metadata": {},
   "outputs": [
    {
     "data": {
      "text/html": [
       "<div>\n",
       "<style scoped>\n",
       "    .dataframe tbody tr th:only-of-type {\n",
       "        vertical-align: middle;\n",
       "    }\n",
       "\n",
       "    .dataframe tbody tr th {\n",
       "        vertical-align: top;\n",
       "    }\n",
       "\n",
       "    .dataframe thead th {\n",
       "        text-align: right;\n",
       "    }\n",
       "</style>\n",
       "<table border=\"1\" class=\"dataframe\">\n",
       "  <thead>\n",
       "    <tr style=\"text-align: right;\">\n",
       "      <th></th>\n",
       "      <th>name</th>\n",
       "      <th>stargazers_count</th>\n",
       "      <th>forks_count</th>\n",
       "      <th>subscribers_count</th>\n",
       "      <th>topics</th>\n",
       "      <th>language</th>\n",
       "      <th>created_at</th>\n",
       "      <th>updated_at</th>\n",
       "      <th>url</th>\n",
       "      <th>search_word</th>\n",
       "    </tr>\n",
       "  </thead>\n",
       "  <tbody>\n",
       "    <tr>\n",
       "      <th>442942525</th>\n",
       "      <td>3d</td>\n",
       "      <td>1276</td>\n",
       "      <td>745</td>\n",
       "      <td>25</td>\n",
       "      <td>[3d, canvas, css, html, javascript, reactjs, s...</td>\n",
       "      <td>JavaScript</td>\n",
       "      <td>2021-12-30T02:19:09Z</td>\n",
       "      <td>2022-04-14T02:03:05Z</td>\n",
       "      <td>/dragonir/3d</td>\n",
       "      <td>3D</td>\n",
       "    </tr>\n",
       "    <tr>\n",
       "      <th>576201</th>\n",
       "      <td>three.js</td>\n",
       "      <td>80956</td>\n",
       "      <td>31338</td>\n",
       "      <td>2545</td>\n",
       "      <td>[3d, augmented-reality, canvas, html5, javascr...</td>\n",
       "      <td>JavaScript</td>\n",
       "      <td>2010-03-23T18:58:01Z</td>\n",
       "      <td>2022-04-14T09:56:48Z</td>\n",
       "      <td>/mrdoob/three.js</td>\n",
       "      <td>3D</td>\n",
       "    </tr>\n",
       "    <tr>\n",
       "      <th>100120455</th>\n",
       "      <td>3D-Machine-Learning</td>\n",
       "      <td>7811</td>\n",
       "      <td>1625</td>\n",
       "      <td>588</td>\n",
       "      <td>[3d, 3d-reconstruction, constructive-solid-geo...</td>\n",
       "      <td>None</td>\n",
       "      <td>2017-08-12T15:20:54Z</td>\n",
       "      <td>2022-04-13T14:14:44Z</td>\n",
       "      <td>/timzhang642/3D-Machine-Learning</td>\n",
       "      <td>3D</td>\n",
       "    </tr>\n",
       "    <tr>\n",
       "      <th>16971353</th>\n",
       "      <td>3D</td>\n",
       "      <td>131</td>\n",
       "      <td>65</td>\n",
       "      <td>52</td>\n",
       "      <td>[]</td>\n",
       "      <td>None</td>\n",
       "      <td>2014-02-19T02:27:32Z</td>\n",
       "      <td>2021-12-29T06:33:38Z</td>\n",
       "      <td>/iliterobotics/3D</td>\n",
       "      <td>3D</td>\n",
       "    </tr>\n",
       "    <tr>\n",
       "      <th>254127753</th>\n",
       "      <td>3d-photo-inpainting</td>\n",
       "      <td>5869</td>\n",
       "      <td>908</td>\n",
       "      <td>145</td>\n",
       "      <td>[3d-photo, novel-view-synthesis]</td>\n",
       "      <td>Python</td>\n",
       "      <td>2020-04-08T15:31:45Z</td>\n",
       "      <td>2022-04-14T09:53:49Z</td>\n",
       "      <td>/vt-vl-lab/3d-photo-inpainting</td>\n",
       "      <td>3D</td>\n",
       "    </tr>\n",
       "    <tr>\n",
       "      <th>...</th>\n",
       "      <td>...</td>\n",
       "      <td>...</td>\n",
       "      <td>...</td>\n",
       "      <td>...</td>\n",
       "      <td>...</td>\n",
       "      <td>...</td>\n",
       "      <td>...</td>\n",
       "      <td>...</td>\n",
       "      <td>...</td>\n",
       "      <td>...</td>\n",
       "    </tr>\n",
       "    <tr>\n",
       "      <th>66768460</th>\n",
       "      <td>Windows-Rootkits</td>\n",
       "      <td>348</td>\n",
       "      <td>166</td>\n",
       "      <td>27</td>\n",
       "      <td>[]</td>\n",
       "      <td>C</td>\n",
       "      <td>2016-08-28T13:03:25Z</td>\n",
       "      <td>2022-04-09T00:31:55Z</td>\n",
       "      <td>/ciyze0101/Windows-Rootkits</td>\n",
       "      <td>windows</td>\n",
       "    </tr>\n",
       "    <tr>\n",
       "      <th>351432397</th>\n",
       "      <td>Swin-Transformer</td>\n",
       "      <td>7781</td>\n",
       "      <td>1269</td>\n",
       "      <td>122</td>\n",
       "      <td>[ade20k, image-classification, imagenet, mask-...</td>\n",
       "      <td>Python</td>\n",
       "      <td>2021-03-25T12:42:36Z</td>\n",
       "      <td>2022-04-14T13:24:53Z</td>\n",
       "      <td>/microsoft/Swin-Transformer</td>\n",
       "      <td>windows</td>\n",
       "    </tr>\n",
       "    <tr>\n",
       "      <th>38767563</th>\n",
       "      <td>Rocket.Chat.Electron</td>\n",
       "      <td>1348</td>\n",
       "      <td>565</td>\n",
       "      <td>113</td>\n",
       "      <td>[chat, collaboration, desktop, electron, foss,...</td>\n",
       "      <td>TypeScript</td>\n",
       "      <td>2015-07-08T16:56:41Z</td>\n",
       "      <td>2022-04-12T05:17:19Z</td>\n",
       "      <td>/RocketChat/Rocket.Chat.Electron</td>\n",
       "      <td>windows</td>\n",
       "    </tr>\n",
       "    <tr>\n",
       "      <th>51450581</th>\n",
       "      <td>awesome-windows-exploitation</td>\n",
       "      <td>55</td>\n",
       "      <td>590</td>\n",
       "      <td>3</td>\n",
       "      <td>[]</td>\n",
       "      <td>None</td>\n",
       "      <td>2016-02-10T15:41:56Z</td>\n",
       "      <td>2022-04-07T20:09:21Z</td>\n",
       "      <td>/GuardianRG/awesome-windows-exploitation</td>\n",
       "      <td>windows</td>\n",
       "    </tr>\n",
       "    <tr>\n",
       "      <th>62802730</th>\n",
       "      <td>winafl</td>\n",
       "      <td>1927</td>\n",
       "      <td>478</td>\n",
       "      <td>116</td>\n",
       "      <td>[afl, fuzzing, security]</td>\n",
       "      <td>C</td>\n",
       "      <td>2016-07-07T11:46:59Z</td>\n",
       "      <td>2022-04-13T16:54:56Z</td>\n",
       "      <td>/googleprojectzero/winafl</td>\n",
       "      <td>windows</td>\n",
       "    </tr>\n",
       "  </tbody>\n",
       "</table>\n",
       "<p>7945 rows × 10 columns</p>\n",
       "</div>"
      ],
      "text/plain": [
       "                                   name stargazers_count forks_count  \\\n",
       "442942525                            3d             1276         745   \n",
       "576201                         three.js            80956       31338   \n",
       "100120455           3D-Machine-Learning             7811        1625   \n",
       "16971353                             3D              131          65   \n",
       "254127753           3d-photo-inpainting             5869         908   \n",
       "...                                 ...              ...         ...   \n",
       "66768460               Windows-Rootkits              348         166   \n",
       "351432397              Swin-Transformer             7781        1269   \n",
       "38767563           Rocket.Chat.Electron             1348         565   \n",
       "51450581   awesome-windows-exploitation               55         590   \n",
       "62802730                         winafl             1927         478   \n",
       "\n",
       "          subscribers_count  \\\n",
       "442942525                25   \n",
       "576201                 2545   \n",
       "100120455               588   \n",
       "16971353                 52   \n",
       "254127753               145   \n",
       "...                     ...   \n",
       "66768460                 27   \n",
       "351432397               122   \n",
       "38767563                113   \n",
       "51450581                  3   \n",
       "62802730                116   \n",
       "\n",
       "                                                      topics    language  \\\n",
       "442942525  [3d, canvas, css, html, javascript, reactjs, s...  JavaScript   \n",
       "576201     [3d, augmented-reality, canvas, html5, javascr...  JavaScript   \n",
       "100120455  [3d, 3d-reconstruction, constructive-solid-geo...        None   \n",
       "16971353                                                  []        None   \n",
       "254127753                   [3d-photo, novel-view-synthesis]      Python   \n",
       "...                                                      ...         ...   \n",
       "66768460                                                  []           C   \n",
       "351432397  [ade20k, image-classification, imagenet, mask-...      Python   \n",
       "38767563   [chat, collaboration, desktop, electron, foss,...  TypeScript   \n",
       "51450581                                                  []        None   \n",
       "62802730                            [afl, fuzzing, security]           C   \n",
       "\n",
       "                     created_at            updated_at  \\\n",
       "442942525  2021-12-30T02:19:09Z  2022-04-14T02:03:05Z   \n",
       "576201     2010-03-23T18:58:01Z  2022-04-14T09:56:48Z   \n",
       "100120455  2017-08-12T15:20:54Z  2022-04-13T14:14:44Z   \n",
       "16971353   2014-02-19T02:27:32Z  2021-12-29T06:33:38Z   \n",
       "254127753  2020-04-08T15:31:45Z  2022-04-14T09:53:49Z   \n",
       "...                         ...                   ...   \n",
       "66768460   2016-08-28T13:03:25Z  2022-04-09T00:31:55Z   \n",
       "351432397  2021-03-25T12:42:36Z  2022-04-14T13:24:53Z   \n",
       "38767563   2015-07-08T16:56:41Z  2022-04-12T05:17:19Z   \n",
       "51450581   2016-02-10T15:41:56Z  2022-04-07T20:09:21Z   \n",
       "62802730   2016-07-07T11:46:59Z  2022-04-13T16:54:56Z   \n",
       "\n",
       "                                                url search_word  \n",
       "442942525                              /dragonir/3d          3D  \n",
       "576201                             /mrdoob/three.js          3D  \n",
       "100120455          /timzhang642/3D-Machine-Learning          3D  \n",
       "16971353                          /iliterobotics/3D          3D  \n",
       "254127753            /vt-vl-lab/3d-photo-inpainting          3D  \n",
       "...                                             ...         ...  \n",
       "66768460                /ciyze0101/Windows-Rootkits     windows  \n",
       "351432397               /microsoft/Swin-Transformer     windows  \n",
       "38767563           /RocketChat/Rocket.Chat.Electron     windows  \n",
       "51450581   /GuardianRG/awesome-windows-exploitation     windows  \n",
       "62802730                  /googleprojectzero/winafl     windows  \n",
       "\n",
       "[7945 rows x 10 columns]"
      ]
     },
     "execution_count": 139,
     "metadata": {},
     "output_type": "execute_result"
    }
   ],
   "source": [
    "info[info.language != np.nan]"
   ]
  },
  {
   "cell_type": "code",
   "execution_count": 127,
   "id": "static-longer",
   "metadata": {},
   "outputs": [
    {
     "data": {
      "text/html": [
       "<div>\n",
       "<style scoped>\n",
       "    .dataframe tbody tr th:only-of-type {\n",
       "        vertical-align: middle;\n",
       "    }\n",
       "\n",
       "    .dataframe tbody tr th {\n",
       "        vertical-align: top;\n",
       "    }\n",
       "\n",
       "    .dataframe thead th {\n",
       "        text-align: right;\n",
       "    }\n",
       "</style>\n",
       "<table border=\"1\" class=\"dataframe\">\n",
       "  <thead>\n",
       "    <tr style=\"text-align: right;\">\n",
       "      <th></th>\n",
       "      <th>id</th>\n",
       "      <th>topic</th>\n",
       "    </tr>\n",
       "  </thead>\n",
       "  <tbody>\n",
       "    <tr>\n",
       "      <th>0</th>\n",
       "      <td>442942525</td>\n",
       "      <td>3d</td>\n",
       "    </tr>\n",
       "    <tr>\n",
       "      <th>1</th>\n",
       "      <td>442942525</td>\n",
       "      <td>canvas</td>\n",
       "    </tr>\n",
       "    <tr>\n",
       "      <th>2</th>\n",
       "      <td>442942525</td>\n",
       "      <td>css</td>\n",
       "    </tr>\n",
       "    <tr>\n",
       "      <th>3</th>\n",
       "      <td>442942525</td>\n",
       "      <td>html</td>\n",
       "    </tr>\n",
       "    <tr>\n",
       "      <th>4</th>\n",
       "      <td>442942525</td>\n",
       "      <td>javascript</td>\n",
       "    </tr>\n",
       "    <tr>\n",
       "      <th>...</th>\n",
       "      <td>...</td>\n",
       "      <td>...</td>\n",
       "    </tr>\n",
       "    <tr>\n",
       "      <th>26060</th>\n",
       "      <td>38767563</td>\n",
       "      <td>rocketchat</td>\n",
       "    </tr>\n",
       "    <tr>\n",
       "      <th>26061</th>\n",
       "      <td>38767563</td>\n",
       "      <td>windows</td>\n",
       "    </tr>\n",
       "    <tr>\n",
       "      <th>26062</th>\n",
       "      <td>62802730</td>\n",
       "      <td>afl</td>\n",
       "    </tr>\n",
       "    <tr>\n",
       "      <th>26063</th>\n",
       "      <td>62802730</td>\n",
       "      <td>fuzzing</td>\n",
       "    </tr>\n",
       "    <tr>\n",
       "      <th>26064</th>\n",
       "      <td>62802730</td>\n",
       "      <td>security</td>\n",
       "    </tr>\n",
       "  </tbody>\n",
       "</table>\n",
       "<p>26065 rows × 2 columns</p>\n",
       "</div>"
      ],
      "text/plain": [
       "              id       topic\n",
       "0      442942525          3d\n",
       "1      442942525      canvas\n",
       "2      442942525         css\n",
       "3      442942525        html\n",
       "4      442942525  javascript\n",
       "...          ...         ...\n",
       "26060   38767563  rocketchat\n",
       "26061   38767563     windows\n",
       "26062   62802730         afl\n",
       "26063   62802730     fuzzing\n",
       "26064   62802730    security\n",
       "\n",
       "[26065 rows x 2 columns]"
      ]
     },
     "execution_count": 127,
     "metadata": {},
     "output_type": "execute_result"
    }
   ],
   "source": [
    "topic_rel"
   ]
  },
  {
   "cell_type": "code",
   "execution_count": 47,
   "id": "tropical-murder",
   "metadata": {},
   "outputs": [
    {
     "data": {
      "text/plain": [
       "{'id': 155662306,\n",
       " 'node_id': 'MDEwOlJlcG9zaXRvcnkxNTU2NjIzMDY=',\n",
       " 'name': 'homemade-machine-learning',\n",
       " 'full_name': 'trekhleb/homemade-machine-learning',\n",
       " 'private': False,\n",
       " 'owner': {'login': 'trekhleb',\n",
       "  'id': 3000285,\n",
       "  'node_id': 'MDQ6VXNlcjMwMDAyODU=',\n",
       "  'avatar_url': 'https://avatars.githubusercontent.com/u/3000285?v=4',\n",
       "  'gravatar_id': '',\n",
       "  'url': 'https://api.github.com/users/trekhleb',\n",
       "  'html_url': 'https://github.com/trekhleb',\n",
       "  'followers_url': 'https://api.github.com/users/trekhleb/followers',\n",
       "  'following_url': 'https://api.github.com/users/trekhleb/following{/other_user}',\n",
       "  'gists_url': 'https://api.github.com/users/trekhleb/gists{/gist_id}',\n",
       "  'starred_url': 'https://api.github.com/users/trekhleb/starred{/owner}{/repo}',\n",
       "  'subscriptions_url': 'https://api.github.com/users/trekhleb/subscriptions',\n",
       "  'organizations_url': 'https://api.github.com/users/trekhleb/orgs',\n",
       "  'repos_url': 'https://api.github.com/users/trekhleb/repos',\n",
       "  'events_url': 'https://api.github.com/users/trekhleb/events{/privacy}',\n",
       "  'received_events_url': 'https://api.github.com/users/trekhleb/received_events',\n",
       "  'type': 'User',\n",
       "  'site_admin': False},\n",
       " 'html_url': 'https://github.com/trekhleb/homemade-machine-learning',\n",
       " 'description': '🤖 Python examples of popular machine learning algorithms with interactive Jupyter demos and math being explained',\n",
       " 'fork': False,\n",
       " 'url': 'https://api.github.com/repos/trekhleb/homemade-machine-learning',\n",
       " 'forks_url': 'https://api.github.com/repos/trekhleb/homemade-machine-learning/forks',\n",
       " 'keys_url': 'https://api.github.com/repos/trekhleb/homemade-machine-learning/keys{/key_id}',\n",
       " 'collaborators_url': 'https://api.github.com/repos/trekhleb/homemade-machine-learning/collaborators{/collaborator}',\n",
       " 'teams_url': 'https://api.github.com/repos/trekhleb/homemade-machine-learning/teams',\n",
       " 'hooks_url': 'https://api.github.com/repos/trekhleb/homemade-machine-learning/hooks',\n",
       " 'issue_events_url': 'https://api.github.com/repos/trekhleb/homemade-machine-learning/issues/events{/number}',\n",
       " 'events_url': 'https://api.github.com/repos/trekhleb/homemade-machine-learning/events',\n",
       " 'assignees_url': 'https://api.github.com/repos/trekhleb/homemade-machine-learning/assignees{/user}',\n",
       " 'branches_url': 'https://api.github.com/repos/trekhleb/homemade-machine-learning/branches{/branch}',\n",
       " 'tags_url': 'https://api.github.com/repos/trekhleb/homemade-machine-learning/tags',\n",
       " 'blobs_url': 'https://api.github.com/repos/trekhleb/homemade-machine-learning/git/blobs{/sha}',\n",
       " 'git_tags_url': 'https://api.github.com/repos/trekhleb/homemade-machine-learning/git/tags{/sha}',\n",
       " 'git_refs_url': 'https://api.github.com/repos/trekhleb/homemade-machine-learning/git/refs{/sha}',\n",
       " 'trees_url': 'https://api.github.com/repos/trekhleb/homemade-machine-learning/git/trees{/sha}',\n",
       " 'statuses_url': 'https://api.github.com/repos/trekhleb/homemade-machine-learning/statuses/{sha}',\n",
       " 'languages_url': 'https://api.github.com/repos/trekhleb/homemade-machine-learning/languages',\n",
       " 'stargazers_url': 'https://api.github.com/repos/trekhleb/homemade-machine-learning/stargazers',\n",
       " 'contributors_url': 'https://api.github.com/repos/trekhleb/homemade-machine-learning/contributors',\n",
       " 'subscribers_url': 'https://api.github.com/repos/trekhleb/homemade-machine-learning/subscribers',\n",
       " 'subscription_url': 'https://api.github.com/repos/trekhleb/homemade-machine-learning/subscription',\n",
       " 'commits_url': 'https://api.github.com/repos/trekhleb/homemade-machine-learning/commits{/sha}',\n",
       " 'git_commits_url': 'https://api.github.com/repos/trekhleb/homemade-machine-learning/git/commits{/sha}',\n",
       " 'comments_url': 'https://api.github.com/repos/trekhleb/homemade-machine-learning/comments{/number}',\n",
       " 'issue_comment_url': 'https://api.github.com/repos/trekhleb/homemade-machine-learning/issues/comments{/number}',\n",
       " 'contents_url': 'https://api.github.com/repos/trekhleb/homemade-machine-learning/contents/{+path}',\n",
       " 'compare_url': 'https://api.github.com/repos/trekhleb/homemade-machine-learning/compare/{base}...{head}',\n",
       " 'merges_url': 'https://api.github.com/repos/trekhleb/homemade-machine-learning/merges',\n",
       " 'archive_url': 'https://api.github.com/repos/trekhleb/homemade-machine-learning/{archive_format}{/ref}',\n",
       " 'downloads_url': 'https://api.github.com/repos/trekhleb/homemade-machine-learning/downloads',\n",
       " 'issues_url': 'https://api.github.com/repos/trekhleb/homemade-machine-learning/issues{/number}',\n",
       " 'pulls_url': 'https://api.github.com/repos/trekhleb/homemade-machine-learning/pulls{/number}',\n",
       " 'milestones_url': 'https://api.github.com/repos/trekhleb/homemade-machine-learning/milestones{/number}',\n",
       " 'notifications_url': 'https://api.github.com/repos/trekhleb/homemade-machine-learning/notifications{?since,all,participating}',\n",
       " 'labels_url': 'https://api.github.com/repos/trekhleb/homemade-machine-learning/labels{/name}',\n",
       " 'releases_url': 'https://api.github.com/repos/trekhleb/homemade-machine-learning/releases{/id}',\n",
       " 'deployments_url': 'https://api.github.com/repos/trekhleb/homemade-machine-learning/deployments',\n",
       " 'created_at': '2018-11-01T04:34:19Z',\n",
       " 'updated_at': '2022-04-12T20:17:01Z',\n",
       " 'pushed_at': '2022-03-12T16:46:32Z',\n",
       " 'git_url': 'git://github.com/trekhleb/homemade-machine-learning.git',\n",
       " 'ssh_url': 'git@github.com:trekhleb/homemade-machine-learning.git',\n",
       " 'clone_url': 'https://github.com/trekhleb/homemade-machine-learning.git',\n",
       " 'svn_url': 'https://github.com/trekhleb/homemade-machine-learning',\n",
       " 'homepage': '',\n",
       " 'size': 14826,\n",
       " 'stargazers_count': 19139,\n",
       " 'watchers_count': 19139,\n",
       " 'language': 'Jupyter Notebook',\n",
       " 'has_issues': True,\n",
       " 'has_projects': False,\n",
       " 'has_downloads': True,\n",
       " 'has_wiki': False,\n",
       " 'has_pages': False,\n",
       " 'forks_count': 3593,\n",
       " 'mirror_url': None,\n",
       " 'archived': False,\n",
       " 'disabled': False,\n",
       " 'open_issues_count': 21,\n",
       " 'license': {'key': 'mit',\n",
       "  'name': 'MIT License',\n",
       "  'spdx_id': 'MIT',\n",
       "  'url': 'https://api.github.com/licenses/mit',\n",
       "  'node_id': 'MDc6TGljZW5zZTEz'},\n",
       " 'allow_forking': True,\n",
       " 'is_template': False,\n",
       " 'topics': ['algorithm',\n",
       "  'jupyter',\n",
       "  'jupyter-notebook',\n",
       "  'machine-learning',\n",
       "  'machine-learning-algorithms',\n",
       "  'machinelearning',\n",
       "  'python'],\n",
       " 'visibility': 'public',\n",
       " 'forks': 3593,\n",
       " 'open_issues': 21,\n",
       " 'watchers': 19139,\n",
       " 'default_branch': 'master',\n",
       " 'permissions': {'admin': False,\n",
       "  'maintain': False,\n",
       "  'push': False,\n",
       "  'triage': False,\n",
       "  'pull': True},\n",
       " 'temp_clone_token': '',\n",
       " 'network_count': 3593,\n",
       " 'subscribers_count': 941}"
      ]
     },
     "execution_count": 47,
     "metadata": {},
     "output_type": "execute_result"
    }
   ],
   "source": [
    "repo_info"
   ]
  },
  {
   "cell_type": "code",
   "execution_count": null,
   "id": "sufficient-subscriber",
   "metadata": {},
   "outputs": [],
   "source": []
  }
 ],
 "metadata": {
  "kernelspec": {
   "display_name": "Python 3",
   "language": "python",
   "name": "python3"
  },
  "language_info": {
   "codemirror_mode": {
    "name": "ipython",
    "version": 3
   },
   "file_extension": ".py",
   "mimetype": "text/x-python",
   "name": "python",
   "nbconvert_exporter": "python",
   "pygments_lexer": "ipython3",
   "version": "3.7.9"
  }
 },
 "nbformat": 4,
 "nbformat_minor": 5
}
